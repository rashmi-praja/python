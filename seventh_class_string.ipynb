{
 "cells": [
  {
   "cell_type": "code",
   "execution_count": 4,
   "id": "a767e928-dc10-4cb1-93fd-17685979d6ed",
   "metadata": {},
   "outputs": [
    {
     "name": "stdout",
     "output_type": "stream",
     "text": [
      "<class 'str'>\n",
      "<class 'str'>\n",
      "<class 'str'>\n"
     ]
    }
   ],
   "source": [
    "#string\n",
    "#String: Imutable datatype\n",
    "a = \"Hello World\"\n",
    "b = 'Hello World'\n",
    "c = '''Hello World'''\n",
    "print(type(a))\n",
    "print(type(b))\n",
    "print(type(c))"
   ]
  },
  {
   "cell_type": "code",
   "execution_count": 2,
   "id": "c43c29a8-cdb3-4ecd-9e21-557688dda8e1",
   "metadata": {},
   "outputs": [],
   "source": [
    "# '+' operator: concantenation\n",
    "# '*' operator: duplicates string"
   ]
  },
  {
   "cell_type": "code",
   "execution_count": 3,
   "id": "a6e64b3c-ad71-4d27-888a-052d2fd3efd7",
   "metadata": {},
   "outputs": [
    {
     "name": "stdout",
     "output_type": "stream",
     "text": [
      "Hello WorldHello World\n"
     ]
    }
   ],
   "source": [
    "a = \"Hello World\"\n",
    "print(a*2)"
   ]
  },
  {
   "cell_type": "code",
   "execution_count": 20,
   "id": "8cc00fb9-74cb-498f-b6b4-4f02443ac7d2",
   "metadata": {},
   "outputs": [
    {
     "name": "stdout",
     "output_type": "stream",
     "text": [
      "H\n",
      "Hello\n",
      "HloWrd\n"
     ]
    }
   ],
   "source": [
    "a = \"Hello World\"\n",
    "print(a[0])\n",
    "print(a[0:5])   #slicing #prints only from 0 to 4th index\n",
    "print(a[0:11:2])  #index increment by 2"
   ]
  },
  {
   "cell_type": "code",
   "execution_count": 21,
   "id": "08b6d458-cd40-44e3-a3b6-de531fdbc4cc",
   "metadata": {},
   "outputs": [
    {
     "name": "stdout",
     "output_type": "stream",
     "text": [
      "11\n"
     ]
    }
   ],
   "source": [
    "a = \"Hello World\"\n",
    "l = len(a)\n",
    "print(l)"
   ]
  },
  {
   "cell_type": "code",
   "execution_count": 2,
   "id": "89fbcdf1-cb42-48f9-97aa-50ad05c74b97",
   "metadata": {
    "scrolled": true
   },
   "outputs": [
    {
     "name": "stdout",
     "output_type": "stream",
     "text": [
      "0 H\n",
      "1 e\n",
      "2 l\n",
      "3 l\n",
      "4 o\n",
      "5  \n",
      "6 W\n",
      "7 o\n",
      "8 r\n",
      "9 l\n",
      "10 d\n"
     ]
    }
   ],
   "source": [
    "a = \"Hello World\"\n",
    "l = len(a)\n",
    "for i in range(l):\n",
    "    print(i, a[i])"
   ]
  },
  {
   "cell_type": "code",
   "execution_count": 3,
   "id": "33716f2c-7aa6-4163-bc97-ba0a5242aa72",
   "metadata": {},
   "outputs": [
    {
     "name": "stdout",
     "output_type": "stream",
     "text": [
      "0 H\n",
      "1 e\n",
      "2 l\n",
      "3 l\n",
      "4 o\n",
      "5  \n",
      "6 W\n",
      "7 o\n",
      "8 r\n",
      "9 l\n",
      "10 d\n"
     ]
    }
   ],
   "source": [
    "a = \"Hello World\"\n",
    "l = len(a)\n",
    "i = 0\n",
    "while i<l:\n",
    "    print(i, a[i])\n",
    "    i = i + 1"
   ]
  },
  {
   "cell_type": "code",
   "execution_count": 13,
   "id": "189b0b73-f1e0-4444-b624-0b50030c06e4",
   "metadata": {},
   "outputs": [
    {
     "name": "stdin",
     "output_type": "stream",
     "text": [
      "Enter name: ram\n",
      "Enter age: 18\n",
      "Enter address: bkt\n"
     ]
    },
    {
     "name": "stdout",
     "output_type": "stream",
     "text": [
      "Hello World I am ram. I am from bkt. I am 18 years old.\n"
     ]
    }
   ],
   "source": [
    "# String\n",
    "name = input(\"Enter name:\")\n",
    "age = int(input(\"Enter age:\"))\n",
    "add = input(\"Enter address:\")\n",
    "\n",
    "info = \"Hello World I am \" + name + \". I am from \" + add + \". I am \" + str(age) + \" years old.\"\n",
    "print(info)"
   ]
  },
  {
   "cell_type": "code",
   "execution_count": 17,
   "id": "7f5e5d98-be8a-4878-bd65-d8df97d5fe3a",
   "metadata": {},
   "outputs": [
    {
     "name": "stdin",
     "output_type": "stream",
     "text": [
      "Enter name: ram\n",
      "Enter age: 12\n",
      "Enter address: bkt\n"
     ]
    },
    {
     "name": "stdout",
     "output_type": "stream",
     "text": [
      "Hello World I am ram. I am from bkt. I am 12 years old.\n"
     ]
    }
   ],
   "source": [
    "# String Formatting: 'f', no need for data conversion\n",
    "\n",
    "name = input(\"Enter name:\")\n",
    "age = int(input(\"Enter age:\"))\n",
    "add = input(\"Enter address:\")\n",
    "\n",
    "info = f\"Hello World I am {name}. I am from {add}. I am {age} years old.\"\n",
    "print(info)"
   ]
  },
  {
   "cell_type": "code",
   "execution_count": 21,
   "id": "df76ddc0-6f4b-4b9b-9ffb-1ae6bd153184",
   "metadata": {},
   "outputs": [
    {
     "name": "stdin",
     "output_type": "stream",
     "text": [
      "Enter no. of inputs: 2\n",
      "Enter name of product: apple\n",
      "Enter price of product: 500\n",
      "Enter quantity of product: 10\n",
      "Enter name of product: mango\n",
      "Enter price of product: 400\n",
      "Enter quantity of product: 9\n"
     ]
    },
    {
     "name": "stdout",
     "output_type": "stream",
     "text": [
      "Product: apple \t Price: 500.0 \t Qaunitity: 10 \t Total: 5000.0 \n",
      "Product: mango \t Price: 400.0 \t Qaunitity: 9 \t Total: 3600.0 \n",
      "\n",
      "Final Total: 8600.0\n"
     ]
    }
   ],
   "source": [
    "#create billing system\n",
    "#product name?, price?, quantity?, total?\n",
    "bill = \"\"\n",
    "final_total = 0\n",
    "n = int(input(\"Enter no. of inputs:\"))\n",
    "for i in range(n):\n",
    "    product = input(\"Enter name of product:\")\n",
    "    price = float(input(\"Enter price of product:\"))\n",
    "    quantity = int(input(\"Enter quantity of product:\"))\n",
    "    total = quantity * price\n",
    "    final_total = final_total + total\n",
    "    bill =  bill + f\"Product: {product} \\t Price: {price} \\t Qaunitity: {quantity} \\t Total: {total} \\n\"\n",
    "print(bill)\n",
    "print(\"Final Total:\", final_total)"
   ]
  },
  {
   "cell_type": "code",
   "execution_count": 20,
   "id": "48f9dbc6-a0ce-47f5-be29-9eb62b3c3ad8",
   "metadata": {},
   "outputs": [
    {
     "name": "stdin",
     "output_type": "stream",
     "text": [
      "Enter no. of inputs: 2\n",
      "Enter name: ram\n",
      "Enter phone number: 981234567\n",
      "Enter name: shyam\n",
      "Enter phone number: 981243576\n"
     ]
    },
    {
     "name": "stdout",
     "output_type": "stream",
     "text": [
      "Name: ram \t Phone No.: 981234567\n",
      "Name: shyam \t Phone No.: 981243576\n",
      "\n"
     ]
    }
   ],
   "source": [
    "#store name and phone no of give people\n",
    "s = \"\"\n",
    "n = int(input(\"Enter no. of inputs:\"))\n",
    "for i in range(n):\n",
    "    name = input(\"Enter name:\")\n",
    "    phone = input(\"Enter phone number:\")\n",
    "    s = s + f\"Name: {name} \\t Phone No.: {phone}\\n\"\n",
    "print(s)"
   ]
  },
  {
   "cell_type": "code",
   "execution_count": 32,
   "id": "d9b5b51d-f037-4bc7-be7a-db2df1cdced8",
   "metadata": {},
   "outputs": [
    {
     "name": "stdin",
     "output_type": "stream",
     "text": [
      "Enter value for search: a\n"
     ]
    },
    {
     "name": "stdout",
     "output_type": "stream",
     "text": [
      "yes\n",
      "8\n"
     ]
    }
   ],
   "source": [
    "# Search in String\n",
    "#Count() \n",
    "a = \"Ram Shyam Hari Sita Gita Krishna Ram Hari\"\n",
    "search = input(\"Enter value for search:\")\n",
    "if search in a:\n",
    "    print(\"yes\")\n",
    "    print(a.count(search))\n",
    "else:\n",
    "    print(\"no\") "
   ]
  },
  {
   "cell_type": "code",
   "execution_count": 33,
   "id": "bdf20b44-9088-47c6-a509-c79d98614365",
   "metadata": {},
   "outputs": [
    {
     "name": "stdout",
     "output_type": "stream",
     "text": [
      "RAM SHYAM HARI SITA GITA KRISHNA RAM HARI\n",
      "ram shyam hari sita gita krishna ram hari\n"
     ]
    }
   ],
   "source": [
    "#upper(): changes all character in a string to uppercase\n",
    "#lower(): changes all character in a string to lowercase\n",
    "a = \"Ram Shyam Hari Sita Gita Krishna Ram Hari\"\n",
    "print(a.upper())\n",
    "print(a.lower())"
   ]
  },
  {
   "cell_type": "code",
   "execution_count": 35,
   "id": "551886a2-aa9b-4d09-8b00-f94bdea2b4a2",
   "metadata": {},
   "outputs": [
    {
     "name": "stdout",
     "output_type": "stream",
     "text": [
      "ram shyam hari sita gita krishna ram hari\n",
      "ram\n"
     ]
    }
   ],
   "source": [
    "a = \"Ram Shyam Hari Sita Gita Krishna Ram Hari\".lower()\n",
    "b = \"rAm\".lower()\n",
    "print(a)\n",
    "print(b)"
   ]
  },
  {
   "cell_type": "code",
   "execution_count": 41,
   "id": "fcd772f4-8b30-49a1-abaa-d30189d3ce1e",
   "metadata": {},
   "outputs": [
    {
     "name": "stdin",
     "output_type": "stream",
     "text": [
      "Enter value for search: b\n"
     ]
    },
    {
     "name": "stdout",
     "output_type": "stream",
     "text": [
      "no\n"
     ]
    }
   ],
   "source": [
    "# Search in String\n",
    "#Count(), lower()\n",
    "a = \"Ram Shyam Hari Sita Gita Krishna Ram Hari\".lower()\n",
    "search = input(\"Enter value for search:\").lower()\n",
    "if search in a:\n",
    "    print(\"yes\")\n",
    "    print(a.count(search))\n",
    "else:\n",
    "    print(\"no\")"
   ]
  },
  {
   "cell_type": "code",
   "execution_count": 49,
   "id": "aca333ab-613a-4d21-a4ff-8e4114fc43fc",
   "metadata": {},
   "outputs": [
    {
     "name": "stdout",
     "output_type": "stream",
     "text": [
      "Ram Shyam Hari Sita Gita Krishna Ram Hari Ramesh\n"
     ]
    }
   ],
   "source": [
    "#Replace\n",
    "a = \"Ram Shyam Hari Sita Gita Krishna Ram Hari Ramesh\"\n",
    "a.replace(\"Ram\",\"Rama\")\n",
    "print(a)"
   ]
  },
  {
   "cell_type": "code",
   "execution_count": 50,
   "id": "3114a5b6-c707-4756-bb4f-113a02c6ef3e",
   "metadata": {},
   "outputs": [
    {
     "name": "stdout",
     "output_type": "stream",
     "text": [
      "Rama Shyam Hari Sita Gita Krishna Rama Hari Ramaesh\n"
     ]
    }
   ],
   "source": [
    "#Replace\n",
    "a = \"Ram Shyam Hari Sita Gita Krishna Ram Hari Ramesh\"\n",
    "a= a.replace(\"Ram\",\"Rama\")\n",
    "print(a)"
   ]
  },
  {
   "cell_type": "code",
   "execution_count": null,
   "id": "d1728a03-b285-4fc2-b183-6586627d221c",
   "metadata": {},
   "outputs": [],
   "source": []
  }
 ],
 "metadata": {
  "kernelspec": {
   "display_name": "Python [conda env:base] *",
   "language": "python",
   "name": "conda-base-py"
  },
  "language_info": {
   "codemirror_mode": {
    "name": "ipython",
    "version": 3
   },
   "file_extension": ".py",
   "mimetype": "text/x-python",
   "name": "python",
   "nbconvert_exporter": "python",
   "pygments_lexer": "ipython3",
   "version": "3.12.7"
  }
 },
 "nbformat": 4,
 "nbformat_minor": 5
}
