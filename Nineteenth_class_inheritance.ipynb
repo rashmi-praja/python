{
 "cells": [
  {
   "cell_type": "code",
   "execution_count": 1,
   "id": "4655bb53-c327-4306-8a49-da465144748d",
   "metadata": {},
   "outputs": [],
   "source": [
    "# Inheritance\n",
    "\n",
    "# class A:\n",
    "#     <methods>\n",
    "#     <methods>\n",
    "\n",
    "# class B(A):\n",
    "#     <methods>\n",
    "#     <methods>\n",
    "\n",
    "# obj = B()"
   ]
  },
  {
   "cell_type": "code",
   "execution_count": 5,
   "id": "ac307801-74a4-489b-8f76-931d8a08bdb5",
   "metadata": {},
   "outputs": [
    {
     "name": "stdout",
     "output_type": "stream",
     "text": [
      "Hello World I am Ram. I am from Bhaktapur. I am 19\n"
     ]
    }
   ],
   "source": [
    "class Data:                     #Parent Class\n",
    "    def __init__(self):\n",
    "        self.name = \"Ram\"\n",
    "        self.age = 19\n",
    "        self.add = \"Bhaktapur\"\n",
    "\n",
    "    def data(self):\n",
    "        print(self.name, self.age, self.add)\n",
    "\n",
    "class Info(Data):               #Child Class\n",
    "    def info(self):\n",
    "        print(f\"Hello World I am {self.name}. I am from {self.add}. I am {self.age}\")\n",
    "\n",
    "obj = Info()\n",
    "obj.info()"
   ]
  },
  {
   "cell_type": "code",
   "execution_count": 9,
   "id": "62eadef5-6364-4518-ba51-73459ea7a819",
   "metadata": {},
   "outputs": [
    {
     "name": "stdin",
     "output_type": "stream",
     "text": [
      "Enter name: ram\n",
      "Enter age: 12\n",
      "Enter address: bkt\n"
     ]
    },
    {
     "name": "stdout",
     "output_type": "stream",
     "text": [
      "Hello World I am ram. I am from bkt. I am 12\n",
      "ram 12 bkt\n"
     ]
    }
   ],
   "source": [
    "class Data:                     #Parent Class\n",
    "    def __init__(self, name, age, add):\n",
    "        self.name = name\n",
    "        self.age = age\n",
    "        self.add = add\n",
    "\n",
    "    def data(self):\n",
    "        print(self.name, self.age, self.add)\n",
    "\n",
    "class Info(Data):               #Child Class\n",
    "    def info(self):\n",
    "        print(f\"Hello World I am {self.name}. I am from {self.add}. I am {self.age}\")\n",
    "\n",
    "name = input(\"Enter name:\")\n",
    "age= int(input(\"Enter age:\"))\n",
    "add = input(\"Enter address:\")\n",
    "\n",
    "obj = Info(name, age, add)\n",
    "obj.info()\n",
    "obj.data()"
   ]
  },
  {
   "cell_type": "code",
   "execution_count": 10,
   "id": "b6c9ef4e-11f3-481b-b3cb-2d2ee18f5995",
   "metadata": {},
   "outputs": [
    {
     "name": "stdin",
     "output_type": "stream",
     "text": [
      "Enter name: ram\n",
      "Enter age: 12\n",
      "Enter address: bkt\n"
     ]
    },
    {
     "name": "stdout",
     "output_type": "stream",
     "text": [
      "Hello World I am ram. I am from bkt. I am 12\n",
      "ram 12 bkt\n"
     ]
    }
   ],
   "source": [
    "class Data:                     #Parent Class\n",
    "    def __init__(self, add):\n",
    "        self.add = add\n",
    "\n",
    "    def data(self):\n",
    "        print(self.name, self.age, self.add)\n",
    "\n",
    "class Info(Data):               #Child Class\n",
    "    def __init__(self, name, age, add):\n",
    "        self.name = name\n",
    "        self.age = age\n",
    "        Data.__init__(self, add)\n",
    "        \n",
    "    def info(self):\n",
    "        print(f\"Hello World I am {self.name}. I am from {self.add}. I am {self.age}\")\n",
    "\n",
    "name = input(\"Enter name:\")\n",
    "age= int(input(\"Enter age:\"))\n",
    "add = input(\"Enter address:\")\n",
    "\n",
    "obj = Info(name, age, add)\n",
    "obj.info()\n",
    "obj.data()"
   ]
  },
  {
   "cell_type": "code",
   "execution_count": 13,
   "id": "33bd118e-7a74-4099-8126-ba750a52d503",
   "metadata": {},
   "outputs": [
    {
     "name": "stdout",
     "output_type": "stream",
     "text": [
      "This is class A\n",
      "This is class B\n",
      "This is class C\n"
     ]
    }
   ],
   "source": [
    "# Multi-level Inheritance\n",
    "\n",
    "class A:\n",
    "    print(\"This is class A\")\n",
    "\n",
    "class B(A):\n",
    "    print(\"This is class B\")\n",
    "\n",
    "class C(B):\n",
    "    print(\"This is class C\")\n",
    "\n",
    "obj = C()"
   ]
  },
  {
   "cell_type": "code",
   "execution_count": 15,
   "id": "5642a780-3ea2-4079-9381-96f95db116a9",
   "metadata": {},
   "outputs": [
    {
     "name": "stdin",
     "output_type": "stream",
     "text": [
      "Enter name: ram\n",
      "Enter age: 12\n",
      "Enter address: bkr\n"
     ]
    },
    {
     "name": "stdout",
     "output_type": "stream",
     "text": [
      "Hello World I am ram. I am from bkr. I am 12\n",
      "ram 12 bkr\n"
     ]
    }
   ],
   "source": [
    "class Address:\n",
    "    def __init__(self, add):\n",
    "        self.add = add\n",
    "\n",
    "    def address(self):\n",
    "        print(self.add)\n",
    "\n",
    "class Data:  \n",
    "    def __init__(self, age, add):\n",
    "        self.age = age\n",
    "        Address.__init__(self,add)\n",
    "\n",
    "    def data(self):\n",
    "        print(self.name, self.age, self.add)\n",
    "\n",
    "class Info(Data): \n",
    "    def __init__(self, name, age, add):\n",
    "        self.name = name\n",
    "        Data.__init__(self, age, add)\n",
    "        \n",
    "    def info(self):\n",
    "        print(f\"Hello World I am {self.name}. I am from {self.add}. I am {self.age}\")\n",
    "\n",
    "name = input(\"Enter name:\")\n",
    "age= int(input(\"Enter age:\"))\n",
    "add = input(\"Enter address:\")\n",
    "\n",
    "obj = Info(name, age, add)\n",
    "obj.info()\n",
    "obj.data()"
   ]
  },
  {
   "cell_type": "code",
   "execution_count": 20,
   "id": "ad2b5258-c0d2-419c-827d-56fd443f3168",
   "metadata": {},
   "outputs": [
    {
     "name": "stdin",
     "output_type": "stream",
     "text": [
      "Enter name: Ram\n",
      "Enter age: 12\n",
      "Enter address: Bhaktapur\n"
     ]
    },
    {
     "name": "stdout",
     "output_type": "stream",
     "text": [
      "Hello World I am Ram. I am from Bhaktapur. I am 12\n"
     ]
    }
   ],
   "source": [
    "# Multiple Inheritance\n",
    "\n",
    "class Address:\n",
    "    def __init__(self, add):\n",
    "        self.add = add\n",
    "\n",
    "    def address(self):\n",
    "        print(self.add)\n",
    "\n",
    "class Age:  \n",
    "    def __init__(self, age):\n",
    "        self.age = age\n",
    "\n",
    "    def data(self):\n",
    "        print(self.age)\n",
    "\n",
    "class Info(Address, Age): \n",
    "    def __init__(self, name, age, add):\n",
    "        self.name = name\n",
    "        Age.__init__(self,age)\n",
    "        Address.__init__(self, add)\n",
    "        \n",
    "    def info(self):\n",
    "        print(f\"Hello World I am {self.name}. I am from {self.add}. I am {self.age}\")\n",
    "\n",
    "name = input(\"Enter name:\")\n",
    "age= int(input(\"Enter age:\"))\n",
    "add = input(\"Enter address:\")\n",
    "\n",
    "obj = Info(name, age, add)\n",
    "obj.info()\n"
   ]
  },
  {
   "cell_type": "code",
   "execution_count": 22,
   "id": "6ac308d0-432d-45ed-9df5-59164487da31",
   "metadata": {},
   "outputs": [
    {
     "name": "stdout",
     "output_type": "stream",
     "text": [
      "Hello World I am Ram. I am from Bhaktapur. I am 19\n",
      "('Ram', 19, 'Bhaktapur')\n"
     ]
    }
   ],
   "source": [
    "class Data:                     #Parent Class\n",
    "    def __init__(self):\n",
    "        self.name = \"Ram\"\n",
    "        self.age = 19\n",
    "        self.add = \"Bhaktapur\"\n",
    "\n",
    "    def data(self):\n",
    "        return self.name, self.age, self.add\n",
    "\n",
    "class Info(Data):               #Child Class\n",
    "    def info(self):\n",
    "        print(f\"Hello World I am {self.name}. I am from {self.add}. I am {self.age}\")\n",
    "        print(Data.data(self))\n",
    "\n",
    "obj = Info()\n",
    "obj.info()"
   ]
  },
  {
   "cell_type": "code",
   "execution_count": null,
   "id": "ed2c546e-f2a4-4199-983a-6c0cc19a1114",
   "metadata": {},
   "outputs": [],
   "source": []
  }
 ],
 "metadata": {
  "kernelspec": {
   "display_name": "Python [conda env:base] *",
   "language": "python",
   "name": "conda-base-py"
  },
  "language_info": {
   "codemirror_mode": {
    "name": "ipython",
    "version": 3
   },
   "file_extension": ".py",
   "mimetype": "text/x-python",
   "name": "python",
   "nbconvert_exporter": "python",
   "pygments_lexer": "ipython3",
   "version": "3.12.7"
  }
 },
 "nbformat": 4,
 "nbformat_minor": 5
}
