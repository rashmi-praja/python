{
 "cells": [
  {
   "cell_type": "code",
   "execution_count": 18,
   "id": "599dc6ea-187e-4dff-b22b-bb6c7da2d1bc",
   "metadata": {},
   "outputs": [],
   "source": [
    "# Dictionary\n",
    "# -indexing\n",
    "# -ordered\n",
    "# -multiple and duplicate data \n",
    "# -mutable \n",
    "#-for loop is mostly used in it\n",
    "# In {} there is no use of operator. so both set and dictionary  does not use operator, especially '+' operator to concat"
   ]
  },
  {
   "cell_type": "code",
   "execution_count": 2,
   "id": "760c6e4c-57dc-4793-83b9-10e976d2e66c",
   "metadata": {},
   "outputs": [
    {
     "name": "stdout",
     "output_type": "stream",
     "text": [
      "<class 'dict'>\n",
      "<class 'dict'>\n"
     ]
    }
   ],
   "source": [
    "a = {}\n",
    "b = dict()\n",
    "\n",
    "print(type(a))\n",
    "print(type(b))"
   ]
  },
  {
   "cell_type": "code",
   "execution_count": 3,
   "id": "9b948030-6e01-4e94-8d12-089202d11e8e",
   "metadata": {},
   "outputs": [],
   "source": [
    "# syntax:\n",
    "# d = {<key>:<value>, <key>:<value>, <key>:<value>} (only value can be duplicated, key is unique and cannot be duplicated)\n",
    "#here key is just like the index"
   ]
  },
  {
   "cell_type": "code",
   "execution_count": 4,
   "id": "aed457d7-17ce-4e49-abbf-cb7acbef6f5e",
   "metadata": {},
   "outputs": [
    {
     "name": "stdout",
     "output_type": "stream",
     "text": [
      "{'a': 'Apple', 'b': 'Ball', 'c': 'Cat'}\n",
      "Apple\n",
      "Ball\n",
      "Cat\n"
     ]
    }
   ],
   "source": [
    "#Pre-defined dictionary:\n",
    "d = {'a':'Apple', 'b':'Ball', 'c':'Cat'}\n",
    "\n",
    "#Ordered:\n",
    "print(d)\n",
    "\n",
    "#Indexing:\n",
    "print(d['a'])\n",
    "print(d['b'])\n",
    "print(d['c'])"
   ]
  },
  {
   "cell_type": "code",
   "execution_count": 5,
   "id": "da61f67d-215a-4026-a3fb-57b58dbfd528",
   "metadata": {},
   "outputs": [
    {
     "name": "stdout",
     "output_type": "stream",
     "text": [
      "{'a': 'Apple', 'b': 'Ball', 'c': 'Cat', 'A': 'Apple'}\n"
     ]
    }
   ],
   "source": [
    "#Duplicate\n",
    "d = {'a':'Apple', 'b':'Ball', 'c':'Cat', 'A':'Apple'}\n",
    "print(d)"
   ]
  },
  {
   "cell_type": "code",
   "execution_count": 6,
   "id": "3494b3ff-b5be-497d-b96c-d9d354cdf97f",
   "metadata": {},
   "outputs": [
    {
     "name": "stdout",
     "output_type": "stream",
     "text": [
      "{'a': 'Apple', 'b': 'Ball', 'c': 'Cat'}\n"
     ]
    }
   ],
   "source": [
    "#Adding value in dictionary\n",
    "d = {}\n",
    "d['a'] = 'Apple'\n",
    "d['b'] = 'Ball'\n",
    "d['c'] = 'Cat'\n",
    "print(d)"
   ]
  },
  {
   "cell_type": "code",
   "execution_count": 7,
   "id": "ce14f370-1b46-45d8-bfe1-21466a42bffa",
   "metadata": {},
   "outputs": [],
   "source": [
    "# CRUD\n",
    "# C-Create\n",
    "# R-Read\n",
    "# U-Update\n",
    "# D-Delte"
   ]
  },
  {
   "cell_type": "code",
   "execution_count": 8,
   "id": "f2425a09-c7e0-4888-a8a2-3315726ba0db",
   "metadata": {},
   "outputs": [
    {
     "name": "stdout",
     "output_type": "stream",
     "text": [
      "{'a': 'Ant', 'b': 'Ball', 'c': 'Cat'}\n"
     ]
    }
   ],
   "source": [
    "#UPDATE value in dictionary\n",
    "dic = {'a':'Apple', 'b':'Ball', 'c':'Cat'}\n",
    "dic['a'] = 'Ant' #value will be updated\n",
    "print(dic)"
   ]
  },
  {
   "cell_type": "code",
   "execution_count": 9,
   "id": "3b4b7122-5875-48ce-8384-a313a638faf5",
   "metadata": {},
   "outputs": [
    {
     "name": "stdout",
     "output_type": "stream",
     "text": [
      "a\n",
      "b\n",
      "c\n"
     ]
    }
   ],
   "source": [
    "#dictionary on loop\n",
    "a = {'a':'Apple', 'b':'Ball', 'c':'Cat'}\n",
    "for i in a:\n",
    "    print(i)   #only key is updated to i "
   ]
  },
  {
   "cell_type": "code",
   "execution_count": 10,
   "id": "3dff9954-1fec-45b3-a8c3-b69b8d49dc68",
   "metadata": {},
   "outputs": [
    {
     "name": "stdout",
     "output_type": "stream",
     "text": [
      "Apple\n",
      "Ball\n",
      "Cat\n"
     ]
    }
   ],
   "source": [
    "a = {'a':'Apple', 'b':'Ball', 'c':'Cat'}\n",
    "for i in a.values():\n",
    "    print(i)  #only values is updated to i "
   ]
  },
  {
   "cell_type": "code",
   "execution_count": 11,
   "id": "eb43ce15-e898-4f63-97bf-aad979c5e291",
   "metadata": {},
   "outputs": [
    {
     "name": "stdout",
     "output_type": "stream",
     "text": [
      "('a', 'Apple')\n",
      "('b', 'Ball')\n",
      "('c', 'Cat')\n"
     ]
    }
   ],
   "source": [
    "#Read\n",
    "a = {'a':'Apple', 'b':'Ball', 'c':'Cat'}\n",
    "for i in a.items():\n",
    "    print(i)   #both keys and values are updated to i "
   ]
  },
  {
   "cell_type": "code",
   "execution_count": 12,
   "id": "ea406d63-20be-4776-8e44-da330702c8ca",
   "metadata": {},
   "outputs": [
    {
     "name": "stdout",
     "output_type": "stream",
     "text": [
      "{'a': 'Apple', 'b': 'Ball', 'c': 'Cat'}\n"
     ]
    }
   ],
   "source": [
    "#converting nested list into dictionary\n",
    "l = [['a', 'Apple'],\n",
    "    ['b', 'Ball'],\n",
    "    ['c', 'Cat']]\n",
    "dic = dict(l)\n",
    "print(dic)"
   ]
  },
  {
   "cell_type": "code",
   "execution_count": 13,
   "id": "d3a38aea-9f30-40fd-b6b0-d67fc4703cb5",
   "metadata": {},
   "outputs": [
    {
     "name": "stdin",
     "output_type": "stream",
     "text": [
      "Enter n = 2\n",
      "Enter name: ram\n",
      "Enter phone no.: 9832457356\n",
      "Enter name: haru\n",
      "Enter phone no.: 9824537153\n"
     ]
    },
    {
     "name": "stdout",
     "output_type": "stream",
     "text": [
      "{'ram': '9832457356', 'haru': '9824537153'}\n"
     ]
    }
   ],
   "source": [
    "#user-defined dictionary\n",
    "#Create\n",
    "d={}\n",
    "n = int(input(\"Enter n =\"))\n",
    "for i in range(n):\n",
    "    name = input(\"Enter name:\")\n",
    "    phone = input(\"Enter phone no.:\")\n",
    "    d[name] = phone   #here name is key and phone is value\n",
    "print(d)"
   ]
  },
  {
   "cell_type": "code",
   "execution_count": 14,
   "id": "04e89a59-4c67-45e7-afb9-62ecf2ea295b",
   "metadata": {},
   "outputs": [
    {
     "data": {
      "text/plain": [
       "{'ram': '981234567', 'hari': '984232769'}"
      ]
     },
     "execution_count": 14,
     "metadata": {},
     "output_type": "execute_result"
    }
   ],
   "source": [
    "#Update\n",
    "d ={'ram': '9851233298', 'hari': '984232769'}\n",
    "d['ram'] = '981234567'\n",
    "d\n",
    "#this shows the data is mutable"
   ]
  },
  {
   "cell_type": "code",
   "execution_count": 15,
   "id": "dfbc10f2-d9e2-4e33-8d45-dabaa4ad0a2f",
   "metadata": {},
   "outputs": [
    {
     "data": {
      "text/plain": [
       "{'hari': '984232769'}"
      ]
     },
     "execution_count": 15,
     "metadata": {},
     "output_type": "execute_result"
    }
   ],
   "source": [
    "#Delete: del, pop()\n",
    "d ={'ram': '9851233298', 'hari': '984232769'}\n",
    "del d['ram'] #both key and value is deleted in here\n",
    "d"
   ]
  },
  {
   "cell_type": "code",
   "execution_count": 16,
   "id": "3b666424-de00-4c98-80f3-2b54472b51e5",
   "metadata": {},
   "outputs": [
    {
     "data": {
      "text/plain": [
       "{'ram': '9851233298'}"
      ]
     },
     "execution_count": 16,
     "metadata": {},
     "output_type": "execute_result"
    }
   ],
   "source": [
    "d ={'ram': '9851233298', 'hari': '984232769'}\n",
    "d.pop('hari') #both key and value is deleted in here\n",
    "d"
   ]
  },
  {
   "cell_type": "code",
   "execution_count": 17,
   "id": "ba40487f-f9f8-4585-b0ab-d9b380f571e6",
   "metadata": {},
   "outputs": [
    {
     "name": "stdout",
     "output_type": "stream",
     "text": [
      "{'ram': '9851233298'}\n",
      "984232769\n"
     ]
    }
   ],
   "source": [
    "d ={'ram': '9851233298', 'hari': '984232769'}\n",
    "b = d.pop('hari') #only value is moved to another variable, this cant be done in 'del'\n",
    "print(d)\n",
    "print(b)"
   ]
  },
  {
   "cell_type": "code",
   "execution_count": 18,
   "id": "ecc0aa25-09a7-4ef3-b8b3-46e199f3cb8c",
   "metadata": {},
   "outputs": [
    {
     "data": {
      "text/plain": [
       "{'Ram': [9841235678, 971234568], 'Hari': [9843216587, 973217456]}"
      ]
     },
     "execution_count": 18,
     "metadata": {},
     "output_type": "execute_result"
    }
   ],
   "source": [
    "#list inside dictionary\n",
    "info = {'Ram': [9841235678, 971234568],\n",
    "       'Hari': [9843216587, 973217456]}\n",
    "info"
   ]
  },
  {
   "cell_type": "code",
   "execution_count": 19,
   "id": "dee6e7a7-1f2d-48ab-9047-139ea66e0a82",
   "metadata": {},
   "outputs": [
    {
     "data": {
      "text/plain": [
       "{'name': ['Ram', 'Hari'],\n",
       " 'ncell': [9841235678, 9843216587],\n",
       " 'ntc': [971234568, 973217456]}"
      ]
     },
     "execution_count": 19,
     "metadata": {},
     "output_type": "execute_result"
    }
   ],
   "source": [
    "info = {'name': ['Ram', 'Hari'],\n",
    "        'ncell': [9841235678, 9843216587],\n",
    "        'ntc': [971234568, 973217456]}\n",
    "info"
   ]
  },
  {
   "cell_type": "code",
   "execution_count": 20,
   "id": "59f12410-108f-4968-b95c-6ccbe87510d5",
   "metadata": {},
   "outputs": [
    {
     "name": "stdout",
     "output_type": "stream",
     "text": [
      "Ram\n",
      "971234568\n",
      "9841235678\n"
     ]
    }
   ],
   "source": [
    "print(info['name'][0])\n",
    "print(info['ntc'][0])\n",
    "print(info['ncell'][0])"
   ]
  },
  {
   "cell_type": "code",
   "execution_count": 22,
   "id": "ffdee8a4-ab64-4b9a-a1f0-3d7d06d2e83b",
   "metadata": {},
   "outputs": [
    {
     "name": "stdin",
     "output_type": "stream",
     "text": [
      "Enter index: 1\n"
     ]
    },
    {
     "name": "stdout",
     "output_type": "stream",
     "text": [
      "Hari\n",
      "973217456\n",
      "9843216587\n"
     ]
    }
   ],
   "source": [
    "i = int(input(\"Enter index:\"))\n",
    "info = {'name': ['Ram', 'Hari'],\n",
    "        'ncell': [9841235678, 9843216587],\n",
    "        'ntc': [971234568, 973217456]}\n",
    "print(info['name'][i])\n",
    "print(info['ntc'][i])\n",
    "print(info['ncell'][i])"
   ]
  },
  {
   "cell_type": "code",
   "execution_count": 23,
   "id": "2f89508a-b637-4d8d-8d94-78320ce24bc9",
   "metadata": {},
   "outputs": [
    {
     "name": "stdin",
     "output_type": "stream",
     "text": [
      "Enter n = 2\n",
      "Enter name: ram\n",
      "Enter ncell phone no.: 9832435476\n",
      "Enter ntc phone no.: 9743687424\n",
      "Enter name: sita\n",
      "Enter ncell phone no.: 9843567208\n",
      "Enter ntc phone no.: 9753083255\n"
     ]
    },
    {
     "name": "stdout",
     "output_type": "stream",
     "text": [
      "{'name': ['ram', 'sita'], 'ncell': ['9832435476', '9843567208'], 'ntc': ['9743687424', '9753083255']}\n"
     ]
    }
   ],
   "source": [
    "#Creating list inside dictionary\n",
    "info = {'name': [],\n",
    "        'ncell': [],\n",
    "        'ntc': []}\n",
    "n = int(input(\"Enter n =\"))\n",
    "for i in range(n):\n",
    "    name = input(\"Enter name:\")\n",
    "    ncell = input(\"Enter ncell phone no.:\")\n",
    "    ntc = input(\"Enter ntc phone no.:\")\n",
    "    \n",
    "    info['name'].append(name)\n",
    "    info['ncell'].append(ncell)\n",
    "    info['ntc'].append(ntc)\n",
    "\n",
    "print(info)"
   ]
  },
  {
   "cell_type": "code",
   "execution_count": 24,
   "id": "3b60a96e-531f-4a75-b06b-a83897247f35",
   "metadata": {},
   "outputs": [
    {
     "name": "stdin",
     "output_type": "stream",
     "text": [
      "Enter n = 2\n",
      "Enter name: ram\n",
      "Enter ncell phone no.: 9857634456\n",
      "Enter ntc phone no.: 9754900654\n",
      "Enter name: hari\n",
      "Enter ncell phone no.: 9854673490\n",
      "Enter ntc phone no.: 9714099345\n"
     ]
    },
    {
     "name": "stdout",
     "output_type": "stream",
     "text": [
      "{'name': ['ram', 'hari'], 'ncell': ['9857634456', '9854673490'], 'ntc': ['9754900654', '9714099345']}\n",
      "{'name': ['hari'], 'ncell': ['9857634456', '9854673490'], 'ntc': ['9754900654', '9714099345']}\n"
     ]
    }
   ],
   "source": [
    "#Creating list inside dictionary\n",
    "info = {'name': [],\n",
    "        'ncell': [],\n",
    "        'ntc': []}\n",
    "n = int(input(\"Enter n =\"))\n",
    "for i in range(n):\n",
    "    name = input(\"Enter name:\")\n",
    "    ncell = input(\"Enter ncell phone no.:\")\n",
    "    ntc = input(\"Enter ntc phone no.:\")\n",
    "    \n",
    "    info['name'].append(name)\n",
    "    info['ncell'].append(ncell)\n",
    "    info['ntc'].append(ntc)\n",
    "\n",
    "print(info)\n",
    "\n",
    "info['name'][0] = 'Shyam'\n",
    "del info['name'][0]\n",
    "print(info)"
   ]
  }
 ],
 "metadata": {
  "kernelspec": {
   "display_name": "Python [conda env:base] *",
   "language": "python",
   "name": "conda-base-py"
  },
  "language_info": {
   "codemirror_mode": {
    "name": "ipython",
    "version": 3
   },
   "file_extension": ".py",
   "mimetype": "text/x-python",
   "name": "python",
   "nbconvert_exporter": "python",
   "pygments_lexer": "ipython3",
   "version": "3.12.7"
  }
 },
 "nbformat": 4,
 "nbformat_minor": 5
}
