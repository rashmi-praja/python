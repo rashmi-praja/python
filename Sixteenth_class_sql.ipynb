{
 "cells": [
  {
   "cell_type": "code",
   "execution_count": 1,
   "id": "782be28f-1407-4e67-be6a-ec33b1984cf7",
   "metadata": {},
   "outputs": [
    {
     "name": "stdout",
     "output_type": "stream",
     "text": [
      "Collecting mysql-connector\n",
      "  Downloading mysql-connector-2.2.9.tar.gz (11.9 MB)\n",
      "     ---------------------------------------- 0.0/11.9 MB ? eta -:--:--\n",
      "     ---------------------------------------- 0.0/11.9 MB ? eta -:--:--\n",
      "     ---------------------------------------- 0.0/11.9 MB ? eta -:--:--\n",
      "      --------------------------------------- 0.3/11.9 MB ? eta -:--:--\n",
      "     -- ------------------------------------- 0.8/11.9 MB 1.7 MB/s eta 0:00:07\n",
      "     ---- ----------------------------------- 1.3/11.9 MB 2.0 MB/s eta 0:00:06\n",
      "     ----- ---------------------------------- 1.6/11.9 MB 2.2 MB/s eta 0:00:05\n",
      "     ------- -------------------------------- 2.1/11.9 MB 1.9 MB/s eta 0:00:06\n",
      "     ------- -------------------------------- 2.4/11.9 MB 1.8 MB/s eta 0:00:06\n",
      "     -------- ------------------------------- 2.6/11.9 MB 1.8 MB/s eta 0:00:06\n",
      "     ---------- ----------------------------- 3.1/11.9 MB 1.8 MB/s eta 0:00:05\n",
      "     ----------- ---------------------------- 3.4/11.9 MB 1.8 MB/s eta 0:00:05\n",
      "     ------------ --------------------------- 3.7/11.9 MB 1.8 MB/s eta 0:00:05\n",
      "     -------------- ------------------------- 4.2/11.9 MB 1.8 MB/s eta 0:00:05\n",
      "     --------------- ------------------------ 4.7/11.9 MB 1.9 MB/s eta 0:00:04\n",
      "     ----------------- ---------------------- 5.2/11.9 MB 1.9 MB/s eta 0:00:04\n",
      "     ------------------ --------------------- 5.5/11.9 MB 1.8 MB/s eta 0:00:04\n",
      "     -------------------- ------------------- 6.0/11.9 MB 1.9 MB/s eta 0:00:04\n",
      "     ---------------------- ----------------- 6.6/11.9 MB 1.9 MB/s eta 0:00:03\n",
      "     ----------------------- ---------------- 6.8/11.9 MB 1.9 MB/s eta 0:00:03\n",
      "     ------------------------ --------------- 7.3/11.9 MB 1.9 MB/s eta 0:00:03\n",
      "     -------------------------- ------------- 7.9/11.9 MB 1.9 MB/s eta 0:00:03\n",
      "     --------------------------- ------------ 8.1/11.9 MB 2.0 MB/s eta 0:00:02\n",
      "     ----------------------------- ---------- 8.7/11.9 MB 1.9 MB/s eta 0:00:02\n",
      "     ------------------------------ --------- 8.9/11.9 MB 1.9 MB/s eta 0:00:02\n",
      "     ------------------------------ --------- 8.9/11.9 MB 1.9 MB/s eta 0:00:02\n",
      "     --------------------------------- ------ 10.0/11.9 MB 1.9 MB/s eta 0:00:01\n",
      "     ---------------------------------- ----- 10.2/11.9 MB 1.9 MB/s eta 0:00:01\n",
      "     ------------------------------------ --- 10.7/11.9 MB 1.9 MB/s eta 0:00:01\n",
      "     ------------------------------------- -- 11.0/11.9 MB 1.9 MB/s eta 0:00:01\n",
      "     ------------------------------------- -- 11.0/11.9 MB 1.9 MB/s eta 0:00:01\n",
      "     -------------------------------------- - 11.5/11.9 MB 1.9 MB/s eta 0:00:01\n",
      "     -------------------------------------- - 11.5/11.9 MB 1.9 MB/s eta 0:00:01\n",
      "     ---------------------------------------- 11.9/11.9 MB 1.8 MB/s eta 0:00:00\n",
      "  Preparing metadata (setup.py): started\n",
      "  Preparing metadata (setup.py): finished with status 'done'\n",
      "Building wheels for collected packages: mysql-connector\n",
      "  Building wheel for mysql-connector (setup.py): started\n",
      "  Building wheel for mysql-connector (setup.py): finished with status 'done'\n",
      "  Created wheel for mysql-connector: filename=mysql_connector-2.2.9-cp312-cp312-win_amd64.whl size=247959 sha256=ec0f2c394d398957810b3d263753569a54000ec8c2fe0bc213083944f993d7fd\n",
      "  Stored in directory: c:\\users\\acer\\appdata\\local\\pip\\cache\\wheels\\03\\17\\fa\\d7604c72dd3dd6d3eb3d249abf36cc532c9a9b4354b8f1bc4f\n",
      "Successfully built mysql-connector\n",
      "Installing collected packages: mysql-connector\n",
      "Successfully installed mysql-connector-2.2.9\n"
     ]
    }
   ],
   "source": [
    "!pip install mysql-connector"
   ]
  },
  {
   "cell_type": "code",
   "execution_count": 9,
   "id": "c4e654a5-3d4f-41e5-91b8-e463da63000b",
   "metadata": {},
   "outputs": [],
   "source": [
    "import mysql.connector  \t\t#importing database\n",
    "\n",
    "database = mysql.connector.connect(\n",
    "  host= \"localhost\",\n",
    "  user= \"root\",\n",
    "  password= \"\",\n",
    "  database = \"python\"\n",
    ")\n",
    "db = database.cursor()"
   ]
  },
  {
   "cell_type": "code",
   "execution_count": 10,
   "id": "14a849ae-838a-417c-86cf-e2b8f3956823",
   "metadata": {},
   "outputs": [
    {
     "name": "stdout",
     "output_type": "stream",
     "text": [
      "(1, 'Ram', 89, 90, 78, 82, 93, 450, 90.0, 'A')\n",
      "(2, 'Shyam', 90, 80, 85, 92, 87, 450, 94.0, 'A')\n",
      "(3, 'Hari', 95, 82, 80, 90, 88, 470, 95.0, 'A')\n",
      "(4, 'Sita', 78, 73, 85, 90, 92, 430, 87.0, 'A')\n",
      "(5, 'Gita', 87, 78, 80, 94, 75, 400, 82.0, 'A')\n",
      "(6, 'Krishna', 74, 70, 80, 67, 72, 378, 76.0, 'B')\n"
     ]
    }
   ],
   "source": [
    "#read all data from database\n",
    "db.execute(\"SELECT * FROM student\")\n",
    "result = db.fetchall()\n",
    "\n",
    "for x in result:\n",
    "  print(x)\n"
   ]
  },
  {
   "cell_type": "code",
   "execution_count": 11,
   "id": "f9917c1e-adcb-428e-976b-7026e07f7372",
   "metadata": {},
   "outputs": [
    {
     "name": "stdout",
     "output_type": "stream",
     "text": [
      "(1, 'Ram', 90.0, 'A')\n",
      "(2, 'Shyam', 94.0, 'A')\n",
      "(3, 'Hari', 95.0, 'A')\n",
      "(4, 'Sita', 87.0, 'A')\n",
      "(5, 'Gita', 82.0, 'A')\n",
      "(6, 'Krishna', 76.0, 'B')\n"
     ]
    }
   ],
   "source": [
    "#read selected column's data from database\n",
    "db.execute(\"SELECT sn,name,percentage,grade FROM student\")\n",
    "result = db.fetchall()\n",
    "\n",
    "for x in result:\n",
    "  print(x)\n"
   ]
  },
  {
   "cell_type": "code",
   "execution_count": 13,
   "id": "05cac66c-65a0-4ffc-87ca-576c7e0635e5",
   "metadata": {},
   "outputs": [
    {
     "name": "stdout",
     "output_type": "stream",
     "text": [
      "(6, 'Krishna', 74, 70, 80, 67, 72, 378, 76.0, 'B')\n"
     ]
    }
   ],
   "source": [
    "#read filtered column's data from database\n",
    "db.execute(\"SELECT * FROM student WHERE grade = 'B'\")\n",
    "result = db.fetchall()\n",
    "\n",
    "for x in result:\n",
    "  print(x)\n"
   ]
  },
  {
   "cell_type": "code",
   "execution_count": 16,
   "id": "bfcded97-c770-4312-8080-344f34a72862",
   "metadata": {},
   "outputs": [
    {
     "name": "stdout",
     "output_type": "stream",
     "text": [
      "(2, 'Shyam', 90, 80, 85, 92, 87, 450, 94.0, 'A')\n",
      "(3, 'Hari', 95, 82, 80, 90, 88, 470, 95.0, 'A')\n"
     ]
    }
   ],
   "source": [
    "#read filtered column's data from database\n",
    "db.execute(\"SELECT * FROM student WHERE grade = 'A' AND percentage > 90\")\n",
    "result = db.fetchall()\n",
    "\n",
    "for x in result:\n",
    "  print(x)\n"
   ]
  },
  {
   "cell_type": "code",
   "execution_count": null,
   "id": "6cbc01e9-dc1b-4b38-ab44-08534e7655f0",
   "metadata": {},
   "outputs": [],
   "source": []
  }
 ],
 "metadata": {
  "kernelspec": {
   "display_name": "Python [conda env:base] *",
   "language": "python",
   "name": "conda-base-py"
  },
  "language_info": {
   "codemirror_mode": {
    "name": "ipython",
    "version": 3
   },
   "file_extension": ".py",
   "mimetype": "text/x-python",
   "name": "python",
   "nbconvert_exporter": "python",
   "pygments_lexer": "ipython3",
   "version": "3.12.7"
  }
 },
 "nbformat": 4,
 "nbformat_minor": 5
}
