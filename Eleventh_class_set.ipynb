{
 "cells": [
  {
   "cell_type": "code",
   "execution_count": 34,
   "id": "ea1fd6ab-5e5f-4836-91f7-f7fe73346f71",
   "metadata": {},
   "outputs": [],
   "source": [
    "# Set\n",
    "# -No idexing\n",
    "# -Multiple but no duplicate\n",
    "# -Unordered\n",
    "# -Mutable: add(), remove()\n",
    "# there is no indexing as it is unordered\n",
    "# it is mainly used as it does not take duplicate data\n",
    "#There is no mutable datatype inside set\n",
    "\n",
    "#So, No list, dict, set inside set  (Important for interview) as list, dict, and set are mutable data type so they cant be used as data or value inside set\n",
    "# but tuple can be used as it is immutable datatype\n",
    "# In {} there is no use of operator. so both set and dictionary  does not use operator, i.e. concat cant be done in it using '+' operator"
   ]
  },
  {
   "cell_type": "code",
   "execution_count": 12,
   "id": "e9a79f25-01b0-445f-ad9c-27e9dc25a120",
   "metadata": {},
   "outputs": [
    {
     "name": "stdout",
     "output_type": "stream",
     "text": [
      "<class 'set'>\n"
     ]
    }
   ],
   "source": [
    "s = set()\n",
    "print(type(s))"
   ]
  },
  {
   "cell_type": "code",
   "execution_count": 9,
   "id": "37fa2c3e-118f-482b-a476-3dadb33b3be8",
   "metadata": {},
   "outputs": [
    {
     "name": "stdout",
     "output_type": "stream",
     "text": [
      "{1, 2, 3, 4, 5, 6}\n",
      "<class 'set'>\n"
     ]
    }
   ],
   "source": [
    "s = {1, 2, 3, 4, 5, 6}\n",
    "print(s)\n",
    "print(type(s))"
   ]
  },
  {
   "cell_type": "code",
   "execution_count": 13,
   "id": "a656e0bb-66ee-4a6d-9550-72e2c320e37d",
   "metadata": {},
   "outputs": [
    {
     "name": "stdout",
     "output_type": "stream",
     "text": [
      "{'Fish', 'Egg', 'Ball', 'Apple', 'Cat', 'Dog'}\n",
      "<class 'set'>\n"
     ]
    }
   ],
   "source": [
    "#Unordered\n",
    "s = {\"Apple\", \"Ball\", \"Cat\", \"Dog\", \"Egg\", \"Fish\"}\n",
    "print(s)\n",
    "print(type(s))"
   ]
  },
  {
   "cell_type": "code",
   "execution_count": 15,
   "id": "cc680aba-d365-4f4c-b04d-8359864df024",
   "metadata": {},
   "outputs": [
    {
     "name": "stdout",
     "output_type": "stream",
     "text": [
      "{'Fish', 'Egg', 'Ball', 'Apple', 'Cat', 'Dog'}\n"
     ]
    }
   ],
   "source": [
    "#NO duplicate\n",
    "s = {\"Apple\", \"Ball\", \"Cat\", \"Dog\", \"Egg\", \"Fish\", \"Apple\", \"Cat\"}\n",
    "print(s)"
   ]
  },
  {
   "cell_type": "code",
   "execution_count": 26,
   "id": "dba05d5c-361c-49c3-90fe-1274234986d5",
   "metadata": {},
   "outputs": [],
   "source": [
    "# NO Indexing\n",
    "# s = {\"Apple\", \"Ball\", \"Cat\", \"Dog\", \"Egg\", \"Fish\"}\n",
    "# s[0]\n",
    "# Will give error"
   ]
  },
  {
   "cell_type": "code",
   "execution_count": 21,
   "id": "aeed5ab9-c1fc-4d00-9a4d-58b66ea8caef",
   "metadata": {},
   "outputs": [
    {
     "name": "stdout",
     "output_type": "stream",
     "text": [
      "<class 'dict'>\n",
      "<class 'set'>\n",
      "<class 'dict'>\n"
     ]
    }
   ],
   "source": [
    "a = {}\n",
    "b = {1}\n",
    "c = {1:1}\n",
    "print(type(a))\n",
    "print(type(b))\n",
    "print(type(c))"
   ]
  },
  {
   "cell_type": "code",
   "execution_count": 23,
   "id": "bf50fb63-59bf-45c0-82c4-8d26fc712880",
   "metadata": {},
   "outputs": [
    {
     "name": "stdout",
     "output_type": "stream",
     "text": [
      "{'Cat', 'Ball', 'Apple'}\n"
     ]
    }
   ],
   "source": [
    "#Mutable\n",
    "\n",
    "#Insert data into set\n",
    "s = set()\n",
    "s.add(\"Apple\")\n",
    "s.add(\"Ball\")\n",
    "s.add(\"Cat\")\n",
    "print(s)"
   ]
  },
  {
   "cell_type": "code",
   "execution_count": 27,
   "id": "d2f41c80-1cd6-4f39-8de8-21872da6bc9b",
   "metadata": {},
   "outputs": [
    {
     "name": "stdout",
     "output_type": "stream",
     "text": [
      "{'Cat', 'Ball'}\n"
     ]
    }
   ],
   "source": [
    "#Remove data from set\n",
    "\n",
    "s = {\"Apple\", \"Ball\", \"Cat\"}\n",
    "s.remove(\"Apple\")\n",
    "print(s)"
   ]
  },
  {
   "cell_type": "code",
   "execution_count": 42,
   "id": "69d2cf2f-a411-4b8b-8c10-5b6c97ca4d1b",
   "metadata": {},
   "outputs": [],
   "source": [
    "#there is no mutable datatype inside set\n",
    "\n",
    "#So, No list, dict, set inside set  (Important for interview) as list, dict, and set are mutable data type so they cant be used as data or value inside set\n",
    "# but tuple can be used as it is immutable datatype\n",
    "# In {} there is no use of operator mostly. so both set and dictionary  does not use operator, i.e. concat cant be done in it using '+' operator"
   ]
  },
  {
   "cell_type": "code",
   "execution_count": 45,
   "id": "8684a5d1-2d28-4426-bac0-fd2be53c3f63",
   "metadata": {},
   "outputs": [],
   "source": [
    "# functions in set:\n",
    "# update: concatenates\n",
    "# union\n",
    "# intersection\n",
    "# difference\n",
    "# subset()\n",
    "# superset()\n",
    "# disjoint()"
   ]
  },
  {
   "cell_type": "code",
   "execution_count": 33,
   "id": "3cc15576-12bd-45d6-a9b5-e45f063d2d9b",
   "metadata": {},
   "outputs": [
    {
     "name": "stdout",
     "output_type": "stream",
     "text": [
      "{1, 2, 3, 4, 5, 6, 7, 8, 9, 10}\n"
     ]
    }
   ],
   "source": [
    "a = {1, 2, 3, 4, 5}\n",
    "b = {6, 7, 8, 9, 10}\n",
    "a.update(b)\n",
    "print(a)"
   ]
  },
  {
   "cell_type": "code",
   "execution_count": 43,
   "id": "20b99407-df42-4bac-90b6-afc1177542fe",
   "metadata": {},
   "outputs": [
    {
     "name": "stdout",
     "output_type": "stream",
     "text": [
      "Common HR: {'Hari', 'Chris'}\n",
      "After merging company, HR: {'Tom', 'Sita', 'Luke', 'Hari', 'Manisha', 'William', 'Steve', 'Harry', 'Chris', 'Manish', 'Bill'}\n"
     ]
    }
   ],
   "source": [
    "#here U represents all the students in university, ms and apple represt student from U who have got job in ms and apple company respectively\n",
    "U = {'Max', 'Eva','Tom', 'Sita', 'Luke', 'Hari', 'Manisha', 'William', 'Steve', 'Harry', 'Chris', 'Manish', 'Bill'}\n",
    "ms = {\"Harry\", \"William\", \"Luke\", \"Chris\", \"Hari\", \"Manish\"}\n",
    "apple = {\"Steve\", \"Bill\", \"Tom\", \"Manisha\", \"Sita\", \"Hari\", \"Chris\"}\n",
    "\n",
    "common = ms.intersection(apple)\n",
    "\n",
    "merge = ms.union(apple)\n",
    "\n",
    "print(\"Common HR:\", common)\n",
    "print(\"After merging company, HR:\", merge)"
   ]
  },
  {
   "cell_type": "code",
   "execution_count": 53,
   "id": "762483c5-a1d4-4ca9-8749-de43f1f25643",
   "metadata": {},
   "outputs": [
    {
     "name": "stdout",
     "output_type": "stream",
     "text": [
      "Only MS =  {'Harry', 'William', 'Manish', 'Luke'}\n"
     ]
    }
   ],
   "source": [
    "diff = ms.difference(apple)\n",
    "print(\"Only MS = \", diff)\n"
   ]
  },
  {
   "cell_type": "code",
   "execution_count": 39,
   "id": "d6ea9032-055f-45ff-8a8c-57b737f4e2f5",
   "metadata": {},
   "outputs": [
    {
     "name": "stdout",
     "output_type": "stream",
     "text": [
      "Only Apple =  {'Tom', 'Sita', 'Manisha', 'Steve', 'Bill'}\n"
     ]
    }
   ],
   "source": [
    "print(\"Only Apple = \", apple-ms)\n"
   ]
  },
  {
   "cell_type": "code",
   "execution_count": 44,
   "id": "44222fbf-09e6-4b77-87fb-01fb9f0253ba",
   "metadata": {},
   "outputs": [
    {
     "name": "stdout",
     "output_type": "stream",
     "text": [
      "{'Eva', 'Max'}\n"
     ]
    }
   ],
   "source": [
    "#unemployed people\n",
    "print(U-merge)"
   ]
  },
  {
   "cell_type": "code",
   "execution_count": 46,
   "id": "86244402-c210-48c3-bfb0-c7aa67c32879",
   "metadata": {},
   "outputs": [],
   "source": [
    "# subset()\n",
    "# superset()\n",
    "# disjoint()\n"
   ]
  },
  {
   "cell_type": "code",
   "execution_count": 49,
   "id": "0325accb-c824-461b-8a5e-b2f4b32d711a",
   "metadata": {},
   "outputs": [
    {
     "data": {
      "text/plain": [
       "{'js', 'react'}"
      ]
     },
     "execution_count": 49,
     "metadata": {},
     "output_type": "execute_result"
    }
   ],
   "source": [
    "skills = {'python', 'css', 'html', 'ms word', 'ms powerpoint', 'C', 'js', 'react'}\n",
    "jd = {'django', 'js', 'react'}\n",
    "skills.intersection(jd)\n"
   ]
  },
  {
   "cell_type": "code",
   "execution_count": 52,
   "id": "4db00e7d-fb4b-48d2-a072-db988478cf63",
   "metadata": {},
   "outputs": [
    {
     "data": {
      "text/plain": [
       "66.66666666666666"
      ]
     },
     "execution_count": 52,
     "metadata": {},
     "output_type": "execute_result"
    }
   ],
   "source": [
    "len(skills.intersection(jd))/len(jd)*100"
   ]
  },
  {
   "cell_type": "code",
   "execution_count": null,
   "id": "3e2a34f4-4c98-42fc-bee0-62a362df509c",
   "metadata": {},
   "outputs": [],
   "source": []
  }
 ],
 "metadata": {
  "kernelspec": {
   "display_name": "Python [conda env:base] *",
   "language": "python",
   "name": "conda-base-py"
  },
  "language_info": {
   "codemirror_mode": {
    "name": "ipython",
    "version": 3
   },
   "file_extension": ".py",
   "mimetype": "text/x-python",
   "name": "python",
   "nbconvert_exporter": "python",
   "pygments_lexer": "ipython3",
   "version": "3.12.7"
  }
 },
 "nbformat": 4,
 "nbformat_minor": 5
}
