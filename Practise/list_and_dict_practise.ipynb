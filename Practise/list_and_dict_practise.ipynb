{
 "cells": [
  {
   "cell_type": "code",
   "execution_count": 4,
   "id": "9c1b58bc-ccf4-4ea5-8cb4-888f1047c147",
   "metadata": {},
   "outputs": [],
   "source": [
    "# #WAP to take data from user and create dict inside dict and also do CRUD\n",
    "# #example3\n",
    "\n",
    "# work = {}\n",
    "# info = {}\n",
    "\n",
    "# n = int(input(\"Enter n=\"))\n",
    "\n",
    "# for i in range(n):\n",
    "#     role = input(\"Enter your role:\")\n",
    "#     name = input(\"Enter your name:\")\n",
    "#     exp = input(\"Enter your experience:\")\n",
    "\n",
    "#     if role not in work:\n",
    "#         work[role]={}\n",
    "        \n",
    "#     work[role][name] = exp\n",
    "\n",
    "# print(work)"
   ]
  },
  {
   "cell_type": "code",
   "execution_count": 5,
   "id": "bf6caa44-ca80-4dbc-b3f8-e2bbf2dfcf12",
   "metadata": {},
   "outputs": [],
   "source": [
    "work = {'software engineer': {'name': 'Ram', 'experience': 15}, \n",
    "          'data scientist': {'name': 'Sita', 'experience': 20}, \n",
    "          'web designer': {'name': 'Laxman', 'experience': 15}}"
   ]
  },
  {
   "cell_type": "code",
   "execution_count": 94,
   "id": "b64c41e5-2143-4e63-abf0-e778c4dc3a73",
   "metadata": {},
   "outputs": [
    {
     "name": "stdin",
     "output_type": "stream",
     "text": [
      "Enter n= 2\n",
      "Enter your role: software engineer\n",
      "Enter your name: ram\n",
      "Enter your experience: 13\n",
      "Enter your role: data analyst\n",
      "Enter your name: sita\n",
      "Enter your experience: 14\n"
     ]
    },
    {
     "name": "stdout",
     "output_type": "stream",
     "text": [
      "{'software engineer': {'name': 'ram', 'experience': '13'}, 'data analyst': {'name': 'sita', 'experience': '14'}}\n"
     ]
    }
   ],
   "source": [
    "#WAP to take data from user and create dict inside dict and also do CRUD\n",
    "#example1\n",
    "work = {}\n",
    "info = {}\n",
    "\n",
    "n = int(input(\"Enter n=\"))\n",
    "\n",
    "for i in range(n):\n",
    "    role = input(\"Enter your role:\")\n",
    "    name = input(\"Enter your name:\")\n",
    "    exp = input(\"Enter your experience:\")\n",
    "    \n",
    "    work[role] = {'name': name, 'experience': exp}\n",
    "print(work)"
   ]
  },
  {
   "cell_type": "code",
   "execution_count": 100,
   "id": "2a120093-3595-4aaf-afeb-71dcb646616d",
   "metadata": {},
   "outputs": [
    {
     "name": "stdin",
     "output_type": "stream",
     "text": [
      "Enter n= 2\n",
      "Enter your role: software engineer\n",
      "Enter your name: ram\n",
      "Enter your experience: 11\n",
      "Enter your role: data analyst\n",
      "Enter your name: sita\n",
      "Enter your experience: 13\n"
     ]
    },
    {
     "name": "stdout",
     "output_type": "stream",
     "text": [
      "{'software engineer': {'name': 'ram', 'experience': '11'}, 'data analyst': {'name': 'sita', 'experience': '13'}}\n"
     ]
    }
   ],
   "source": [
    "#WAP to take data from user and create dict inside dict and also do CRUD\n",
    "#example2\n",
    "\n",
    "#Create:\n",
    "\n",
    "work = {}\n",
    "info = {}\n",
    "\n",
    "n = int(input(\"Enter n=\"))\n",
    "\n",
    "for i in range(n):\n",
    "    role = input(\"Enter your role:\")\n",
    "    name = input(\"Enter your name:\")\n",
    "    exp = input(\"Enter your experience:\")\n",
    "\n",
    "    info['name'] = name\n",
    "    info['experience'] = exp\n",
    "    work[role] = dict(info)\n",
    "\n",
    "print(work)"
   ]
  },
  {
   "cell_type": "code",
   "execution_count": 101,
   "id": "88f74004-2a25-4690-9794-fd4a965bd741",
   "metadata": {},
   "outputs": [
    {
     "name": "stdout",
     "output_type": "stream",
     "text": [
      "software engineer\n",
      "data analyst\n",
      "{'name': 'ram', 'experience': '11'}\n",
      "{'name': 'sita', 'experience': '13'}\n",
      "('software engineer', {'name': 'ram', 'experience': '11'})\n",
      "('data analyst', {'name': 'sita', 'experience': '13'})\n"
     ]
    }
   ],
   "source": [
    "#Read\n",
    "\n",
    "for i in work:\n",
    "    print(i)\n",
    "\n",
    "for i in work.values():\n",
    "    print(i)\n",
    "    \n",
    "for i in work.items():\n",
    "    print(i)"
   ]
  },
  {
   "cell_type": "code",
   "execution_count": 102,
   "id": "301767cb-8da8-4aba-bcee-eebcbb60296b",
   "metadata": {},
   "outputs": [
    {
     "name": "stdout",
     "output_type": "stream",
     "text": [
      "{'software engineer': {'name': 'ram', 'experience': '13'}, 'data analyst': {'name': 'gita', 'experience': '13'}}\n"
     ]
    }
   ],
   "source": [
    "#Update:\n",
    "\n",
    "work['data analyst']['name'] = 'gita'\n",
    "work['software engineer']['experience'] = '13' \n",
    "print(work)"
   ]
  },
  {
   "cell_type": "code",
   "execution_count": 103,
   "id": "6614f77d-a85a-4c00-a11e-5ee4d5c79bb5",
   "metadata": {},
   "outputs": [
    {
     "name": "stdout",
     "output_type": "stream",
     "text": [
      "{'software engineer': {'name': 'ram'}}\n"
     ]
    }
   ],
   "source": [
    "#Delete:\n",
    "\n",
    "del work['software engineer']['experience']\n",
    "work.pop('data analyst')\n",
    "\n",
    "print(work)"
   ]
  },
  {
   "cell_type": "code",
   "execution_count": 9,
   "id": "86b93a2a-d255-4321-96ed-6e01c66c7f0d",
   "metadata": {},
   "outputs": [],
   "source": [
    "employee = [{'role': 'software engineer', 'name': 'Ram'}, {'role': 'data analyst', 'name': 'Manish'}]"
   ]
  },
  {
   "cell_type": "code",
   "execution_count": 63,
   "id": "7c6a3484-235a-49f3-8dfc-4ea0b566c969",
   "metadata": {},
   "outputs": [
    {
     "name": "stdin",
     "output_type": "stream",
     "text": [
      "Enter n= 2\n",
      "Enter your role: software engineer\n",
      "Enter your name: ram\n",
      "Enter your role: data analyst\n",
      "Enter your name: sita\n"
     ]
    },
    {
     "name": "stdout",
     "output_type": "stream",
     "text": [
      "[{'role': 'software engineer', 'name': 'ram'}, {'role': 'data analyst', 'name': 'sita'}]\n"
     ]
    }
   ],
   "source": [
    "#WAP to take data from user and create dict inside list and also do CRUD\n",
    "\n",
    "#Create:\n",
    "\n",
    "employee = []\n",
    "\n",
    "n = int(input(\"Enter n=\"))\n",
    "\n",
    "for i in range(n):\n",
    "    role = input(\"Enter your role:\")\n",
    "    name = input(\"Enter your name:\")\n",
    "\n",
    "    info = {}\n",
    "    \n",
    "    info['role'] = role\n",
    "    info['name'] = name\n",
    "    employee.append(info)\n",
    "    \n",
    "print(employee)\n",
    "\n"
   ]
  },
  {
   "cell_type": "code",
   "execution_count": 64,
   "id": "e019a19c-8e3f-42f2-8352-3cebea3fb345",
   "metadata": {},
   "outputs": [
    {
     "name": "stdout",
     "output_type": "stream",
     "text": [
      "{'role': 'software engineer', 'name': 'ram'}\n",
      "{'role': 'data analyst', 'name': 'sita'}\n"
     ]
    }
   ],
   "source": [
    "#Read:\n",
    "\n",
    "for i in employee:\n",
    "    print(i)\n"
   ]
  },
  {
   "cell_type": "code",
   "execution_count": 65,
   "id": "c313afe9-0a8c-4a0b-83e8-ffe62be8ffe2",
   "metadata": {},
   "outputs": [
    {
     "name": "stdout",
     "output_type": "stream",
     "text": [
      "[{'role': 'data scientist', 'name': 'ram'}, {'role': 'data analyst', 'name': 'Manish'}]\n"
     ]
    }
   ],
   "source": [
    "#Update:\n",
    "\n",
    "employee[0]['role'] = 'data scientist'\n",
    "employee[1]['name'] = 'Manish'\n",
    "\n",
    "print(employee)"
   ]
  },
  {
   "cell_type": "code",
   "execution_count": 66,
   "id": "2277a32b-85b8-4cdb-a423-8965aa51d935",
   "metadata": {},
   "outputs": [
    {
     "name": "stdout",
     "output_type": "stream",
     "text": [
      "[{'role': 'data analyst'}]\n"
     ]
    }
   ],
   "source": [
    "#Delete:\n",
    "\n",
    "del employee[1]['name']\n",
    "\n",
    "employee.pop(0)\n",
    "print(employee)\n"
   ]
  },
  {
   "cell_type": "code",
   "execution_count": null,
   "id": "2676914a-5a41-4511-8200-ed226d5d390b",
   "metadata": {},
   "outputs": [],
   "source": []
  }
 ],
 "metadata": {
  "kernelspec": {
   "display_name": "Python [conda env:base] *",
   "language": "python",
   "name": "conda-base-py"
  },
  "language_info": {
   "codemirror_mode": {
    "name": "ipython",
    "version": 3
   },
   "file_extension": ".py",
   "mimetype": "text/x-python",
   "name": "python",
   "nbconvert_exporter": "python",
   "pygments_lexer": "ipython3",
   "version": "3.12.7"
  }
 },
 "nbformat": 4,
 "nbformat_minor": 5
}
