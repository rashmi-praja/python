{
 "cells": [
  {
   "cell_type": "code",
   "execution_count": 1,
   "id": "dded9f32-4ce2-4bd5-8458-d5ae5e428a22",
   "metadata": {},
   "outputs": [],
   "source": [
    "#Function: \n",
    "# - Pre-defined function\n",
    "# - User-defined function"
   ]
  },
  {
   "cell_type": "code",
   "execution_count": 2,
   "id": "c24b726c-a5ad-416f-b99f-a4d02b5d17af",
   "metadata": {},
   "outputs": [],
   "source": [
    "# Predefined function: print(), type(), int(), float(), str(), list(), tuple(), dict()"
   ]
  },
  {
   "cell_type": "code",
   "execution_count": 7,
   "id": "bb8bfb48-dff1-42be-95d7-1c687028f20d",
   "metadata": {},
   "outputs": [],
   "source": [
    "# #User-defined Function syntax\n",
    "\n",
    "# def <function name>():\n",
    "#     <operations>\n",
    "\n",
    "# <function_name>"
   ]
  },
  {
   "cell_type": "code",
   "execution_count": 5,
   "id": "b1724bd4-51a6-4797-9d78-36eb892c2ae0",
   "metadata": {},
   "outputs": [
    {
     "name": "stdout",
     "output_type": "stream",
     "text": [
      "Hello World\n"
     ]
    }
   ],
   "source": [
    "def hello():\n",
    "    print(\"Hello World\")\n",
    "\n",
    "hello()"
   ]
  },
  {
   "cell_type": "code",
   "execution_count": 13,
   "id": "a097a901-5d7c-4319-9995-41fe93cf6fad",
   "metadata": {},
   "outputs": [],
   "source": [
    "#Function without argument and no return type:"
   ]
  },
  {
   "cell_type": "code",
   "execution_count": 12,
   "id": "6680c034-cc7b-4435-8abf-0af291c15f22",
   "metadata": {},
   "outputs": [
    {
     "name": "stdout",
     "output_type": "stream",
     "text": [
      "40\n"
     ]
    }
   ],
   "source": [
    "def area():\n",
    "    l = 10       #local variable\n",
    "    b = 4        #local variable\n",
    "    a  = l*b     #local variable\n",
    "    print(a)\n",
    "\n",
    "area()"
   ]
  },
  {
   "cell_type": "code",
   "execution_count": 10,
   "id": "bac6b599-3a67-46e8-a87e-ca6e78686536",
   "metadata": {},
   "outputs": [],
   "source": [
    "#Local varable: any variable declared inside a function where it can be used only in the function it was declared or defined in.\n",
    "#global variable: any variable declared or defines outside a function where it can be used both outside and inside any functions."
   ]
  },
  {
   "cell_type": "code",
   "execution_count": 14,
   "id": "cd219091-7d9b-48d8-9a3d-115d7242cc4d",
   "metadata": {},
   "outputs": [
    {
     "name": "stdout",
     "output_type": "stream",
     "text": [
      "50\n"
     ]
    }
   ],
   "source": [
    "l = 10    #global variable\n",
    "b = 5     #global variable\n",
    "def area():\n",
    "    a = l*b\n",
    "    print(a)\n",
    "area()"
   ]
  },
  {
   "cell_type": "code",
   "execution_count": 16,
   "id": "48191cce-a870-4a92-a5d2-d15a0bf5ae6d",
   "metadata": {},
   "outputs": [
    {
     "name": "stdout",
     "output_type": "stream",
     "text": [
      "50\n"
     ]
    }
   ],
   "source": [
    "#Function with arguments\n",
    "def area(l,b):  #here l, b is parameter\n",
    "    a = l*b\n",
    "    print(a)\n",
    "\n",
    "area(10,5)   #here 10, 5 is argument"
   ]
  },
  {
   "cell_type": "code",
   "execution_count": 17,
   "id": "88b22799-1a4b-4baf-91de-c0728fb727b3",
   "metadata": {},
   "outputs": [
    {
     "name": "stdin",
     "output_type": "stream",
     "text": [
      "Enter name: Ram\n",
      "Enter age: 19\n",
      "ENter address: bkt\n"
     ]
    },
    {
     "name": "stdout",
     "output_type": "stream",
     "text": [
      "Hello World, I am Ram. I am from bkt. I am 19\n"
     ]
    }
   ],
   "source": [
    "def info(name, age, add):\n",
    "    data = f\"Hello World, I am {name}. I am from {add}. I am {age}\"\n",
    "    print(data)\n",
    "\n",
    "name = input(\"Enter name:\")\n",
    "age = input(\"Enter age:\")\n",
    "add = input(\"ENter address:\")\n",
    "\n",
    "info(name,age,add)"
   ]
  },
  {
   "cell_type": "code",
   "execution_count": 24,
   "id": "efa68cc0-8956-4d23-8014-5ecc12bae7f8",
   "metadata": {},
   "outputs": [
    {
     "name": "stdin",
     "output_type": "stream",
     "text": [
      "Enter name: ram\n",
      "Enter age: 12\n",
      "ENter address: bkt\n"
     ]
    },
    {
     "name": "stdout",
     "output_type": "stream",
     "text": [
      "Hello World, I am ram. I am from bkt. I am 12\n"
     ]
    }
   ],
   "source": [
    "def info(x):\n",
    "    name, age, add = x\n",
    "    data = f\"Hello World, I am {name}. I am from {add}. I am {age}\"\n",
    "    print(data)\n",
    "\n",
    "name = input(\"Enter name:\")\n",
    "age = input(\"Enter age:\")\n",
    "add = input(\"ENter address:\")\n",
    "x = [name, age, add]\n",
    "info(x)"
   ]
  },
  {
   "cell_type": "code",
   "execution_count": 23,
   "id": "d39bc10e-f04b-47f4-9f4c-e8f9a922f218",
   "metadata": {},
   "outputs": [],
   "source": [
    "x = [\"Ram\", 12, \"Bhakatapur\"]\n",
    "a,b, c = x"
   ]
  },
  {
   "cell_type": "code",
   "execution_count": 25,
   "id": "eda6adb7-aede-4e08-a835-9e54cdfcf106",
   "metadata": {},
   "outputs": [
    {
     "name": "stdout",
     "output_type": "stream",
     "text": [
      "php\n",
      "c\n",
      "c++\n",
      "java\n",
      "Python\n"
     ]
    }
   ],
   "source": [
    "def language(x = \"Python\"):\n",
    "    print(x)\n",
    "\n",
    "language(\"php\")\n",
    "language(\"c\")\n",
    "language(\"c++\")\n",
    "language(\"java\")\n",
    "language()"
   ]
  },
  {
   "cell_type": "code",
   "execution_count": 29,
   "id": "7724691a-b461-4d1b-8e2e-bc1071d46dd7",
   "metadata": {},
   "outputs": [
    {
     "name": "stdin",
     "output_type": "stream",
     "text": [
      "Enter name: ra,\n",
      "Enter age: 12\n"
     ]
    },
    {
     "name": "stdout",
     "output_type": "stream",
     "text": [
      "Hello World, I am ra,. I am from Nepal. I am 12\n"
     ]
    }
   ],
   "source": [
    "def info(name,age,add=\"Nepal\"):\n",
    "    data = f\"Hello World, I am {name}. I am from {add}. I am {age}\"\n",
    "    print(data)\n",
    "\n",
    "name = input(\"Enter name:\")\n",
    "age = input(\"Enter age:\")\n",
    "# add = input(\"ENter address:\")\n",
    "info(name, age)"
   ]
  },
  {
   "cell_type": "code",
   "execution_count": 31,
   "id": "44e70180-4557-42f2-9917-e16c7b1351c7",
   "metadata": {},
   "outputs": [
    {
     "name": "stdout",
     "output_type": "stream",
     "text": [
      "hello world I am python\n"
     ]
    }
   ],
   "source": [
    "#Return type\n",
    "\n",
    "def hello():\n",
    "    return \"hello world\"\n",
    "\n",
    "x = hello()\n",
    "info = f\"{x} I am python\"\n",
    "print(info)"
   ]
  },
  {
   "cell_type": "code",
   "execution_count": 33,
   "id": "1125751e-0209-4a8c-9eef-30204963a060",
   "metadata": {},
   "outputs": [
    {
     "name": "stdout",
     "output_type": "stream",
     "text": [
      "100\n"
     ]
    }
   ],
   "source": [
    "def area(l,b):\n",
    "    a = l*b\n",
    "    return a\n",
    "\n",
    "l =10\n",
    "b=5\n",
    "h=2\n",
    "\n",
    "a=area(l,b)\n",
    "v = a*h\n",
    "print(v)"
   ]
  },
  {
   "cell_type": "code",
   "execution_count": 36,
   "id": "c2912b12-a84b-47ea-b1ec-9f45339bd723",
   "metadata": {},
   "outputs": [
    {
     "name": "stdout",
     "output_type": "stream",
     "text": [
      "50\n",
      "100\n"
     ]
    }
   ],
   "source": [
    "def cal(l,b, h):\n",
    "    a = l*b\n",
    "    v = a*h\n",
    "    return a,v\n",
    "\n",
    "l =10\n",
    "b=5\n",
    "h=2\n",
    "\n",
    "# print(cal(l,b,h))     Output:  (50, 100)\n",
    "\n",
    "area, volume = cal(l,b, h)\n",
    "print(area)\n",
    "print(volume)"
   ]
  },
  {
   "cell_type": "code",
   "execution_count": 42,
   "id": "bceb8ede-e0c8-4101-a132-695335f8a7d4",
   "metadata": {},
   "outputs": [
    {
     "name": "stdin",
     "output_type": "stream",
     "text": [
      "Enter a number: 7\n",
      "Enter another number: 4\n",
      "Enter '+' or '-' or '*' or '/' : -\n"
     ]
    },
    {
     "name": "stdout",
     "output_type": "stream",
     "text": [
      "Difference is 3\n"
     ]
    }
   ],
   "source": [
    "#Simple Calcutor using function:\n",
    "\n",
    "def add(a,b):\n",
    "    return a+b\n",
    "\n",
    "def sub(a,b):\n",
    "    return a-b\n",
    "\n",
    "def mul(a,b):\n",
    "    return a*b\n",
    "\n",
    "def div(a,b):\n",
    "    return a/b\n",
    "\n",
    "a = int(input(\"Enter a number:\"))\n",
    "b = int(input(\"Enter another number:\"))\n",
    "o = input(\"Enter '+' or '-' or '*' or '/' :\")\n",
    "\n",
    "if o == '+':\n",
    "    print(\"Sum is\", add(a,b))\n",
    "    \n",
    "elif o == '-':\n",
    "    print(\"Difference is\", sub(a,b))\n",
    "    \n",
    "elif o == '*':\n",
    "    print(\"Product is\", mul(a,b))\n",
    "    \n",
    "elif o == '/' and b != 0:\n",
    "    print(\"Division is\", div(a,b))\n",
    "    \n",
    "elif o == '/' and b == 0:\n",
    "    print(\"the value of b cannot be zero while dividing\")\n",
    "    \n",
    "else:\n",
    "    print(\"Invalid operator!\")"
   ]
  },
  {
   "cell_type": "code",
   "execution_count": 47,
   "id": "899d4a5a-385d-419a-933a-a75a5b520aea",
   "metadata": {},
   "outputs": [
    {
     "name": "stdout",
     "output_type": "stream",
     "text": [
      "Hello World\n"
     ]
    },
    {
     "name": "stdin",
     "output_type": "stream",
     "text": [
      "Enter y for more print: y\n"
     ]
    },
    {
     "name": "stdout",
     "output_type": "stream",
     "text": [
      "Hello World\n"
     ]
    },
    {
     "name": "stdin",
     "output_type": "stream",
     "text": [
      "Enter y for more print: y\n"
     ]
    },
    {
     "name": "stdout",
     "output_type": "stream",
     "text": [
      "Hello World\n"
     ]
    },
    {
     "name": "stdin",
     "output_type": "stream",
     "text": [
      "Enter y for more print: y\n"
     ]
    },
    {
     "name": "stdout",
     "output_type": "stream",
     "text": [
      "Hello World\n"
     ]
    },
    {
     "name": "stdin",
     "output_type": "stream",
     "text": [
      "Enter y for more print: y\n"
     ]
    },
    {
     "name": "stdout",
     "output_type": "stream",
     "text": [
      "Hello World\n"
     ]
    },
    {
     "name": "stdin",
     "output_type": "stream",
     "text": [
      "Enter y for more print: g\n"
     ]
    }
   ],
   "source": [
    "#Recursive function:\n",
    "\n",
    "def hello():\n",
    "    print(\"Hello World\")\n",
    "    x = input(\"Enter y for more print:\")\n",
    "    if x == 'y':\n",
    "        hello()\n",
    "    \n",
    "hello()"
   ]
  },
  {
   "cell_type": "code",
   "execution_count": 50,
   "id": "4db1e6d5-241c-464c-9966-40c40eff9faa",
   "metadata": {},
   "outputs": [],
   "source": [
    "#lambda function: used for short and repeatative work/operations\n",
    "# Syntax:\n",
    "# lambda <arguments>:<operations>"
   ]
  },
  {
   "cell_type": "code",
   "execution_count": 49,
   "id": "cd144484-5f16-44e6-8e34-310a9f0efbf2",
   "metadata": {},
   "outputs": [
    {
     "name": "stdout",
     "output_type": "stream",
     "text": [
      "4\n"
     ]
    }
   ],
   "source": [
    "x = lambda a:a**2\n",
    "print(x(2))"
   ]
  },
  {
   "cell_type": "code",
   "execution_count": 52,
   "id": "ecd15b7d-207d-4685-a8d6-cbde2c2fd46a",
   "metadata": {},
   "outputs": [
    {
     "name": "stdout",
     "output_type": "stream",
     "text": [
      "50\n"
     ]
    }
   ],
   "source": [
    "x = lambda l,b:l*b\n",
    "print(x(10,5))"
   ]
  },
  {
   "cell_type": "code",
   "execution_count": 53,
   "id": "197c0f15-9428-4d49-bac2-7d258d8e0a12",
   "metadata": {},
   "outputs": [
    {
     "data": {
      "text/plain": [
       "'hello world'"
      ]
     },
     "execution_count": 53,
     "metadata": {},
     "output_type": "execute_result"
    }
   ],
   "source": [
    "x = lambda s:s.lower()\n",
    "x(\"Hello World\")"
   ]
  },
  {
   "cell_type": "code",
   "execution_count": null,
   "id": "e46058b7-da64-4ba1-b943-e02ac35f7329",
   "metadata": {},
   "outputs": [],
   "source": []
  }
 ],
 "metadata": {
  "kernelspec": {
   "display_name": "Python [conda env:base] *",
   "language": "python",
   "name": "conda-base-py"
  },
  "language_info": {
   "codemirror_mode": {
    "name": "ipython",
    "version": 3
   },
   "file_extension": ".py",
   "mimetype": "text/x-python",
   "name": "python",
   "nbconvert_exporter": "python",
   "pygments_lexer": "ipython3",
   "version": "3.12.7"
  }
 },
 "nbformat": 4,
 "nbformat_minor": 5
}
