{
 "cells": [
  {
   "cell_type": "code",
   "execution_count": 11,
   "id": "b325b1a9-f502-47cd-82f1-49f7d2b1343d",
   "metadata": {},
   "outputs": [],
   "source": [
    "# Python Collections;\n",
    "# List\n",
    "    # - Indexing  -Multiple and duplicate  -Ordered  - Mutable data type(easily changeable)(its orginal state or orientation can change)\n",
    "     \n",
    "# Tuple\n",
    "# Dict\n",
    "# Set"
   ]
  },
  {
   "cell_type": "code",
   "execution_count": 25,
   "id": "7b86d408-3cdb-4aa9-9cdd-bab2d549ee74",
   "metadata": {},
   "outputs": [
    {
     "name": "stdout",
     "output_type": "stream",
     "text": [
      "[1, 2, 3, 4, 5, 6, 7, 1, 2]\n",
      "['Apple', 'Banana', 'Orange', 'Mango', 'Apple']\n",
      "<class 'list'>\n",
      "<class 'list'>\n"
     ]
    }
   ],
   "source": [
    "l = list()   #empty list\n",
    "#multiple, duplicate and ordered\n",
    "list1 = [1,2,3,4,5,6,7, 1, 2] \n",
    "list2 = [\"Apple\", \"Banana\", \"Orange\", \"Mango\", \"Apple\"]\n",
    "print(list1)\n",
    "print(list2)\n",
    "print(type(list1))\n",
    "print(type(list2))"
   ]
  },
  {
   "cell_type": "code",
   "execution_count": 24,
   "id": "b659a72e-fae5-458b-b233-dcd5b238d368",
   "metadata": {},
   "outputs": [
    {
     "name": "stdout",
     "output_type": "stream",
     "text": [
      "Apple\n",
      "['Apple', 'Banana', 'Orange']\n",
      "['Apple', 'Orange', 'Apple']\n",
      "Cherry\n"
     ]
    }
   ],
   "source": [
    "#indexing\n",
    "list2 = [\"Apple\", \"Banana\", \"Orange\", \"Mango\", \"Apple\", \"Cherry\"]\n",
    "print(list2[0])\n",
    "print(list2[0:3])\n",
    "print(list2[0:6:2])\n",
    "print(list2[-1])"
   ]
  },
  {
   "cell_type": "code",
   "execution_count": 22,
   "id": "9fcc9dc6-2ea1-4b00-b740-2e3e53e75f72",
   "metadata": {},
   "outputs": [
    {
     "name": "stdout",
     "output_type": "stream",
     "text": [
      "[1, 2, 3, 4, 5, 6]\n"
     ]
    }
   ],
   "source": [
    "a = [1,2,3]\n",
    "b = [4,5,6]\n",
    "c = a+b   #concatenation\n",
    "print(c)"
   ]
  },
  {
   "cell_type": "code",
   "execution_count": 23,
   "id": "5adcaebc-4edc-4bfe-9ab8-d8001f392f6e",
   "metadata": {},
   "outputs": [
    {
     "name": "stdout",
     "output_type": "stream",
     "text": [
      "['Hello', 'World', 'Hello', 'World']\n"
     ]
    }
   ],
   "source": [
    "a = [\"Hello\", \"World\"]\n",
    "print(a*2)   #enlargement"
   ]
  },
  {
   "cell_type": "code",
   "execution_count": 26,
   "id": "07c2707c-0789-43e8-8530-1b63a538b36a",
   "metadata": {},
   "outputs": [
    {
     "name": "stdout",
     "output_type": "stream",
     "text": [
      "Apple\n",
      "Ball\n",
      "Cat\n"
     ]
    }
   ],
   "source": [
    "b = [\"Apple\", \"Ball\", \"Cat\"]\n",
    "for i in b:\n",
    "    print(i)"
   ]
  },
  {
   "cell_type": "code",
   "execution_count": 44,
   "id": "f3c2c2c8-25a8-4f16-a2e3-c5a964432dbb",
   "metadata": {},
   "outputs": [
    {
     "name": "stdin",
     "output_type": "stream",
     "text": [
      "Enter n = 4\n",
      "Enter x = 10\n"
     ]
    },
    {
     "name": "stdout",
     "output_type": "stream",
     "text": [
      "[10]\n"
     ]
    },
    {
     "name": "stdin",
     "output_type": "stream",
     "text": [
      "Enter x = 20\n"
     ]
    },
    {
     "name": "stdout",
     "output_type": "stream",
     "text": [
      "[10, 20]\n"
     ]
    },
    {
     "name": "stdin",
     "output_type": "stream",
     "text": [
      "Enter x = 50\n"
     ]
    },
    {
     "name": "stdout",
     "output_type": "stream",
     "text": [
      "[10, 20, 50]\n"
     ]
    },
    {
     "name": "stdin",
     "output_type": "stream",
     "text": [
      "Enter x = 30\n"
     ]
    },
    {
     "name": "stdout",
     "output_type": "stream",
     "text": [
      "[10, 20, 50, 30]\n",
      "[10, 20, 50, 30]\n"
     ]
    }
   ],
   "source": [
    "l = []\n",
    "n = int(input(\"Enter n =\"))\n",
    "for i in range(n):\n",
    "    x = int(input(\"Enter x =\"))\n",
    "    l = l + [x]\n",
    "    print(l)\n",
    "print(l)\n",
    "\n"
   ]
  },
  {
   "cell_type": "code",
   "execution_count": 45,
   "id": "7e01c6b5-9c04-4696-80a8-cf9cb4167282",
   "metadata": {},
   "outputs": [
    {
     "name": "stdout",
     "output_type": "stream",
     "text": [
      "Min value = 10\n",
      "Max value = 50\n",
      "Sum of value = 110\n",
      "[10, 20, 30, 50]\n",
      "[50, 30, 20, 10]\n"
     ]
    }
   ],
   "source": [
    "#Mutable (all the code here on forth shows that list is mutable)\n",
    "print(\"Min value =\", min(l))\n",
    "print(\"Max value =\", max(l))\n",
    "print(\"Sum of value =\", sum(l))\n",
    "l.sort()\n",
    "print(l)\n",
    "l.reverse()\n",
    "print(l)\n",
    "#data should be only one type when sorting"
   ]
  },
  {
   "cell_type": "code",
   "execution_count": 4,
   "id": "57ba9d0f-7068-4b31-a7b2-fbabd3df6691",
   "metadata": {},
   "outputs": [
    {
     "name": "stdout",
     "output_type": "stream",
     "text": [
      "['Aakash', 'Apple', 'Banana', 'Xray', 'Zebra', 'watch']\n"
     ]
    }
   ],
   "source": [
    "a = [\"Banana\", \"Apple\", \"Aakash\", \"Zebra\", \"Xray\", \"watch\"]\n",
    "a.sort()\n",
    "print(a)"
   ]
  },
  {
   "cell_type": "code",
   "execution_count": 5,
   "id": "066560ae-41b6-4c93-bbd6-739990bef2d3",
   "metadata": {},
   "outputs": [
    {
     "name": "stdout",
     "output_type": "stream",
     "text": [
      "['watch', 'Xray', 'Zebra', 'Aakash', 'Apple', 'Banana']\n"
     ]
    }
   ],
   "source": [
    "a = [\"Banana\", \"Apple\", \"Aakash\", \"Zebra\", \"Xray\", \"watch\"]\n",
    "a.reverse()\n",
    "print(a)"
   ]
  },
  {
   "cell_type": "code",
   "execution_count": 8,
   "id": "008db284-7933-4184-af8a-de3acfe2e7af",
   "metadata": {},
   "outputs": [],
   "source": [
    "# CRUD operation\n",
    "# C - Create: append(), insert(), extend()\n",
    "# R - Read\n",
    "# U - Update\n",
    "# D - Delete"
   ]
  },
  {
   "cell_type": "code",
   "execution_count": 18,
   "id": "f3083493-0bc2-4332-8f34-6ac16791aaa6",
   "metadata": {},
   "outputs": [
    {
     "name": "stdout",
     "output_type": "stream",
     "text": [
      "['Apple', 'Ball', 'Cat']\n"
     ]
    }
   ],
   "source": [
    "#append()\n",
    "l =[]\n",
    "l.append(\"Apple\")\n",
    "l.append(\"Ball\")\n",
    "l.append(\"Cat\")\n",
    "print(l)"
   ]
  },
  {
   "cell_type": "code",
   "execution_count": 17,
   "id": "79e22451-4123-47e7-8e80-06fecd43aa86",
   "metadata": {},
   "outputs": [
    {
     "name": "stdin",
     "output_type": "stream",
     "text": [
      "Enter n = 5\n",
      "Enter x = 10\n"
     ]
    },
    {
     "name": "stdout",
     "output_type": "stream",
     "text": [
      "[10]\n"
     ]
    },
    {
     "name": "stdin",
     "output_type": "stream",
     "text": [
      "Enter x = 20\n"
     ]
    },
    {
     "name": "stdout",
     "output_type": "stream",
     "text": [
      "[10, 20]\n"
     ]
    },
    {
     "name": "stdin",
     "output_type": "stream",
     "text": [
      "Enter x = 30\n"
     ]
    },
    {
     "name": "stdout",
     "output_type": "stream",
     "text": [
      "[10, 20, 30]\n"
     ]
    },
    {
     "name": "stdin",
     "output_type": "stream",
     "text": [
      "Enter x = 60\n"
     ]
    },
    {
     "name": "stdout",
     "output_type": "stream",
     "text": [
      "[10, 20, 30, 60]\n"
     ]
    },
    {
     "name": "stdin",
     "output_type": "stream",
     "text": [
      "Enter x = 50\n"
     ]
    },
    {
     "name": "stdout",
     "output_type": "stream",
     "text": [
      "[10, 20, 30, 60, 50]\n",
      "[10, 20, 30, 60, 50]\n"
     ]
    }
   ],
   "source": [
    "l = []\n",
    "n = int(input(\"Enter n =\"))\n",
    "for i in range(n):\n",
    "    x = int(input(\"Enter x =\"))\n",
    "    l.append(x)\n",
    "    print(l)\n",
    "print(l)\n"
   ]
  },
  {
   "cell_type": "code",
   "execution_count": 33,
   "id": "3176f23d-fe89-474e-95c7-9884fdd2010b",
   "metadata": {},
   "outputs": [
    {
     "name": "stdout",
     "output_type": "stream",
     "text": [
      "['Banana', 'apple', 'Apple', 'Aakash', 'Zebra', 'Xray', 'watch', 'logical error']\n"
     ]
    }
   ],
   "source": [
    "#insert(): add data in a particular index/position and moves the orginal data in that index to next index number\n",
    "a = [\"Banana\", \"Apple\", \"Aakash\", \"Zebra\", \"Xray\", \"watch\"]\n",
    "a.insert(1, \"apple\")\n",
    "a.insert(9, \"logical error\") #this is logically wrong\n",
    "print(a)"
   ]
  },
  {
   "cell_type": "code",
   "execution_count": 32,
   "id": "01f9a852-8d2a-4b86-bbb0-b6650e6eb98a",
   "metadata": {},
   "outputs": [
    {
     "name": "stdout",
     "output_type": "stream",
     "text": [
      "[1, 2, 3, 4, 5, 6, 7, 8, 9, 10]\n"
     ]
    }
   ],
   "source": [
    "#extend(): similar to concatenation\n",
    "a = [1,2,3,4,5]\n",
    "b = [6,7,8,9,10]\n",
    "a.extend(b)\n",
    "print(a)"
   ]
  },
  {
   "cell_type": "code",
   "execution_count": 39,
   "id": "40be1b44-7a7b-4bfc-aaea-8375e99f1e33",
   "metadata": {},
   "outputs": [
    {
     "data": {
      "text/plain": [
       "['Nabin', 'Apple', 'Aakash', 'Zebra', 'Xray', 'watch']"
      ]
     },
     "execution_count": 39,
     "metadata": {},
     "output_type": "execute_result"
    }
   ],
   "source": [
    "#update: add data in a particular index/postion and deletes the original data in that index\n",
    "a = [\"Banana\", \"Apple\", \"Aakash\", \"Zebra\", \"Xray\", \"watch\"]\n",
    "a[0] = \"Nabin\"\n",
    "a"
   ]
  },
  {
   "cell_type": "code",
   "execution_count": 40,
   "id": "7fc81849-6dea-43c6-acb1-c899bdc805b2",
   "metadata": {},
   "outputs": [
    {
     "data": {
      "text/plain": [
       "['Sita', 'Gita', 'Aakash', 'Zebra', 'Xray', 'watch']"
      ]
     },
     "execution_count": 40,
     "metadata": {},
     "output_type": "execute_result"
    }
   ],
   "source": [
    "a = [\"Banana\", \"Apple\", \"Aakash\", \"Zebra\", \"Xray\", \"watch\"]\n",
    "a[0:2] = [\"Sita\", \"Gita\"]\n",
    "a"
   ]
  },
  {
   "cell_type": "code",
   "execution_count": 49,
   "id": "06e9ef65-5396-4f99-8202-c56df7e93c76",
   "metadata": {},
   "outputs": [],
   "source": [
    "#delete: del (keyword), functions: remove(), pop()"
   ]
  },
  {
   "cell_type": "code",
   "execution_count": 47,
   "id": "f733507f-d29a-452a-b58d-344937dd1c57",
   "metadata": {},
   "outputs": [
    {
     "data": {
      "text/plain": [
       "['Apple', 'Aakash', 'Zebra', 'Xray', 'watch']"
      ]
     },
     "execution_count": 47,
     "metadata": {},
     "output_type": "execute_result"
    }
   ],
   "source": [
    "a = [\"Banana\", \"Apple\", \"Aakash\", \"Zebra\", \"Xray\", \"watch\"]\n",
    "del a[0]\n",
    "a"
   ]
  },
  {
   "cell_type": "code",
   "execution_count": 52,
   "id": "202ebaa8-4f61-4418-b0c3-65b89d73b47f",
   "metadata": {},
   "outputs": [
    {
     "name": "stdout",
     "output_type": "stream",
     "text": [
      "['Aakash', 'Zebra', 'Xray', 'watch']\n"
     ]
    }
   ],
   "source": [
    "a = [\"Banana\", \"Apple\", \"Aakash\", \"Zebra\", \"Xray\", \"watch\"]\n",
    "del a[0:2]\n",
    "print(a)"
   ]
  },
  {
   "cell_type": "code",
   "execution_count": 51,
   "id": "57527900-76b1-4320-aeae-0698edfeca7a",
   "metadata": {},
   "outputs": [
    {
     "name": "stdout",
     "output_type": "stream",
     "text": [
      "['Banana', 'Aakash', 'Zebra', 'Xray', 'watch']\n"
     ]
    }
   ],
   "source": [
    "a = [\"Banana\", \"Apple\", \"Aakash\", \"Zebra\", \"Xray\", \"watch\"]\n",
    "a.remove(\"Apple\")\n",
    "print(a)"
   ]
  },
  {
   "cell_type": "code",
   "execution_count": 55,
   "id": "168f731f-b7a8-4c67-909d-ff8b6592ce63",
   "metadata": {},
   "outputs": [
    {
     "name": "stdout",
     "output_type": "stream",
     "text": [
      "['Banana', 'Apple', 'Aakash', 'Zebra', 'Xray']\n"
     ]
    }
   ],
   "source": [
    "a = [\"Banana\", \"Apple\", \"Aakash\", \"Zebra\", \"Xray\", \"watch\"]\n",
    "a.pop() #removes the last data/ data at the end\n",
    "print(a)"
   ]
  },
  {
   "cell_type": "code",
   "execution_count": 54,
   "id": "65bc2cf4-ff01-4d68-97c3-7d8e25d78c6b",
   "metadata": {},
   "outputs": [
    {
     "name": "stdout",
     "output_type": "stream",
     "text": [
      "['Banana', 'Apple', 'Aakash', 'Xray', 'watch']\n"
     ]
    }
   ],
   "source": [
    "a = [\"Banana\", \"Apple\", \"Aakash\", \"Zebra\", \"Xray\", \"watch\"]\n",
    "a.pop(3)\n",
    "print(a)"
   ]
  },
  {
   "cell_type": "code",
   "execution_count": 1,
   "id": "d9986429-a139-42f7-a311-8a0aadffa75f",
   "metadata": {},
   "outputs": [
    {
     "name": "stdout",
     "output_type": "stream",
     "text": [
      "['Banana', 'Apple', 'Aakash', 'Xray', 'watch']\n",
      "Zebra\n"
     ]
    }
   ],
   "source": [
    "a = [\"Banana\", \"Apple\", \"Aakash\", \"Zebra\", \"Xray\", \"watch\"]\n",
    "b = a.pop(3)\n",
    "print(a)\n",
    "print(b)"
   ]
  },
  {
   "cell_type": "code",
   "execution_count": null,
   "id": "72f988f8-34aa-43e4-acbc-6a4e312ecefc",
   "metadata": {},
   "outputs": [],
   "source": []
  }
 ],
 "metadata": {
  "kernelspec": {
   "display_name": "Python [conda env:base] *",
   "language": "python",
   "name": "conda-base-py"
  },
  "language_info": {
   "codemirror_mode": {
    "name": "ipython",
    "version": 3
   },
   "file_extension": ".py",
   "mimetype": "text/x-python",
   "name": "python",
   "nbconvert_exporter": "python",
   "pygments_lexer": "ipython3",
   "version": "3.12.7"
  }
 },
 "nbformat": 4,
 "nbformat_minor": 5
}
