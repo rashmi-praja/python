{
 "cells": [
  {
   "cell_type": "code",
   "execution_count": 6,
   "id": "afe3d12b-6d8a-4dec-a149-3636d3384fa4",
   "metadata": {},
   "outputs": [
    {
     "name": "stdin",
     "output_type": "stream",
     "text": [
      "Enter no. 5\n"
     ]
    },
    {
     "name": "stdout",
     "output_type": "stream",
     "text": [
      "1\n",
      "2\n",
      "6\n",
      "24\n",
      "120\n",
      "Factorial of 5 = 120\n"
     ]
    }
   ],
   "source": [
    "#factorial of a number\n",
    "s=1\n",
    "n = int(input(\"Enter no.\"))\n",
    "for i in range(1, n+1):\n",
    "    s=s*i\n",
    "    print(s)\n",
    "print(\"Factorial of\", n, \"=\", s)"
   ]
  },
  {
   "cell_type": "code",
   "execution_count": 5,
   "id": "5f789b1f-693b-404a-a144-65033f413127",
   "metadata": {},
   "outputs": [
    {
     "name": "stdin",
     "output_type": "stream",
     "text": [
      "Enter no. 5\n"
     ]
    },
    {
     "name": "stdout",
     "output_type": "stream",
     "text": [
      "1\n",
      "3\n",
      "6\n",
      "10\n",
      "15\n",
      "sum = 15\n"
     ]
    }
   ],
   "source": [
    "#sum of all values from 1 to itself\n",
    "s=0\n",
    "n = int(input(\"Enter no.\"))\n",
    "for i in range(1, n+1):\n",
    "    s=s+i\n",
    "    print(s)\n",
    "print(\"sum =\", s)"
   ]
  },
  {
   "cell_type": "code",
   "execution_count": 8,
   "id": "0acdde6f-502b-48e9-ba9d-b45f7a05f04f",
   "metadata": {},
   "outputs": [
    {
     "name": "stdin",
     "output_type": "stream",
     "text": [
      "Enter no. of inputs: 2\n",
      "Enter name: ram\n",
      "Enter phone number: 9812345678\n",
      "Enter name: sita\n",
      "Enter phone number: 98723456671\n"
     ]
    },
    {
     "name": "stdout",
     "output_type": "stream",
     "text": [
      "Name: ram\tPhone No.: 9812345678\n",
      "Name: sita\tPhone No.: 98723456671\n",
      "\n"
     ]
    }
   ],
   "source": [
    "#store name and phone no of give people\n",
    "s = \"\"\n",
    "n = int(input(\"Enter no. of inputs:\"))\n",
    "for i in range(n):\n",
    "    name = input(\"Enter name:\")\n",
    "    phone = input(\"Enter phone number:\")\n",
    "    s = s + \"Name: \" + name + \"\\t\" + \"Phone No.: \" + phone + \"\\n\"\n",
    "print(s)"
   ]
  },
  {
   "cell_type": "code",
   "execution_count": 3,
   "id": "a98b13da-2f12-4eb7-ada2-50dee21c0795",
   "metadata": {},
   "outputs": [
    {
     "name": "stdin",
     "output_type": "stream",
     "text": [
      "Enter no. of inputs: 4\n",
      "Enter name of product: apple\n",
      "Enter price of product: 450\n",
      "Enter quantity of product: 20\n",
      "Enter name of product: banana\n",
      "Enter price of product: 400\n",
      "Enter quantity of product: 40\n",
      "Enter name of product: mango\n",
      "Enter price of product: 500\n",
      "Enter quantity of product: 30\n",
      "Enter name of product: orange\n",
      "Enter price of product: 450\n",
      "Enter quantity of product: 50\n"
     ]
    },
    {
     "name": "stdout",
     "output_type": "stream",
     "text": [
      "Product Name: apple\tPrice: 450.0\tQuantity: 20\tTotal: 9000.0\n",
      "Product Name: banana\tPrice: 400.0\tQuantity: 40\tTotal: 16000.0\n",
      "Product Name: mango\tPrice: 500.0\tQuantity: 30\tTotal: 15000.0\n",
      "Product Name: orange\tPrice: 450.0\tQuantity: 50\tTotal: 22500.0\n",
      "\n",
      "Final Total: 62500.0\n"
     ]
    }
   ],
   "source": [
    "#create billing system\n",
    "#product name?, price?, quantity?, total?\n",
    "bill = \"\"\n",
    "final_total = 0\n",
    "n = int(input(\"Enter no. of inputs:\"))\n",
    "for i in range(n):\n",
    "    product = input(\"Enter name of product:\")\n",
    "    price = float(input(\"Enter price of product:\"))\n",
    "    quantity = int(input(\"Enter quantity of product:\"))\n",
    "    total = quantity * price\n",
    "    final_total = final_total + total\n",
    "    bill =  bill + \"Product Name: \" + product + \"\\t\" + \"Price: \" + str(price) + \"\\t\" + \"Quantity: \" + str(quantity) + \"\\t\" + \"Total: \" + str(total) + \"\\n\"\n",
    "print(bill)\n",
    "print(\"Final Total:\", final_total)"
   ]
  },
  {
   "cell_type": "code",
   "execution_count": null,
   "id": "83ce5f52-cd8b-4539-9465-9b053b7edb65",
   "metadata": {},
   "outputs": [],
   "source": [
    "#Loop on String (string: a sequence of character)"
   ]
  },
  {
   "cell_type": "code",
   "execution_count": 5,
   "id": "d6b5e03f-086f-4570-a2ae-798bb7237e47",
   "metadata": {},
   "outputs": [
    {
     "name": "stdout",
     "output_type": "stream",
     "text": [
      "H Hello\n",
      "e Hello\n",
      "l Hello\n",
      "l Hello\n",
      "o Hello\n",
      "  Hello\n",
      "W Hello\n",
      "o Hello\n",
      "r Hello\n",
      "l Hello\n",
      "d Hello\n"
     ]
    }
   ],
   "source": [
    "a = \"Hello World\"\n",
    "for i in a:\n",
    "    print(i, \"Hello\")"
   ]
  },
  {
   "cell_type": "code",
   "execution_count": 14,
   "id": "c17ecd00-9bc9-4e68-847d-9402fa8b9a9e",
   "metadata": {},
   "outputs": [
    {
     "name": "stdout",
     "output_type": "stream",
     "text": [
      "H*e*l*l*o* *W*o*r*l*d*.* *I* *a*m* *p*y*t*h*o*n*.*"
     ]
    }
   ],
   "source": [
    "a = \"Hello World. I am python.\"\n",
    "for i in a:\n",
    "    print(i, end = \"*\")"
   ]
  },
  {
   "cell_type": "code",
   "execution_count": 19,
   "id": "981a2f66-c5b6-4605-a1b3-9f02e8c48fa4",
   "metadata": {},
   "outputs": [
    {
     "name": "stdout",
     "output_type": "stream",
     "text": [
      "Hello World I am python"
     ]
    }
   ],
   "source": [
    "a = \"Hello World! I am python.\"\n",
    "for i in a:\n",
    "    if (i != \".\") and (i != \"!\"):   #to skip/not display \".\"\n",
    "        print(i, end = \"\")"
   ]
  },
  {
   "cell_type": "code",
   "execution_count": null,
   "id": "7d448e30-b32f-455e-a91f-af0f923a4e5b",
   "metadata": {},
   "outputs": [],
   "source": []
  }
 ],
 "metadata": {
  "kernelspec": {
   "display_name": "Python [conda env:base] *",
   "language": "python",
   "name": "conda-base-py"
  },
  "language_info": {
   "codemirror_mode": {
    "name": "ipython",
    "version": 3
   },
   "file_extension": ".py",
   "mimetype": "text/x-python",
   "name": "python",
   "nbconvert_exporter": "python",
   "pygments_lexer": "ipython3",
   "version": "3.12.7"
  }
 },
 "nbformat": 4,
 "nbformat_minor": 5
}
