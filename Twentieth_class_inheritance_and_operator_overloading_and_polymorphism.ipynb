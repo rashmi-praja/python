{
 "cells": [
  {
   "cell_type": "code",
   "execution_count": 9,
   "id": "83c366f9-79b8-4615-9106-a31d2f7b7c0b",
   "metadata": {},
   "outputs": [],
   "source": [
    "# Public members (generally methods declared in a class) are accessible from outside the class. The object of the same class is required to invoke a \n",
    "# public method.\n",
    "\n",
    "# Protected members of a class are accessible from within the class and are also available to its sub-classes. A variable that is protected can only be \n",
    "# accessed by its own class and any classes derived from it.\n",
    "\n",
    "# Private members of a class are denied access from the environment outside the class. They can be handled only from within the class."
   ]
  },
  {
   "cell_type": "code",
   "execution_count": 2,
   "id": "86fd42fa-c42d-40ae-a799-9144981932a7",
   "metadata": {},
   "outputs": [
    {
     "name": "stdout",
     "output_type": "stream",
     "text": [
      "Ram\n",
      "12\n",
      "Bhaktapur\n"
     ]
    }
   ],
   "source": [
    "# public members: can be accessed from outside the class\n",
    "class Info:\n",
    "    def __init__(self):\n",
    "        self.name = \"Ram\"\n",
    "        self.age = 12\n",
    "        self.add = \"Bhaktapur\"\n",
    "\n",
    "obj = Info()\n",
    "print(obj.name)\n",
    "print(obj.age)\n",
    "print(obj.add)"
   ]
  },
  {
   "cell_type": "code",
   "execution_count": 4,
   "id": "a410deff-7d78-4ed7-a7a1-034b5be78a17",
   "metadata": {},
   "outputs": [
    {
     "name": "stdout",
     "output_type": "stream",
     "text": [
      "Ram\n",
      "12\n",
      "Bhaktapur\n"
     ]
    }
   ],
   "source": [
    "# protected members: acc to oop rule, it cannot be accessed from outside the class but it can be done in case of python.\n",
    "class Info:\n",
    "    def __init__(self):\n",
    "        self._name = \"Ram\"\n",
    "        self._age = 12\n",
    "        self._add = \"Bhaktapur\"\n",
    "\n",
    "obj = Info()\n",
    "print(obj._name)\n",
    "print(obj._age)\n",
    "print(obj._add)"
   ]
  },
  {
   "cell_type": "code",
   "execution_count": 6,
   "id": "898dce00-d3af-47cd-8431-c91521987dd3",
   "metadata": {},
   "outputs": [],
   "source": [
    "# private members: cannot be accessed from outside the class, \n",
    "class Info:\n",
    "    def __init__(self):\n",
    "        self.__name = \"Ram\"\n",
    "        self.__age = 12\n",
    "        self.__add = \"Bhaktapur\"\n",
    "\n",
    "obj = Info()\n",
    "# print(obj.__name)\n",
    "# print(obj.__age)\n",
    "# print(obj.__add)\n",
    "#since private members cannot be accessed from outside the class, so when the above 3 lines of codes are ran, it shows error."
   ]
  },
  {
   "cell_type": "code",
   "execution_count": 8,
   "id": "c6068f14-18f8-4c0e-86c5-5fae3f61cc70",
   "metadata": {},
   "outputs": [
    {
     "name": "stdout",
     "output_type": "stream",
     "text": [
      "Hello World I am Ram I am 19\n",
      "Ram\n",
      "19\n"
     ]
    }
   ],
   "source": [
    "class Data:                     #Parent Class\n",
    "    def __init__(self):\n",
    "        self.name = \"Ram\"         #public member\n",
    "        self._age = 19            #protected member\n",
    "        self.__add = \"Bhaktapur\"  #private member\n",
    "\n",
    "    def data(self):\n",
    "        print(self.name, self._age, self.__add)\n",
    "\n",
    "class Info(Data):               #Child Class    in this, class, public and protected members can be inherited but private cannot be inherited\n",
    "    def info(self):\n",
    "        print(f\"Hello World I am {self.name} I am {self._age}\")\n",
    "\n",
    "obj = Info()\n",
    "obj.info()\n",
    "print(obj.name)   #public member can be accessed from outside\n",
    "print(obj._age)   #protected memeber can be accessed from outside in case of python"
   ]
  },
  {
   "cell_type": "code",
   "execution_count": 10,
   "id": "c1fab070-6b43-4fad-a8b8-4330a65637be",
   "metadata": {},
   "outputs": [
    {
     "ename": "TypeError",
     "evalue": "unsupported operand type(s) for +: 'Point' and 'Point'",
     "output_type": "error",
     "traceback": [
      "\u001b[1;31m---------------------------------------------------------------------------\u001b[0m",
      "\u001b[1;31mTypeError\u001b[0m                                 Traceback (most recent call last)",
      "Cell \u001b[1;32mIn[10], line 8\u001b[0m\n\u001b[0;32m      6\u001b[0m p1 \u001b[38;5;241m=\u001b[39m Point(\u001b[38;5;241m2\u001b[39m,\u001b[38;5;241m3\u001b[39m)\n\u001b[0;32m      7\u001b[0m p2 \u001b[38;5;241m=\u001b[39m Point(\u001b[38;5;241m-\u001b[39m\u001b[38;5;241m1\u001b[39m,\u001b[38;5;241m2\u001b[39m)\n\u001b[1;32m----> 8\u001b[0m p1 \u001b[38;5;241m+\u001b[39m p2\n",
      "\u001b[1;31mTypeError\u001b[0m: unsupported operand type(s) for +: 'Point' and 'Point'"
     ]
    }
   ],
   "source": [
    "class Point:\n",
    "    def __init__(self, x = 0, y = 0): \n",
    "        self.x = x   \n",
    "        self.y = y\n",
    "    \n",
    "p1 = Point(2,3)\n",
    "p2 = Point(-1,2)\n",
    "p1 + p2"
   ]
  },
  {
   "cell_type": "code",
   "execution_count": 15,
   "id": "04dc81f3-0e39-4da8-b88a-3517cd9d214c",
   "metadata": {},
   "outputs": [
    {
     "name": "stdout",
     "output_type": "stream",
     "text": [
      "This is init method 100\n",
      "This is init method 300\n",
      "This is add method 400\n",
      "This is init method 400\n",
      "This is str method 400\n",
      "400\n"
     ]
    }
   ],
   "source": [
    "# Operator Overloading\n",
    "\n",
    "class Point:\n",
    "    def __init__(self, x = 0):\n",
    "        self.x = x\n",
    "        print(\"This is init method\", self.x)\n",
    "\n",
    "    def __str__(self):\n",
    "        print(\"This is str method\", self.x)\n",
    "        return f\"{self.x}\"\n",
    "\n",
    "    def __add__(self,other):\n",
    "        x = self.x + other.x\n",
    "        print(\"This is add method\", x)\n",
    "        return Point(x)\n",
    "\n",
    "p1 = Point(100)\n",
    "p2 = Point(300)\n",
    "print(p1 + p2)"
   ]
  },
  {
   "cell_type": "code",
   "execution_count": 17,
   "id": "afd76ad8-0a27-41de-95ab-08ef3040fcb4",
   "metadata": {},
   "outputs": [
    {
     "name": "stdout",
     "output_type": "stream",
     "text": [
      "This is init method 100\n",
      "This is init method 300\n",
      "This is init method 450\n",
      "This is add method 400\n",
      "This is init method 400\n",
      "This is add method 850\n",
      "This is init method 850\n",
      "This is str method 850\n",
      "850\n"
     ]
    }
   ],
   "source": [
    "# Operator Overloading\n",
    "\n",
    "class Point:\n",
    "    def __init__(self, x = 0):\n",
    "        self.x = x\n",
    "        print(\"This is init method\", self.x)\n",
    "\n",
    "    def __str__(self):\n",
    "        print(\"This is str method\", self.x)\n",
    "        return f\"{self.x}\"\n",
    "\n",
    "    def __add__(self,other):\n",
    "        x = self.x + other.x\n",
    "        print(\"This is add method\", x)\n",
    "        return Point(x)\n",
    "\n",
    "p1 = Point(100)\n",
    "p2 = Point(300)\n",
    "p3 = Point(450)\n",
    "print(p1 + p2 + p3)"
   ]
  },
  {
   "cell_type": "code",
   "execution_count": 27,
   "id": "7a8c7512-0df0-4647-b55e-48c0c1791f44",
   "metadata": {},
   "outputs": [
    {
     "name": "stdout",
     "output_type": "stream",
     "text": [
      "Flying test:\n",
      "Parrot can fly\n",
      "Penguin can't fly\n",
      "Swimming test:\n",
      "Parrot can't swim\n",
      "Penguin can swim\n"
     ]
    }
   ],
   "source": [
    "# Polymorphism\n",
    "\n",
    "class Parrot:\n",
    "    def fly(self):\n",
    "        print(\"Parrot can fly\")\n",
    "\n",
    "    def swim(self):\n",
    "        print(\"Parrot can't swim\")\n",
    "\n",
    "class Penguin:\n",
    "    def fly(self):\n",
    "        print(\"Penguin can't fly\")\n",
    "\n",
    "    def swim(self):\n",
    "        print(\"Penguin can swim\")\n",
    "\n",
    "# common interface\n",
    "\n",
    "def flying_test(bird):\n",
    "    bird.fly()\n",
    "\n",
    "def swimming_test(bird):\n",
    "    bird.swim()\n",
    "\n",
    "#instantiate objects\n",
    "\n",
    "blu = Parrot()  #object\n",
    "peggy = Penguin() #object\n",
    "\n",
    "# passing the object\n",
    "\n",
    "print(\"Flying test:\")\n",
    "flying_test(blu)   #object as an argument\n",
    "flying_test(peggy)  #object as an argument\n",
    "\n",
    "print(\"Swimming test:\")\n",
    "swimming_test(blu)\n",
    "swimming_test(peggy)"
   ]
  },
  {
   "cell_type": "code",
   "execution_count": null,
   "id": "2d82cd81-cc70-43a8-883a-6fe88ff35dce",
   "metadata": {},
   "outputs": [],
   "source": []
  }
 ],
 "metadata": {
  "kernelspec": {
   "display_name": "Python [conda env:base] *",
   "language": "python",
   "name": "conda-base-py"
  },
  "language_info": {
   "codemirror_mode": {
    "name": "ipython",
    "version": 3
   },
   "file_extension": ".py",
   "mimetype": "text/x-python",
   "name": "python",
   "nbconvert_exporter": "python",
   "pygments_lexer": "ipython3",
   "version": "3.12.7"
  }
 },
 "nbformat": 4,
 "nbformat_minor": 5
}
