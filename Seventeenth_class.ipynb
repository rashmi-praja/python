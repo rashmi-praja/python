{
 "cells": [
  {
   "cell_type": "code",
   "execution_count": 1,
   "id": "4a4e255c-95e4-4cb0-9a89-4a4aa4ba5975",
   "metadata": {},
   "outputs": [],
   "source": [
    "import mysql.connector  \t\t#importing database\n",
    "\n",
    "database = mysql.connector.connect(\n",
    "  host= \"localhost\",\n",
    "  user= \"root\",\n",
    "  password= \"\",\n",
    "  database = \"python\"\n",
    ")\n",
    "db = database.cursor()"
   ]
  },
  {
   "cell_type": "code",
   "execution_count": 2,
   "id": "e86feaa3-3e0c-4f72-9241-14b1b76dc4d3",
   "metadata": {},
   "outputs": [],
   "source": [
    "# Write on table\n",
    "\n",
    "sql = \"\"\"INSERT INTO student (name, physics, chemistry, math, english, nepali, total, percentage, grade) \n",
    "VALUES ('Ramesh', '76', '78', '82', '60', '75', '370', '70', 'B');\"\"\"    \n",
    "# because of triple code we can do this i.e., we can do enter and write the code inside in multiple line\n",
    "\n",
    "db.execute(sql)\n",
    "database.commit()"
   ]
  },
  {
   "cell_type": "code",
   "execution_count": 5,
   "id": "12558e81-1cc2-4a6e-8d31-a024f0db0737",
   "metadata": {},
   "outputs": [
    {
     "name": "stdin",
     "output_type": "stream",
     "text": [
      "Enter name: Riddhima\n",
      "Physics =  40\n",
      "Chemistry =  45\n",
      "Math =  50\n",
      "English =  61\n",
      "Nepali =  52\n"
     ]
    }
   ],
   "source": [
    "name = input(\"Enter name:\")\n",
    "physics = float(input(\"Physics = \"))\n",
    "chemistry = float(input(\"Chemistry = \"))\n",
    "math = float(input(\"Math = \"))\n",
    "english = float(input(\"English = \"))\n",
    "nepali = float(input(\"Nepali = \"))\n",
    "\n",
    "total = physics + chemistry + math + english + nepali\n",
    "percent = total/500 * 100 # or percent total/5\n",
    "if percent>=80:\n",
    "    Grade = 'A'\n",
    "elif percent>=60:\n",
    "    Grade = 'B'\n",
    "elif percent>=50:\n",
    "    Grade = 'C'\n",
    "else:\n",
    "    Grade = 'F'\n",
    "\n",
    "sql = f\"\"\"INSERT INTO student (name, physics, chemistry, math, english, nepali, total, percentage, grade) \n",
    "VALUES ('{name}', {physics}, {chemistry}, {math}, {english}, {nepali}, {total}, {percent}, '{Grade}');\"\"\"    \n",
    "\n",
    "db.execute(sql)\n",
    "database.commit()"
   ]
  },
  {
   "cell_type": "code",
   "execution_count": 8,
   "id": "0a496dc0-f0ba-4b5a-a021-996aabbce072",
   "metadata": {},
   "outputs": [
    {
     "name": "stdin",
     "output_type": "stream",
     "text": [
      "Enter sn: 3\n",
      "Enter name: Ramesh\n"
     ]
    }
   ],
   "source": [
    "#update/edit name\n",
    "sn = int(input(\"Enter sn:\"))\n",
    "name = input(\"Enter name:\")\n",
    "\n",
    "sql = f\"\"\"UPDATE student SET name = '{name}' WHERE student.sn = {sn};\"\"\"\n",
    "\n",
    "db.execute(sql)\n",
    "database.commit()"
   ]
  },
  {
   "cell_type": "code",
   "execution_count": 7,
   "id": "a10b2508-28c7-423e-a73d-fc25da127f0e",
   "metadata": {},
   "outputs": [
    {
     "name": "stdin",
     "output_type": "stream",
     "text": [
      "Enter sn: 8\n"
     ]
    }
   ],
   "source": [
    "#delete in sql\n",
    "\n",
    "sn = int(input(\"Enter sn:\"))\n",
    "sql = f\"\"\"DELETE FROM student WHERE student.sn = {sn};\"\"\"\n",
    "\n",
    "db.execute(sql)\n",
    "database.commit()"
   ]
  },
  {
   "cell_type": "code",
   "execution_count": 9,
   "id": "8c09f6bf-29c3-4e95-912f-479c010be8c7",
   "metadata": {},
   "outputs": [
    {
     "name": "stdin",
     "output_type": "stream",
     "text": [
      "Enter sn: 9\n",
      "Enter sn: 7\n"
     ]
    }
   ],
   "source": [
    "#update/edit sn\n",
    "\n",
    "sn = int(input(\"Enter sn:\"))\n",
    "sn1 = int(input(\"Enter sn:\"))\n",
    "\n",
    "sql = f\"\"\"UPDATE student SET sn = {sn1} WHERE student.sn = {sn};\"\"\"\n",
    "\n",
    "db.execute(sql)\n",
    "database.commit()"
   ]
  },
  {
   "cell_type": "code",
   "execution_count": null,
   "id": "15e1ce4b-ff52-436e-8407-52831cc1e276",
   "metadata": {},
   "outputs": [],
   "source": []
  }
 ],
 "metadata": {
  "kernelspec": {
   "display_name": "Python [conda env:base] *",
   "language": "python",
   "name": "conda-base-py"
  },
  "language_info": {
   "codemirror_mode": {
    "name": "ipython",
    "version": 3
   },
   "file_extension": ".py",
   "mimetype": "text/x-python",
   "name": "python",
   "nbconvert_exporter": "python",
   "pygments_lexer": "ipython3",
   "version": "3.12.7"
  }
 },
 "nbformat": 4,
 "nbformat_minor": 5
}
