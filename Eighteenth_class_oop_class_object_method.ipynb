{
 "cells": [
  {
   "cell_type": "code",
   "execution_count": 1,
   "id": "397fb54e-f5c7-47b7-a241-f6366fb036de",
   "metadata": {},
   "outputs": [],
   "source": [
    "# class\n",
    "# class <Class_name>:     #class, the first letter of class name must be capital\n",
    "#     <methods>           #methods\n",
    "#     <methods>\n",
    "\n",
    "# obj = <Class_name>()    #object"
   ]
  },
  {
   "cell_type": "code",
   "execution_count": 2,
   "id": "1fafafc8-cb2c-42b6-8886-828c8c9e2b68",
   "metadata": {},
   "outputs": [
    {
     "ename": "TypeError",
     "evalue": "Hello.hello() takes 0 positional arguments but 1 was given",
     "output_type": "error",
     "traceback": [
      "\u001b[1;31m---------------------------------------------------------------------------\u001b[0m",
      "\u001b[1;31mTypeError\u001b[0m                                 Traceback (most recent call last)",
      "Cell \u001b[1;32mIn[2], line 6\u001b[0m\n\u001b[0;32m      3\u001b[0m         \u001b[38;5;28mprint\u001b[39m(\u001b[38;5;124m\"\u001b[39m\u001b[38;5;124mHello World\u001b[39m\u001b[38;5;124m\"\u001b[39m)\n\u001b[0;32m      5\u001b[0m obj \u001b[38;5;241m=\u001b[39m Hello()\n\u001b[1;32m----> 6\u001b[0m obj\u001b[38;5;241m.\u001b[39mhello()\n",
      "\u001b[1;31mTypeError\u001b[0m: Hello.hello() takes 0 positional arguments but 1 was given"
     ]
    }
   ],
   "source": [
    "class Hello:\n",
    "    def hello():\n",
    "        print(\"Hello World\")\n",
    "\n",
    "obj = Hello()\n",
    "obj.hello()"
   ]
  },
  {
   "cell_type": "code",
   "execution_count": 3,
   "id": "f074089e-ac32-459b-9f28-006a5ba51de8",
   "metadata": {},
   "outputs": [
    {
     "name": "stdout",
     "output_type": "stream",
     "text": [
      "Hello World\n"
     ]
    }
   ],
   "source": [
    "class Hello:\n",
    "    @staticmethod\n",
    "    def hello():\n",
    "        print(\"Hello World\")\n",
    "\n",
    "obj = Hello()\n",
    "obj.hello()"
   ]
  },
  {
   "cell_type": "code",
   "execution_count": 10,
   "id": "42810a7b-640b-4978-8963-6edb87b6e253",
   "metadata": {},
   "outputs": [
    {
     "name": "stdout",
     "output_type": "stream",
     "text": [
      "Hello World\n"
     ]
    }
   ],
   "source": [
    "class Hello:               #Class           #class is defined\n",
    "    def hello(self):       #Method          #Here, 'self' parameter uses the properties or attributes defined within the class, not necessary to write self, can write anything instead\n",
    "        print(\"Hello World\")\n",
    "\n",
    "obj = Hello()              #Object          #object is created and when it is created the class is initialized\n",
    "obj.hello()                #Calling Method  #here the 'hello' function within the 'Hello' class is called"
   ]
  },
  {
   "cell_type": "code",
   "execution_count": 8,
   "id": "151d6341-520d-4caa-9fad-18bc6f041ab9",
   "metadata": {},
   "outputs": [
    {
     "name": "stdout",
     "output_type": "stream",
     "text": [
      "50\n",
      "100\n"
     ]
    }
   ],
   "source": [
    "#to calculate area and volume\n",
    "class Calc:\n",
    "    def area(self):\n",
    "        l = 10\n",
    "        b = 5\n",
    "        a =  l*b\n",
    "        print(a)\n",
    "        \n",
    "    def volume(self):\n",
    "        l = 10\n",
    "        b = 5\n",
    "        h = 2\n",
    "        v = l*b*h\n",
    "        print(v)\n",
    "\n",
    "obj = Calc()\n",
    "obj.area()\n",
    "obj.volume()\n",
    "    "
   ]
  },
  {
   "cell_type": "code",
   "execution_count": 13,
   "id": "76d8f951-70e9-4439-a830-c09cfc96b162",
   "metadata": {},
   "outputs": [
    {
     "name": "stdout",
     "output_type": "stream",
     "text": [
      "Hello World, I am Ram. I am 23 and I am from Kathmandu\n"
     ]
    }
   ],
   "source": [
    "class Info:\n",
    "    def __init__(self):\n",
    "        self.name = \"Ram\"\n",
    "        self.age = 23\n",
    "        self.add = \"Kathmandu\"       #here 3 properties of the class is defined\n",
    "        \n",
    "    def info(self):\n",
    "        data = f\"Hello World, I am {self.name}. I am {self.age} and I am from {self.add}\"\n",
    "        print(data)\n",
    "\n",
    "obj = Info()\n",
    "obj.info()"
   ]
  },
  {
   "cell_type": "code",
   "execution_count": 19,
   "id": "c454cd24-0cf7-42ff-9197-9d4f70db4022",
   "metadata": {},
   "outputs": [
    {
     "name": "stdin",
     "output_type": "stream",
     "text": [
      "Enter name: ram\n",
      "Enter age: 12\n",
      "Enter add: bkt\n"
     ]
    },
    {
     "name": "stdout",
     "output_type": "stream",
     "text": [
      "Hello World, I am ram. I am 12 and I am from bkt\n"
     ]
    }
   ],
   "source": [
    "class Info:\n",
    "    def __init__(self, name, age):\n",
    "        self.name = name\n",
    "        self.age = age          #here 3 properties of the class is defined\n",
    "        \n",
    "    def info(self, add):\n",
    "        data = f\"Hello World, I am {self.name}. I am {self.age} and I am from {add}\"\n",
    "        print(data)\n",
    "\n",
    "name = input(\"Enter name:\")\n",
    "age = int(input(\"Enter age:\"))\n",
    "add = input(\"Enter add:\")\n",
    "\n",
    "obj = Info(name, age)\n",
    "obj.info(add)"
   ]
  },
  {
   "cell_type": "code",
   "execution_count": 22,
   "id": "80376856-4fad-4a3f-a4e3-599ded347793",
   "metadata": {},
   "outputs": [
    {
     "name": "stdin",
     "output_type": "stream",
     "text": [
      "Enter name: ram\n",
      "Enter age: 12\n",
      "Enter add: bkt\n"
     ]
    },
    {
     "name": "stdout",
     "output_type": "stream",
     "text": [
      "Hello World, I am ram. I am 12 and I am from bkt\n",
      "Hello World, I am Shyam. I am 32 and I am from ktm\n"
     ]
    }
   ],
   "source": [
    "class Info:\n",
    "    def __init__(self, name, age, add):\n",
    "        self.name = name\n",
    "        self.age = age\n",
    "        self.add = add       #here 3 properties of the class is defined\n",
    "        \n",
    "    def info(self):\n",
    "        data = f\"Hello World, I am {self.name}. I am {self.age} and I am from {self.add}\"\n",
    "        print(data)\n",
    "\n",
    "name = input(\"Enter name:\")\n",
    "age = int(input(\"Enter age:\"))\n",
    "add = input(\"Enter add:\")\n",
    "\n",
    "obj = Info(name, age, add)\n",
    "obj.info()\n",
    "\n",
    "obj1 = Info(\"Shyam\", 32, \"ktm\")\n",
    "obj1.info()"
   ]
  },
  {
   "cell_type": "code",
   "execution_count": 23,
   "id": "e7df08ae-c61c-4d49-ae2b-16e3b46b8557",
   "metadata": {},
   "outputs": [
    {
     "name": "stdout",
     "output_type": "stream",
     "text": [
      "Hello World, I am ram. I am 12 and I am from bkt\n"
     ]
    }
   ],
   "source": [
    "obj.info()"
   ]
  },
  {
   "cell_type": "code",
   "execution_count": 28,
   "id": "64cf1086-b351-42c7-b616-75e793777585",
   "metadata": {},
   "outputs": [
    {
     "name": "stdin",
     "output_type": "stream",
     "text": [
      "Enter length: 4\n",
      "Enter breadth: 5\n",
      "Enter height: 6\n"
     ]
    },
    {
     "name": "stdout",
     "output_type": "stream",
     "text": [
      "20\n",
      "120\n"
     ]
    }
   ],
   "source": [
    "class Area:\n",
    "    def __init__(self, length, breadth):\n",
    "        self.length = length\n",
    "        self.breadth = breadth\n",
    "    def area(self):\n",
    "        area = self.length * self.breadth\n",
    "        print(area)\n",
    "\n",
    "class Volume:\n",
    "    def __init__(self, length, breadth, height):\n",
    "        self.length = length\n",
    "        self.breadth = breadth\n",
    "        self.height = height\n",
    "    def volume(self):\n",
    "        volume = self.length * self.breadth * self.height\n",
    "        print(volume)\n",
    "\n",
    "length = int(input(\"Enter length:\"))\n",
    "breadth = int(input(\"Enter breadth:\"))\n",
    "height = int(input(\"Enter height:\"))\n",
    "\n",
    "obj = Area(length, breadth)\n",
    "obj.area()\n",
    "\n",
    "obj1 = Volume(length, breadth, height)\n",
    "obj1.volume()"
   ]
  },
  {
   "cell_type": "code",
   "execution_count": 3,
   "id": "0ef13419-324c-4233-9599-f3328cbad969",
   "metadata": {},
   "outputs": [
    {
     "name": "stdout",
     "output_type": "stream",
     "text": [
      "Ram\n",
      "<class '__main__.Info'>\n"
     ]
    }
   ],
   "source": [
    "# str method\n",
    "class Info:\n",
    "    def __init__(self):\n",
    "        self.name = \"Ram\"\n",
    "        self.age = 12\n",
    "        self.add = \"Bhaktapur\"\n",
    "    def __str__(self):\n",
    "        return self.name\n",
    "\n",
    "obj = Info()\n",
    "print(obj)\n",
    "print(type(obj))"
   ]
  },
  {
   "cell_type": "code",
   "execution_count": null,
   "id": "e9a3536a-8190-40ff-af7b-95873f726abc",
   "metadata": {},
   "outputs": [],
   "source": []
  }
 ],
 "metadata": {
  "kernelspec": {
   "display_name": "Python [conda env:base] *",
   "language": "python",
   "name": "conda-base-py"
  },
  "language_info": {
   "codemirror_mode": {
    "name": "ipython",
    "version": 3
   },
   "file_extension": ".py",
   "mimetype": "text/x-python",
   "name": "python",
   "nbconvert_exporter": "python",
   "pygments_lexer": "ipython3",
   "version": "3.12.7"
  }
 },
 "nbformat": 4,
 "nbformat_minor": 5
}
