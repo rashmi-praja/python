{
 "cells": [
  {
   "cell_type": "code",
   "execution_count": 1,
   "id": "4afc27f5-17e1-4b65-8f85-6e835e67f4d6",
   "metadata": {},
   "outputs": [],
   "source": [
    "#Control Statements: interupts the loop to get control over it\n",
    "# break:if a given condition is true/satisfies, the loop ends/stops.\n",
    "# continue: skips a value or code if the given condition is true/satisfied, doesnt lets the next code after it within the if=else condition to run.\n",
    "# pass"
   ]
  },
  {
   "cell_type": "code",
   "execution_count": 3,
   "id": "02eaa27b-04f4-42f3-8528-6b0f8bf97d50",
   "metadata": {},
   "outputs": [
    {
     "name": "stdout",
     "output_type": "stream",
     "text": [
      "0\n",
      "1\n",
      "2\n",
      "3\n",
      "4\n"
     ]
    }
   ],
   "source": [
    "a = 5\n",
    "for i in range(10):\n",
    "    if i == a:\n",
    "        break\n",
    "    print(i)"
   ]
  },
  {
   "cell_type": "code",
   "execution_count": 4,
   "id": "e0198aa3-3687-45f2-8835-6b24faf0c9a3",
   "metadata": {},
   "outputs": [
    {
     "name": "stdout",
     "output_type": "stream",
     "text": [
      "0\n",
      "1\n",
      "2\n",
      "3\n",
      "4\n",
      "6\n",
      "7\n",
      "8\n",
      "9\n"
     ]
    }
   ],
   "source": [
    "a = 5\n",
    "for i in range(10):\n",
    "    if i == a:\n",
    "        continue\n",
    "    print(i)"
   ]
  },
  {
   "cell_type": "code",
   "execution_count": 5,
   "id": "e7fb04a0-b4bd-4d97-bd93-75e0b24580fd",
   "metadata": {},
   "outputs": [
    {
     "name": "stdout",
     "output_type": "stream",
     "text": [
      "Hello World"
     ]
    }
   ],
   "source": [
    "a = \"Hello World. I am Python.\"\n",
    "for i in a:\n",
    "    if i == \".\":\n",
    "        break\n",
    "    print(i, end = \"\")"
   ]
  },
  {
   "cell_type": "code",
   "execution_count": 6,
   "id": "d10ca10c-6bba-4afa-ae2b-f329fc0c21e0",
   "metadata": {},
   "outputs": [
    {
     "name": "stdout",
     "output_type": "stream",
     "text": [
      "Hello World I am Python"
     ]
    }
   ],
   "source": [
    "a = \"Hello World. I am Python.\"\n",
    "for i in a:\n",
    "    if i == \".\":\n",
    "        continue\n",
    "    print(i, end = \"\")"
   ]
  },
  {
   "cell_type": "code",
   "execution_count": 6,
   "id": "dc23a84d-0454-4cce-ab74-ca892ca24443",
   "metadata": {},
   "outputs": [],
   "source": [
    "#while loop: used during uncertaining case\n",
    "# initialization\n",
    "# while <condition>: \n",
    "#     <operations> \n",
    "#       increment/decrement "
   ]
  },
  {
   "cell_type": "code",
   "execution_count": 9,
   "id": "7750311b-2afa-4a20-9bf2-53a29b489dfc",
   "metadata": {},
   "outputs": [
    {
     "name": "stdout",
     "output_type": "stream",
     "text": [
      "0 Hello World\n",
      "1 Hello World\n",
      "2 Hello World\n",
      "3 Hello World\n",
      "4 Hello World\n"
     ]
    }
   ],
   "source": [
    "a =  0\n",
    "while a<5:\n",
    "    print(a, \"Hello World\")\n",
    "    a=a+1"
   ]
  },
  {
   "cell_type": "code",
   "execution_count": 13,
   "id": "42f68b55-60c2-4982-9954-9b54310c2b96",
   "metadata": {},
   "outputs": [
    {
     "name": "stdout",
     "output_type": "stream",
     "text": [
      "5 Hello World\n",
      "4 Hello World\n",
      "3 Hello World\n",
      "2 Hello World\n",
      "1 Hello World\n"
     ]
    }
   ],
   "source": [
    "a =  5\n",
    "while a>0:\n",
    "    print(a, \"Hello World\")\n",
    "    a=a-1"
   ]
  },
  {
   "cell_type": "code",
   "execution_count": null,
   "id": "3cacd7b6-40c9-4302-aedf-34b20b0cd6b5",
   "metadata": {},
   "outputs": [],
   "source": [
    "#Multiplication table of n number\n",
    "n = int(input(\"Enter no:\"))\n",
    "t = 1\n",
    "print(\"Multiplication Table\")\n",
    "while t<=10:\n",
    "    print(n, \"*\", t, \"=\", n*t)\n",
    "    t = t+1"
   ]
  },
  {
   "cell_type": "code",
   "execution_count": null,
   "id": "a4e11b5a-74a6-45fd-bc0a-b2ce59cadfc9",
   "metadata": {},
   "outputs": [],
   "source": [
    "#Multiplication table of n numbers upto t terms.\n",
    "n = int(input(\"Enter no:\"))\n",
    "t = int(input(\"Enter no. of terms:\"))\n",
    "i = 1\n",
    "print(\"Multiplication Table\")\n",
    "while i<=t:\n",
    "    print(n, \"*\", i, \"=\", n*i)\n",
    "    i = i+1"
   ]
  },
  {
   "cell_type": "code",
   "execution_count": 9,
   "id": "ea8ce271-bbf0-48c4-ad01-be19fdeb6fc1",
   "metadata": {},
   "outputs": [
    {
     "name": "stdin",
     "output_type": "stream",
     "text": [
      "Enter no: 5\n",
      "Enter x =  1\n",
      "Enter x =  2\n",
      "Enter x =  3\n",
      "Enter x =  4\n",
      "Enter x =  5\n"
     ]
    },
    {
     "name": "stdout",
     "output_type": "stream",
     "text": [
      "15\n"
     ]
    }
   ],
   "source": [
    "s=0\n",
    "i=0\n",
    "n = int(input(\"Enter no:\"))\n",
    "while i<n:\n",
    "    x = int(input(\"Enter x = \"))\n",
    "    s = s + x\n",
    "    i = i+1\n",
    "print(s)"
   ]
  },
  {
   "cell_type": "code",
   "execution_count": 2,
   "id": "e78e264f-fa57-4787-8620-6d326b1976f4",
   "metadata": {},
   "outputs": [
    {
     "name": "stdin",
     "output_type": "stream",
     "text": [
      "Enter no of inputs:  2\n",
      "Enter name: ram\n",
      "Enter contact no.: 123\n",
      "Enter name: sita\n",
      "Enter contact no.: 345\n"
     ]
    },
    {
     "name": "stdout",
     "output_type": "stream",
     "text": [
      "name: ram\tContacts No.: 123\n",
      "name: sita\tContacts No.: 345\n",
      "\n"
     ]
    }
   ],
   "source": [
    "#name and contacts\n",
    "s = \"\"\n",
    "i = 0\n",
    "n = int(input(\"Enter no of inputs: \"))\n",
    "while i<n:\n",
    "    name = input(\"Enter name:\")\n",
    "    contact = int(input(\"Enter contact no.:\"))\n",
    "    s = s + \"name: \" + name + \"\\t\" + \"Contacts No.: \" + str(contact) + \"\\n\"\n",
    "    i = i+1\n",
    "print(s)"
   ]
  },
  {
   "cell_type": "code",
   "execution_count": 1,
   "id": "e76544eb-d5ef-4881-86ab-2016920af589",
   "metadata": {},
   "outputs": [
    {
     "name": "stdin",
     "output_type": "stream",
     "text": [
      "Enter no. of inputs: 3\n",
      "Enter name of product: apple\n",
      "Enter price of product: 400\n",
      "Enter quantity of product: 30\n",
      "Enter name of product: orange\n",
      "Enter price of product: 350\n",
      "Enter quantity of product: 20\n",
      "Enter name of product: mango\n",
      "Enter price of product: 450\n",
      "Enter quantity of product: 10\n"
     ]
    },
    {
     "name": "stdout",
     "output_type": "stream",
     "text": [
      "Product Name: apple\tPrice: 400.0\tQuantity: 30\tTotal: 12000.0\n",
      "Product Name: orange\tPrice: 350.0\tQuantity: 20\tTotal: 7000.0\n",
      "Product Name: mango\tPrice: 450.0\tQuantity: 10\tTotal: 4500.0\n",
      "\n",
      "Final Total: 23500.0\n"
     ]
    }
   ],
   "source": [
    "#create billing system\n",
    "#product name?, price?, quantity?, total?\n",
    "bill = \"\"\n",
    "final_total = 0\n",
    "i = 0\n",
    "n = int(input(\"Enter no. of inputs:\"))\n",
    "while i<n:\n",
    "    product = input(\"Enter name of product:\")\n",
    "    price = float(input(\"Enter price of product:\"))\n",
    "    quantity = int(input(\"Enter quantity of product:\"))\n",
    "    total = quantity * price\n",
    "    final_total = final_total + total\n",
    "    bill =  bill + \"Product Name: \" + product + \"\\t\" + \"Price: \" + str(price) + \"\\t\" + \"Quantity: \" + str(quantity) + \"\\t\" + \"Total: \" + str(total) + \"\\n\"\n",
    "    i = i + 1\n",
    "print(bill)\n",
    "print(\"Final Total:\", final_total)"
   ]
  },
  {
   "cell_type": "code",
   "execution_count": 1,
   "id": "88272339-7fce-4576-b941-5bb6a720998c",
   "metadata": {},
   "outputs": [],
   "source": [
    "#Control Statement in while loop"
   ]
  },
  {
   "cell_type": "code",
   "execution_count": 6,
   "id": "f78c01e8-86ec-4fff-af82-11e2564fbb03",
   "metadata": {},
   "outputs": [
    {
     "name": "stdout",
     "output_type": "stream",
     "text": [
      "0\n",
      "1\n",
      "2\n",
      "3\n",
      "4\n"
     ]
    }
   ],
   "source": [
    "i = 0\n",
    "while i<10:\n",
    "    if i == 5:\n",
    "        break\n",
    "    print(i)\n",
    "    i = i+1"
   ]
  },
  {
   "cell_type": "code",
   "execution_count": 3,
   "id": "82d27cbe-4382-4f5a-9b61-ecaa529db7a5",
   "metadata": {},
   "outputs": [
    {
     "name": "stdout",
     "output_type": "stream",
     "text": [
      "0\n",
      "1\n",
      "2\n",
      "3\n",
      "4\n",
      "6\n",
      "7\n",
      "8\n",
      "9\n"
     ]
    }
   ],
   "source": [
    "i = 0\n",
    "while i<10:\n",
    "    if i==5:\n",
    "        i = i+1\n",
    "        continue\n",
    "    print(i)\n",
    "    i = i+1"
   ]
  },
  {
   "cell_type": "code",
   "execution_count": 14,
   "id": "b4a89e01-1050-4c99-8cd6-bc75a147871d",
   "metadata": {},
   "outputs": [
    {
     "name": "stdin",
     "output_type": "stream",
     "text": [
      "Enter n = 93\n"
     ]
    },
    {
     "name": "stdout",
     "output_type": "stream",
     "text": [
      "Composite no.\n"
     ]
    }
   ],
   "source": [
    "#for else loop\n",
    "#prime or composite\n",
    "n = int(input(\"Enter n =\"))\n",
    "for i in range(2,n):\n",
    "    if n%i == 0:\n",
    "        print(\"Composite no.\")\n",
    "        break\n",
    "else:\n",
    "    print(\"Prime no.\")"
   ]
  },
  {
   "cell_type": "code",
   "execution_count": null,
   "id": "0562244b-e29a-4c87-bb3c-c897564dc744",
   "metadata": {},
   "outputs": [],
   "source": []
  }
 ],
 "metadata": {
  "kernelspec": {
   "display_name": "Python [conda env:base] *",
   "language": "python",
   "name": "conda-base-py"
  },
  "language_info": {
   "codemirror_mode": {
    "name": "ipython",
    "version": 3
   },
   "file_extension": ".py",
   "mimetype": "text/x-python",
   "name": "python",
   "nbconvert_exporter": "python",
   "pygments_lexer": "ipython3",
   "version": "3.12.7"
  }
 },
 "nbformat": 4,
 "nbformat_minor": 5
}
