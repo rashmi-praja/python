{
 "cells": [
  {
   "cell_type": "code",
   "execution_count": 5,
   "id": "f46aa007-762a-4fbc-8401-af2f5867006b",
   "metadata": {},
   "outputs": [
    {
     "name": "stdout",
     "output_type": "stream",
     "text": [
      "10\n"
     ]
    }
   ],
   "source": [
    "a = 10\n",
    "print(a)"
   ]
  },
  {
   "cell_type": "code",
   "execution_count": 7,
   "id": "b41725c7-56f3-40cb-8c36-e8077c6d030a",
   "metadata": {},
   "outputs": [
    {
     "name": "stdout",
     "output_type": "stream",
     "text": [
      "10\n",
      "10.5\n",
      "hello world\n",
      "True\n",
      "10 10.5 hello world True\n"
     ]
    }
   ],
   "source": [
    "a = 10               #int      only 0-9\n",
    "b = 10.5             #float    only 0-9 with . only one digit after decimal\n",
    "c = 'hello world'    #str      anytime between '' or \"\"\n",
    "d = True             #bool     only True or False\n",
    "\n",
    "print(a)\n",
    "print(b)\n",
    "print(c)\n",
    "print(d)\n",
    "\n",
    "print(a, b, c, d)"
   ]
  },
  {
   "cell_type": "code",
   "execution_count": 8,
   "id": "f3a0591b-3625-4d5f-a93d-e2f452be74bc",
   "metadata": {},
   "outputs": [],
   "source": [
    "# operators in python\n"
   ]
  },
  {
   "cell_type": "code",
   "execution_count": 3,
   "id": "893d8baf-687f-4f73-8c6e-5a2f35b1058d",
   "metadata": {},
   "outputs": [
    {
     "name": "stdout",
     "output_type": "stream",
     "text": [
      "11\n",
      "7\n",
      "18\n",
      "4.5\n",
      "81\n",
      "4\n",
      "1\n"
     ]
    }
   ],
   "source": [
    "#Arithmetic Operators: + - * / ** // %\n",
    "a = 9\n",
    "b = 2\n",
    "\n",
    "print(a+b)\n",
    "print(a-b)\n",
    "print(a*b)\n",
    "print(a/b) #decimal no, the output will always be a float\n",
    "\n",
    "print(a**b)   #power\n",
    "print(a//b)   #float division (whole no.)\n",
    "print(a%b)    #reminder"
   ]
  },
  {
   "cell_type": "code",
   "execution_count": 17,
   "id": "8afb343c-17a0-4e97-8eb3-e1d208cf1b21",
   "metadata": {},
   "outputs": [
    {
     "name": "stdout",
     "output_type": "stream",
     "text": [
      "HelloWorld\n"
     ]
    }
   ],
   "source": [
    "#String: only + and *(by int)\n",
    "a = \"Hello\"\n",
    "b = \"World\"\n",
    "c = a+b  #concatenation, both need to be string\n",
    "print(c)\n"
   ]
  },
  {
   "cell_type": "code",
   "execution_count": 18,
   "id": "7259f1cd-b08f-412e-a134-50745500d22d",
   "metadata": {},
   "outputs": [
    {
     "name": "stdout",
     "output_type": "stream",
     "text": [
      "1010\n"
     ]
    }
   ],
   "source": [
    "a = \"10\"\n",
    "b = \"10\"\n",
    "c = a+b   # here =, + are operators and a,b,c are operands\n",
    "print(c)"
   ]
  },
  {
   "cell_type": "code",
   "execution_count": 20,
   "id": "219d13b8-5d5f-4616-8f3b-27a10934bcd0",
   "metadata": {},
   "outputs": [
    {
     "name": "stdout",
     "output_type": "stream",
     "text": [
      "Hello WorldHello World\n"
     ]
    }
   ],
   "source": [
    "a = \"Hello World\"\n",
    "print(a*2)"
   ]
  },
  {
   "cell_type": "code",
   "execution_count": 24,
   "id": "211fd2eb-b2e0-4848-bd85-b44180557e79",
   "metadata": {},
   "outputs": [
    {
     "name": "stdout",
     "output_type": "stream",
     "text": [
      "1\n"
     ]
    }
   ],
   "source": [
    "a = True   #1\n",
    "b = False  #0\n",
    "c = a+b\n",
    "print(c)"
   ]
  },
  {
   "cell_type": "code",
   "execution_count": 26,
   "id": "5262cbf4-1a99-4660-abb1-345cdb961d41",
   "metadata": {},
   "outputs": [
    {
     "name": "stdout",
     "output_type": "stream",
     "text": [
      "0\n"
     ]
    }
   ],
   "source": [
    "a = True   #1\n",
    "b = False  #0\n",
    "c = a*b\n",
    "print(c)\n",
    "\n",
    "# a+b=1\n",
    "# a-b=1\n",
    "# a*b=0\n",
    "# a/b=undefined (1/0)"
   ]
  },
  {
   "cell_type": "code",
   "execution_count": null,
   "id": "6a1b22e8-2b5e-4324-b89a-7fd7c1bc9bc8",
   "metadata": {},
   "outputs": [],
   "source": []
  }
 ],
 "metadata": {
  "kernelspec": {
   "display_name": "Python [conda env:base] *",
   "language": "python",
   "name": "conda-base-py"
  },
  "language_info": {
   "codemirror_mode": {
    "name": "ipython",
    "version": 3
   },
   "file_extension": ".py",
   "mimetype": "text/x-python",
   "name": "python",
   "nbconvert_exporter": "python",
   "pygments_lexer": "ipython3",
   "version": "3.12.7"
  }
 },
 "nbformat": 4,
 "nbformat_minor": 5
}
