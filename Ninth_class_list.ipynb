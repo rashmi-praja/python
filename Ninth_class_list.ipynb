{
 "cells": [
  {
   "cell_type": "code",
   "execution_count": 1,
   "id": "32303426-5158-4938-a388-99b2641620c6",
   "metadata": {},
   "outputs": [
    {
     "name": "stdout",
     "output_type": "stream",
     "text": [
      "3\n"
     ]
    }
   ],
   "source": [
    "#nested list (list inside list)\n",
    "a = [[1,2,3],[4,5,6],[7,8,9]]\n",
    "print(len(a))"
   ]
  },
  {
   "cell_type": "code",
   "execution_count": 2,
   "id": "71ab2608-88e9-47bb-8be0-ad482ddf859c",
   "metadata": {},
   "outputs": [
    {
     "name": "stdout",
     "output_type": "stream",
     "text": [
      "[['Ram', 30, 'Kathmandu'], ['Shyam', 40, 'Bhaktapur'], ['Hari', 35, 'Lalitput']]\n"
     ]
    }
   ],
   "source": [
    "a = [[\"Ram\", 30, \"Kathmandu\"],\n",
    "     [\"Shyam\", 40, \"Bhaktapur\"],\n",
    "     [\"Hari\", 35, \"Lalitput\"]]\n",
    "print(a)"
   ]
  },
  {
   "cell_type": "code",
   "execution_count": 4,
   "id": "1bb83822-a4e7-4dfc-9c10-8d4035045678",
   "metadata": {},
   "outputs": [
    {
     "name": "stdin",
     "output_type": "stream",
     "text": [
      "Enter n = 2\n",
      "Enter name: ram\n",
      "Enter age: 34\n",
      "Enter address: kathmandu\n"
     ]
    },
    {
     "name": "stdout",
     "output_type": "stream",
     "text": [
      "[['ram', 34, 'kathmandu']]\n"
     ]
    },
    {
     "name": "stdin",
     "output_type": "stream",
     "text": [
      "Enter name: shyam\n",
      "Enter age: 43\n",
      "Enter address: bkt\n"
     ]
    },
    {
     "name": "stdout",
     "output_type": "stream",
     "text": [
      "[['ram', 34, 'kathmandu'], ['shyam', 43, 'bkt']]\n",
      "[['ram', 34, 'kathmandu'], ['shyam', 43, 'bkt']]\n"
     ]
    }
   ],
   "source": [
    "#storing name, age and address as a list within a list\n",
    "n = int(input(\"Enter n =\"))\n",
    "data = []\n",
    "for i in range(n):\n",
    "    name = input(\"Enter name:\")\n",
    "    age = int(input(\"Enter age:\"))\n",
    "    add = input(\"Enter address:\")\n",
    "    x = [name, age, add]\n",
    "    data.append(x)\n",
    "    print(data)\n",
    "print(data)"
   ]
  },
  {
   "cell_type": "code",
   "execution_count": 20,
   "id": "ab2adbc7-4673-47c7-924e-408c1a17dd9f",
   "metadata": {},
   "outputs": [
    {
     "name": "stdout",
     "output_type": "stream",
     "text": [
      "['Ram', 30, 'Kathmandu']\n",
      "Ram\n",
      "['Shyam', 40, 'Bhaktapur']\n",
      "['Hari', 35, 'Lalitpur']\n"
     ]
    }
   ],
   "source": [
    "#Indexing\n",
    "a = [['Ram', 30, 'Kathmandu'], \n",
    "     ['Shyam', 40, 'Bhaktapur'], \n",
    "     ['Hari', 35, 'Lalitpur']]\n",
    "print(a[0])\n",
    "print(a[0][0])\n",
    "print(a[1])\n",
    "print(a[2])"
   ]
  },
  {
   "cell_type": "code",
   "execution_count": 21,
   "id": "ae06e79e-c03f-4e40-ba34-f34cf28ae437",
   "metadata": {},
   "outputs": [
    {
     "name": "stdout",
     "output_type": "stream",
     "text": [
      "[['Ram', 30, 'Kathmandu'], ['Shyam', 40, 'Bhaktapur'], ['Hari', 35, 'Lalitpur'], ['Krishna', 45, 'Jhapa']]\n"
     ]
    }
   ],
   "source": [
    "a.append(['Krishna', 45, 'Jhapa'])\n",
    "print(a)"
   ]
  },
  {
   "cell_type": "code",
   "execution_count": 19,
   "id": "c621d0f2-048c-4a13-8bb0-58b263d12fa6",
   "metadata": {},
   "outputs": [
    {
     "name": "stdout",
     "output_type": "stream",
     "text": [
      "['Ram', 30, 'Kathmandu']\n",
      "['Shyam', 40, 'Bhaktapur']\n",
      "['Hari', 35, 'Lalitpur']\n",
      "['Krishna', 45, 'Jhapa']\n"
     ]
    }
   ],
   "source": [
    "for i in a:\n",
    "    print(i)"
   ]
  },
  {
   "cell_type": "code",
   "execution_count": 29,
   "id": "7e47caa5-a9ab-4a12-b8f7-76e1a05a0638",
   "metadata": {},
   "outputs": [
    {
     "name": "stdout",
     "output_type": "stream",
     "text": [
      "[['Ram Prasad', 30, 'Kathmandu'], ['Shyam', 43, 'Bhaktapur'], ['Krishna', 35, 'Lalitpur']]\n"
     ]
    }
   ],
   "source": [
    "#update\n",
    "a = [['Ram', 30, 'Kathmandu'],\n",
    "     ['Shyam', 40, 'Bhaktapur'],\n",
    "     ['Hari', 35, 'Lalitpur']]\n",
    "a[0][0] = \"Ram Prasad\"\n",
    "a[1][1] = 43\n",
    "a[2][0] = \"Krishna\"\n",
    "print(a)\n"
   ]
  },
  {
   "cell_type": "code",
   "execution_count": 30,
   "id": "52098bc4-a783-4871-9034-33c66ae15d5b",
   "metadata": {},
   "outputs": [
    {
     "name": "stdout",
     "output_type": "stream",
     "text": [
      "[['Ram Prasad', 'Kathmandu'], ['Shyam', 43, 'Bhaktapur'], ['Krishna', 35, 'Lalitpur']]\n"
     ]
    }
   ],
   "source": [
    "del a[0][1]\n",
    "print(a)"
   ]
  },
  {
   "cell_type": "code",
   "execution_count": 31,
   "id": "4c67d6fd-fadc-44c3-9acf-2c8f60f122f5",
   "metadata": {},
   "outputs": [
    {
     "name": "stdout",
     "output_type": "stream",
     "text": [
      "[['Ram Prasad', 'Kathmandu'], ['Krishna', 35, 'Lalitpur']]\n"
     ]
    }
   ],
   "source": [
    "del a[1]\n",
    "print(a)"
   ]
  },
  {
   "cell_type": "code",
   "execution_count": 40,
   "id": "d48af57d-244e-4926-9bdb-983c8834ffb6",
   "metadata": {},
   "outputs": [
    {
     "data": {
      "text/plain": [
       "[['Shyam', 43, 'Bhaktapur'], ['Krishna', 35, 'Lalitpur']]"
      ]
     },
     "execution_count": 40,
     "metadata": {},
     "output_type": "execute_result"
    }
   ],
   "source": [
    "a = [['Ram Prasad', 30, 'Kathmandu'], ['Shyam', 43, 'Bhaktapur'], ['Krishna', 35, 'Lalitpur']]\n",
    "a.remove(a[0])\n",
    "a"
   ]
  },
  {
   "cell_type": "code",
   "execution_count": 52,
   "id": "49452d9f-bca9-4845-ad18-e68a6c5c8358",
   "metadata": {},
   "outputs": [
    {
     "name": "stdin",
     "output_type": "stream",
     "text": [
      "Enter name:  ram\n"
     ]
    },
    {
     "name": "stdout",
     "output_type": "stream",
     "text": [
      "No\n"
     ]
    }
   ],
   "source": [
    "#Search in list\n",
    "a = [\"Ram\", \"Hari\", \"Shyam\", \"Sita\", \"Ramesh\", \"Sita\"]\n",
    "search = input(\"Enter name: \")\n",
    "if search in a:\n",
    "    print(\"Yes\")\n",
    "    print(a.count(search))\n",
    "else:\n",
    "    print(\"No\")"
   ]
  },
  {
   "cell_type": "code",
   "execution_count": 1,
   "id": "cd819922-6df3-404c-8cfe-c017b29d7dd1",
   "metadata": {},
   "outputs": [
    {
     "name": "stdin",
     "output_type": "stream",
     "text": [
      "Enter name:  Ram\n"
     ]
    },
    {
     "name": "stdout",
     "output_type": "stream",
     "text": [
      "['Ram', 30, 'Kathmandu']\n",
      "['Ram', 34, 'Duwakot']\n",
      "['Ram', 34, 'Duwakot']\n",
      "count: 3\n"
     ]
    }
   ],
   "source": [
    "#Search and count in nested list\n",
    "count = 0\n",
    "a = [['Ram', 30, 'Kathmandu'], ['Shyam', 43, 'Bhaktapur'],['Ram', 34, 'Duwakot'], ['Krishna', 35, 'Lalitpur'], ['Ram', 34, 'Duwakot']]\n",
    "search = input(\"Enter name: \")  #can enter any string data but cant take int data as searching in string.\n",
    "for i in a:\n",
    "    if search in i:\n",
    "        print(i)\n",
    "        count = count+1\n",
    "print(\"count:\", count)\n",
    "    "
   ]
  },
  {
   "cell_type": "code",
   "execution_count": 71,
   "id": "cf6d02e8-84a4-41bc-9136-17dcb88f3dc9",
   "metadata": {},
   "outputs": [
    {
     "name": "stdin",
     "output_type": "stream",
     "text": [
      "Enter name:  Ram\n"
     ]
    },
    {
     "name": "stdout",
     "output_type": "stream",
     "text": [
      "0\n",
      "2\n",
      "4\n"
     ]
    }
   ],
   "source": [
    "l = len(a)\n",
    "a = [['Ram', 30, 'Kathmandu'], ['Shyam', 43, 'Bhaktapur'],['Ram', 34, 'Duwakot'], ['Krishna', 35, 'Lalitpur'], ['Ram', 34, 'Duwakot']]\n",
    "search = input(\"Enter name: \") \n",
    "for i in range(l):\n",
    "            if search in a[i]:\n",
    "                print(i)"
   ]
  },
  {
   "cell_type": "code",
   "execution_count": 17,
   "id": "be5c9da3-e961-4f69-bf04-ebd76aca7937",
   "metadata": {},
   "outputs": [
    {
     "name": "stdin",
     "output_type": "stream",
     "text": [
      "Enter name:  Ram\n"
     ]
    },
    {
     "name": "stdout",
     "output_type": "stream",
     "text": [
      "[['Shyam', 43, 'Bhaktapur'], ['Krishna', 35, 'Lalitpur']]\n"
     ]
    }
   ],
   "source": [
    "#Removing list having searching name\n",
    "a = [['Ram', 30, 'Kathmandu'], ['Shyam', 43, 'Bhaktapur'],['Ram', 34, 'Duwakot'], ['Krishna', 35, 'Lalitpur'], ['Ram', 34, 'Duwakot']]\n",
    "search = input(\"Enter name: \")  #can enter any string data but cant take int data as searching in string.\n",
    "for i in a:\n",
    "    if search in i:\n",
    "        a.remove(i)\n",
    "print(a)"
   ]
  },
  {
   "cell_type": "code",
   "execution_count": 20,
   "id": "8c7702e0-6064-48d5-b5db-42cdf7b342ec",
   "metadata": {},
   "outputs": [
    {
     "name": "stdin",
     "output_type": "stream",
     "text": [
      "Enter name:  Ram\n"
     ]
    },
    {
     "name": "stdout",
     "output_type": "stream",
     "text": [
      "[['Shyam', 43, 'Bhaktapur'], ['Ram', 34, 'Duwakot']]\n"
     ]
    }
   ],
   "source": [
    "#Logical Error (in intepreter\n",
    "a = [['Ram', 30, 'Kathmandu'], ['Shyam', 43, 'Bhaktapur'],['Ram', 34, 'Duwakot'], ['Ram', 34, 'Duwakot']]\n",
    "search = input(\"Enter name: \")  #can enter any string data but cant take int data as searching in string.\n",
    "for i in a:\n",
    "    if search in i:\n",
    "        a.remove(i)\n",
    "print(a)"
   ]
  },
  {
   "cell_type": "code",
   "execution_count": 21,
   "id": "6c1ae03f-fe69-4ef1-8b81-6c16c36951b3",
   "metadata": {},
   "outputs": [
    {
     "name": "stdin",
     "output_type": "stream",
     "text": [
      "Enter name:  Ram\n"
     ]
    },
    {
     "name": "stdout",
     "output_type": "stream",
     "text": [
      "[['Shyam', 43, 'Bhaktapur'], ['Krishna', 35, 'Lalitpur']]\n"
     ]
    }
   ],
   "source": [
    "#Removing list having searching name by filtering\n",
    "b = []\n",
    "a = [['Ram', 30, 'Kathmandu'], ['Shyam', 43, 'Bhaktapur'],['Ram', 34, 'Duwakot'], ['Ram', 34, 'Duwakot'], ['Krishna', 35, 'Lalitpur']]\n",
    "search = input(\"Enter name: \")  #can enter any string data but cant take int data as searching in string.\n",
    "for i in a:\n",
    "    if search != i[0]:\n",
    "        b.append(i)\n",
    "print(b)"
   ]
  },
  {
   "cell_type": "code",
   "execution_count": 24,
   "id": "e12bda0f-5d40-42d3-9103-3be2166159b8",
   "metadata": {},
   "outputs": [
    {
     "name": "stdin",
     "output_type": "stream",
     "text": [
      "Enter name:  Duwakot\n"
     ]
    },
    {
     "name": "stdout",
     "output_type": "stream",
     "text": [
      "[['Ram', 30, 'Kathmandu'], ['Shyam', 43, 'Bhaktapur'], ['Krishna', 35, 'Lalitpur']]\n"
     ]
    }
   ],
   "source": [
    "#Removing list having searching name/address by filtering\n",
    "b = []\n",
    "a = [['Ram', 30, 'Kathmandu'], ['Shyam', 43, 'Bhaktapur'],['Ram', 34, 'Duwakot'], ['Ram', 34, 'Duwakot'], ['Krishna', 35, 'Lalitpur']]\n",
    "search = input(\"Enter name: \")  #can enter any string data but cant take int data as searching in string.\n",
    "for i in a:\n",
    "    if search != i[0] and search != i[2]:\n",
    "        b.append(i)\n",
    "print(b)"
   ]
  },
  {
   "cell_type": "code",
   "execution_count": null,
   "id": "5711f809-7e3c-48b7-b724-f25863e0053f",
   "metadata": {},
   "outputs": [],
   "source": []
  }
 ],
 "metadata": {
  "kernelspec": {
   "display_name": "Python [conda env:base] *",
   "language": "python",
   "name": "conda-base-py"
  },
  "language_info": {
   "codemirror_mode": {
    "name": "ipython",
    "version": 3
   },
   "file_extension": ".py",
   "mimetype": "text/x-python",
   "name": "python",
   "nbconvert_exporter": "python",
   "pygments_lexer": "ipython3",
   "version": "3.12.7"
  }
 },
 "nbformat": 4,
 "nbformat_minor": 5
}
