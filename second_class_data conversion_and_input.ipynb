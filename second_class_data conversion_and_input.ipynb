{
 "cells": [
  {
   "cell_type": "code",
   "execution_count": 1,
   "id": "e1cdca3e-0614-4a81-8164-efc8cc714480",
   "metadata": {},
   "outputs": [
    {
     "name": "stdout",
     "output_type": "stream",
     "text": [
      "<class 'int'>\n",
      "<class 'float'>\n",
      "<class 'str'>\n",
      "<class 'bool'>\n"
     ]
    }
   ],
   "source": [
    "#data type\n",
    "a = 10               #int      only 0-9\n",
    "b = 10.5             #float    only 0-9 with . only one digit after decimal\n",
    "c = 'hello world'    #str      anytime between '' or \"\"\n",
    "d = True             #bool     only True or False\n",
    "print(type(a))\n",
    "print(type(b))\n",
    "print(type(c))\n",
    "print(type(d))"
   ]
  },
  {
   "cell_type": "code",
   "execution_count": 13,
   "id": "75096e84-0036-4398-a64b-85859e6ff3c8",
   "metadata": {},
   "outputs": [
    {
     "name": "stdout",
     "output_type": "stream",
     "text": [
      "10.0\n",
      "<class 'float'>\n"
     ]
    }
   ],
   "source": [
    "#converting data types: int(), float(), str(), bool()\n",
    "#int to float\n",
    "a = 10\n",
    "b = float(a)\n",
    "print(b)\n",
    "print(type(b))"
   ]
  },
  {
   "cell_type": "code",
   "execution_count": 9,
   "id": "3d5f1205-5ca8-4c73-8b2b-8d476657c115",
   "metadata": {},
   "outputs": [
    {
     "name": "stdout",
     "output_type": "stream",
     "text": [
      "10\n",
      "<class 'int'>\n"
     ]
    }
   ],
   "source": [
    "#float to int\n",
    "a = 10.5\n",
    "b = int(a)\n",
    "print(b)\n",
    "print(type(b))"
   ]
  },
  {
   "cell_type": "code",
   "execution_count": 10,
   "id": "e79430d5-4c9e-4f99-8176-9db2ec226ca7",
   "metadata": {},
   "outputs": [
    {
     "name": "stdout",
     "output_type": "stream",
     "text": [
      "12\n",
      "<class 'str'>\n"
     ]
    }
   ],
   "source": [
    "#int/float to str\n",
    "a = 12\n",
    "b = str(a)\n",
    "print(b)\n",
    "print(type(b))"
   ]
  },
  {
   "cell_type": "code",
   "execution_count": 14,
   "id": "af5c6834-893e-4b54-bac8-eaf76adbc4d4",
   "metadata": {},
   "outputs": [],
   "source": [
    "# a = 'Ten'\n",
    "# b = int(a)\n",
    "# print(b)\n",
    "#all string cant be converted into int (words and float inside the quotation cannot be changed to int)"
   ]
  },
  {
   "cell_type": "code",
   "execution_count": 17,
   "id": "c252228b-3cc0-4173-9582-d94d2f540b46",
   "metadata": {},
   "outputs": [
    {
     "name": "stdout",
     "output_type": "stream",
     "text": [
      "False\n",
      "<class 'bool'>\n"
     ]
    }
   ],
   "source": [
    "#int to bool\n",
    "a = 0\n",
    "b = bool(a)\n",
    "print(b)\n",
    "print(type(b))\n",
    "#every other number and string other than 0 gives True. Only 0 and null value/string gives False"
   ]
  },
  {
   "cell_type": "code",
   "execution_count": 19,
   "id": "447f0360-da75-4d34-8843-3eece90358b4",
   "metadata": {},
   "outputs": [
    {
     "name": "stdout",
     "output_type": "stream",
     "text": [
      "False\n",
      "<class 'bool'>\n"
     ]
    }
   ],
   "source": [
    "#str to bool\n",
    "a = ''\n",
    "b = bool(a)\n",
    "print(b)\n",
    "print(type(b))\n",
    "#all string value gives True but if the string is empty or null, it gives false"
   ]
  },
  {
   "cell_type": "code",
   "execution_count": 21,
   "id": "68d9adfa-1996-458c-b445-a2580218fc81",
   "metadata": {},
   "outputs": [],
   "source": [
    "#all the var above are pre-defined variables\n",
    "#all the var below are user-defined variables"
   ]
  },
  {
   "cell_type": "code",
   "execution_count": 27,
   "id": "35ca2e57-3218-4d24-aa24-fe9a3412b27e",
   "metadata": {},
   "outputs": [
    {
     "name": "stdin",
     "output_type": "stream",
     "text": [
      "Enter a =  13\n",
      "Enter b =  23\n"
     ]
    },
    {
     "name": "stdout",
     "output_type": "stream",
     "text": [
      "36\n"
     ]
    }
   ],
   "source": [
    "a = int(input(\"Enter a = \"))\n",
    "b = int(input(\"Enter b = \"))\n",
    "c = a+b\n",
    "print(c)\n",
    "#the input function automically assumes the input to be string value."
   ]
  },
  {
   "cell_type": "code",
   "execution_count": 28,
   "id": "ba5f0926-19b5-49ef-9616-70312173acec",
   "metadata": {},
   "outputs": [
    {
     "name": "stdin",
     "output_type": "stream",
     "text": [
      "Enter a =  23.5\n",
      "Enter b =  12.3\n"
     ]
    },
    {
     "name": "stdout",
     "output_type": "stream",
     "text": [
      "35.8\n"
     ]
    }
   ],
   "source": [
    "a = float(input(\"Enter a = \"))\n",
    "b = float(input(\"Enter b = \"))\n",
    "c = a+b\n",
    "print(c)"
   ]
  },
  {
   "cell_type": "code",
   "execution_count": 30,
   "id": "5a2d2ff1-1902-451d-878e-d2071a8ac54e",
   "metadata": {},
   "outputs": [
    {
     "name": "stdin",
     "output_type": "stream",
     "text": [
      "Enter P =  100\n",
      "Enter T =  2\n",
      "Enter R =  4\n"
     ]
    },
    {
     "name": "stdout",
     "output_type": "stream",
     "text": [
      "The value of I =  8.0\n"
     ]
    }
   ],
   "source": [
    "#Simple Interest Calculation\n",
    "p = int(input(\"Enter P = \"))\n",
    "t = float(input(\"Enter T = \"))\n",
    "r = float(input(\"Enter R = \"))\n",
    "\n",
    "i = p*t*r/100\n",
    "print(\"The value of I = \", i)"
   ]
  },
  {
   "cell_type": "code",
   "execution_count": 32,
   "id": "419a7161-68e9-4cf6-843a-106b7140d26c",
   "metadata": {},
   "outputs": [
    {
     "name": "stdin",
     "output_type": "stream",
     "text": [
      "Enter R =  7\n"
     ]
    },
    {
     "name": "stdout",
     "output_type": "stream",
     "text": [
      "The value of A =  153.86\n"
     ]
    }
   ],
   "source": [
    "#Area of a cirlce\n",
    "r = float(input(\"Enter R = \"))\n",
    "a = 3.14 * r ** 2\n",
    "print(\"The value of A = \", a)"
   ]
  },
  {
   "cell_type": "code",
   "execution_count": 35,
   "id": "de9efb07-5d6b-4e8b-9a45-fd001a14aa84",
   "metadata": {},
   "outputs": [
    {
     "name": "stdin",
     "output_type": "stream",
     "text": [
      "Physics =  76\n",
      "Chemistry =  4\n",
      "Math =  87\n",
      "English =  54\n",
      "Nepali =  67\n"
     ]
    },
    {
     "name": "stdout",
     "output_type": "stream",
     "text": [
      "Total =  288.0\n",
      "Percentage =  57.599999999999994 %\n"
     ]
    }
   ],
   "source": [
    "#total marks in all subject and percentage\n",
    "physics = float(input(\"Physics = \"))\n",
    "chemistry = float(input(\"Chemistry = \"))\n",
    "math = float(input(\"Math = \"))\n",
    "english = float(input(\"English = \"))\n",
    "nepali = float(input(\"Nepali = \"))\n",
    "total = physics + chemistry + math + english + nepali\n",
    "percent = total/500 * 100 # or percent total/5\n",
    "print(\"Total = \", total)\n",
    "print(\"Percentage = \", percent, \"%\")\n"
   ]
  },
  {
   "cell_type": "code",
   "execution_count": null,
   "id": "b1b8c5f2-0546-4a08-a3ca-ed34af6a2457",
   "metadata": {},
   "outputs": [],
   "source": []
  }
 ],
 "metadata": {
  "kernelspec": {
   "display_name": "Python [conda env:base] *",
   "language": "python",
   "name": "conda-base-py"
  },
  "language_info": {
   "codemirror_mode": {
    "name": "ipython",
    "version": 3
   },
   "file_extension": ".py",
   "mimetype": "text/x-python",
   "name": "python",
   "nbconvert_exporter": "python",
   "pygments_lexer": "ipython3",
   "version": "3.12.7"
  }
 },
 "nbformat": 4,
 "nbformat_minor": 5
}
