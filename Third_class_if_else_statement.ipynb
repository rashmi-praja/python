{
 "cells": [
  {
   "cell_type": "code",
   "execution_count": 16,
   "id": "8309a633-1643-47bd-9056-1c71119aaf97",
   "metadata": {},
   "outputs": [],
   "source": [
    "#Decision Making\n",
    "#if, elif, else syntax:\n",
    "# if <condition>:        #indetantion sign ':'\n",
    "#     <operations>\n",
    "# elif <conditions>:\n",
    "#     <operations>\n",
    "# else:\n",
    "# <operations>"
   ]
  },
  {
   "cell_type": "code",
   "execution_count": 2,
   "id": "7d3094f6-f755-409a-9d9f-1130746e30b9",
   "metadata": {},
   "outputs": [],
   "source": [
    "# Comparision operators: > < >= <= == !="
   ]
  },
  {
   "cell_type": "code",
   "execution_count": 8,
   "id": "4682a410-295b-44fa-a579-773bdc89fdeb",
   "metadata": {},
   "outputs": [
    {
     "name": "stdout",
     "output_type": "stream",
     "text": [
      "5 is +ve number\n"
     ]
    }
   ],
   "source": [
    "a = 5\n",
    "if a>=0:\n",
    "    print(a, \"is +ve number\")\n",
    "else:\n",
    "    print(a, \"is -ve number\")"
   ]
  },
  {
   "cell_type": "code",
   "execution_count": 9,
   "id": "f630fc88-9c25-425b-993a-1c64f307ae77",
   "metadata": {},
   "outputs": [
    {
     "name": "stdin",
     "output_type": "stream",
     "text": [
      "Enter a number -9\n"
     ]
    },
    {
     "name": "stdout",
     "output_type": "stream",
     "text": [
      "-9 is -ve number\n"
     ]
    }
   ],
   "source": [
    "a = int(input(\"Enter a number\"))\n",
    "if a>=0:\n",
    "    print(a, \"is +ve number\")\n",
    "else:\n",
    "    print(a, \"is -ve number\")"
   ]
  },
  {
   "cell_type": "code",
   "execution_count": 12,
   "id": "22bcbf83-958c-4b85-8066-986a7cf09844",
   "metadata": {},
   "outputs": [
    {
     "name": "stdin",
     "output_type": "stream",
     "text": [
      "Enter a number: 34\n"
     ]
    },
    {
     "name": "stdout",
     "output_type": "stream",
     "text": [
      "34 is even number\n"
     ]
    }
   ],
   "source": [
    "#even odd\n",
    "a = int(input(\"Enter a number:\"))\n",
    "if a%2==0:\n",
    "    print(a, \"is even number\")\n",
    "else:\n",
    "    print(a, \"is odd number\")"
   ]
  },
  {
   "cell_type": "code",
   "execution_count": 17,
   "id": "7166fe0b-0387-4685-85a1-1b65d7b84b28",
   "metadata": {},
   "outputs": [
    {
     "name": "stdin",
     "output_type": "stream",
     "text": [
      "Enter 1st number 12\n",
      "Enter 2nd number -12\n"
     ]
    },
    {
     "name": "stdout",
     "output_type": "stream",
     "text": [
      "12 is greater than -12\n"
     ]
    }
   ],
   "source": [
    "#Greater Number\n",
    "a = int(input(\"Enter 1st number\"))\n",
    "b = int(input(\"Enter 2nd number\"))\n",
    "if a>b:\n",
    "    print(a, \"is greater than\", b)\n",
    "elif b>a:\n",
    "    print(b, \"is greater than\", a)\n",
    "else:\n",
    "    print(\"Both numbers are same\")"
   ]
  },
  {
   "cell_type": "code",
   "execution_count": 25,
   "id": "c574e04f-2a68-4e95-aecf-d5c55b4c7c3c",
   "metadata": {},
   "outputs": [
    {
     "name": "stdin",
     "output_type": "stream",
     "text": [
      "Physics =  67\n",
      "Chemistry =  65\n",
      "Math =  87\n",
      "English =  91\n",
      "Nepali =  85\n"
     ]
    },
    {
     "name": "stdout",
     "output_type": "stream",
     "text": [
      "Total =  395.0\n",
      "Percentage =  79.0 %\n",
      "Grade= B\n"
     ]
    }
   ],
   "source": [
    "#total marks in all subject, percentage and overall grading\n",
    "physics = float(input(\"Physics = \"))\n",
    "chemistry = float(input(\"Chemistry = \"))\n",
    "math = float(input(\"Math = \"))\n",
    "english = float(input(\"English = \"))\n",
    "nepali = float(input(\"Nepali = \"))\n",
    "total = physics + chemistry + math + english + nepali\n",
    "percent = total/500 * 100 # or percent total/5\n",
    "if percent>=80:\n",
    "    Grade = 'A'\n",
    "elif percent>=60:\n",
    "    Grade = 'B'\n",
    "elif percent>=45:\n",
    "    Grade = 'C'\n",
    "else:\n",
    "    Grade = 'F'\n",
    "print(\"Total = \", total)\n",
    "print(\"Percentage = \", percent, \"%\")\n",
    "print(\"Grade=\", Grade)"
   ]
  },
  {
   "cell_type": "code",
   "execution_count": 40,
   "id": "6530a4f9-595e-4fe9-85ee-02cae29f01a3",
   "metadata": {},
   "outputs": [
    {
     "name": "stdin",
     "output_type": "stream",
     "text": [
      "Enter a number: 12\n",
      "Enter another number: 12\n",
      "Enter '+' or '-' or '*' or '/' : /\n"
     ]
    },
    {
     "name": "stdout",
     "output_type": "stream",
     "text": [
      "Division is 1.0\n"
     ]
    }
   ],
   "source": [
    "#Simple Calcutor:\n",
    "a = int(input(\"Enter a number:\"))\n",
    "b = int(input(\"Enter another number:\"))\n",
    "o = input(\"Enter '+' or '-' or '*' or '/' :\")\n",
    "if o == '+':\n",
    "    print(\"Sum is\", a+b)\n",
    "elif o == '-':\n",
    "    print(\"Difference is\", a-b)\n",
    "elif o == '*':\n",
    "    print(\"Product is\", a*b)\n",
    "elif o == '/' and b != 0:\n",
    "    print(\"Division is\", a/b)\n",
    "elif o == '/' and b == 0:\n",
    "    print(\"the value of b cannot be zero while dividing\")\n",
    "else:\n",
    "    print(\"Invalid operator!\")"
   ]
  },
  {
   "cell_type": "code",
   "execution_count": 33,
   "id": "3d93eba4-a3da-46aa-b996-90307e52d407",
   "metadata": {},
   "outputs": [],
   "source": [
    "#chain condition\n",
    "#nested if else"
   ]
  },
  {
   "cell_type": "code",
   "execution_count": 1,
   "id": "ae75fa8c-9aec-4303-89cd-57da6288f87c",
   "metadata": {},
   "outputs": [],
   "source": [
    "#Logical Operators: \n",
    "#and   &  (True only when all the conditions are true, otherwise False)\n",
    "#or    |  (True when any one if the condition is true, otherwise False)\n",
    "#not   ^"
   ]
  },
  {
   "cell_type": "code",
   "execution_count": null,
   "id": "0af16627-2c56-42c1-a536-150611db5780",
   "metadata": {},
   "outputs": [],
   "source": [
    "#total marks in all subject, percentage and overall grading\n",
    "#Logical Operator: OR\n",
    "physics = float(input(\"Physics = \"))\n",
    "chemistry = float(input(\"Chemistry = \"))\n",
    "math = float(input(\"Math = \"))\n",
    "english = float(input(\"English = \"))\n",
    "nepali = float(input(\"Nepali = \"))\n",
    "total = physics + chemistry + math + english + nepali\n",
    "percent = total/500 * 100 # or percent total/5\n",
    "if percent>80 or percent==80:\n",
    "    Grade = 'A'\n",
    "elif percent>60 or percent==60:\n",
    "    Grade = 'B'\n",
    "elif percent>45 or percent==45:\n",
    "    Grade = 'C'\n",
    "else:\n",
    "    Grade = 'F'\n",
    "print(\"Total = \", total)\n",
    "print(\"Percentage = \", percent, \"%\")\n",
    "print(\"Grade=\", Grade)"
   ]
  },
  {
   "cell_type": "code",
   "execution_count": null,
   "id": "249ffe2c-5f01-4205-a0f6-a9280df6ce2b",
   "metadata": {},
   "outputs": [],
   "source": [
    "#nested if else syntax\n",
    "# if <condition>:\n",
    "#     if <conditon>:\n",
    "#         <operation>\n",
    "#     else:\n",
    "#           <operation>\n",
    "# else:\n",
    "#      if <conditon>:\n",
    "#         <operation>\n",
    "#      else:\n",
    "#         <operation>\n"
   ]
  },
  {
   "cell_type": "code",
   "execution_count": null,
   "id": "10b9a0c2-cc10-4ef1-a8a7-982ed766a5bd",
   "metadata": {},
   "outputs": [],
   "source": [
    "n = int(input(\"Enter number:\"))\n",
    "if n>=0:\n",
    "    if n%2==0:\n",
    "        print(\"The number is postitive and even\")\n",
    "    else:\n",
    "        print(\"The number is positive and odd\")\n",
    "else:\n",
    "    if n%2==0:\n",
    "        print(\"The number is negative and even\")\n",
    "    else:\n",
    "        print(\"The number is negative and odd\")"
   ]
  },
  {
   "cell_type": "code",
   "execution_count": null,
   "id": "b137aa23-4574-4f42-aaa6-cf5296479484",
   "metadata": {},
   "outputs": [],
   "source": [
    "#Chain Condition Syntax\n",
    "# if <condition>:\n",
    "#     if <conditon>:\n",
    "#         if <conditon>:\n",
    "#                 <operation>\n",
    "#     else:\n",
    "#           <operation>\n",
    "# else:\n",
    "#      if <conditon>:\n",
    "#         <operation>\n",
    "#      else:\n",
    "#         <operation>\n"
   ]
  },
  {
   "cell_type": "code",
   "execution_count": null,
   "id": "68d64a82-84ab-4df4-beb1-d4903fa3f44c",
   "metadata": {},
   "outputs": [],
   "source": []
  }
 ],
 "metadata": {
  "kernelspec": {
   "display_name": "Python [conda env:base] *",
   "language": "python",
   "name": "conda-base-py"
  },
  "language_info": {
   "codemirror_mode": {
    "name": "ipython",
    "version": 3
   },
   "file_extension": ".py",
   "mimetype": "text/x-python",
   "name": "python",
   "nbconvert_exporter": "python",
   "pygments_lexer": "ipython3",
   "version": "3.12.7"
  }
 },
 "nbformat": 4,
 "nbformat_minor": 5
}
