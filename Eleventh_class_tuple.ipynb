{
 "cells": [
  {
   "cell_type": "code",
   "execution_count": 33,
   "id": "3b86c300-26e2-403f-a3d0-bc0bdc809826",
   "metadata": {},
   "outputs": [],
   "source": [
    "# Tuple\n",
    "# -Indexing\n",
    "# -Ordered\n",
    "# -Multiple and duplicate\n",
    "# -Immutable\n",
    "# used for static data(data that is not changed/remains same for long span of time or all time)\n",
    "#usually pre-defined rather than user-defined"
   ]
  },
  {
   "cell_type": "code",
   "execution_count": 2,
   "id": "764e9f44-a1bc-41be-ad3d-8ce4a1876f76",
   "metadata": {},
   "outputs": [
    {
     "name": "stdout",
     "output_type": "stream",
     "text": [
      "<class 'tuple'>\n"
     ]
    }
   ],
   "source": [
    "t = (1, 2, 3, 4, 5, 6, 7)\n",
    "print(type(t))"
   ]
  },
  {
   "cell_type": "code",
   "execution_count": 5,
   "id": "c0db863f-5524-46d4-b2c4-763e08389dc3",
   "metadata": {},
   "outputs": [
    {
     "name": "stdout",
     "output_type": "stream",
     "text": [
      "<class 'tuple'>\n",
      "<class 'str'>\n"
     ]
    }
   ],
   "source": [
    "t = (\"Apple\", \"Ball\")\n",
    "s = (\"Apple\")\n",
    "print(type(t))\n",
    "print(type(s))"
   ]
  },
  {
   "cell_type": "code",
   "execution_count": 6,
   "id": "a4c4f631-f08a-4746-80c0-0cc271be079d",
   "metadata": {},
   "outputs": [
    {
     "name": "stdout",
     "output_type": "stream",
     "text": [
      "<class 'tuple'>\n"
     ]
    }
   ],
   "source": [
    "t = (\"Apple\", )\n",
    "print(type(t))\n"
   ]
  },
  {
   "cell_type": "code",
   "execution_count": 11,
   "id": "fc36e48f-4bc7-4c9d-847d-4faca48279e2",
   "metadata": {},
   "outputs": [
    {
     "name": "stdout",
     "output_type": "stream",
     "text": [
      "Apple\n",
      "Ball\n",
      "Cat\n",
      "('Ball', 'Cat')\n"
     ]
    }
   ],
   "source": [
    "#Indexing\n",
    "t = (\"Apple\", \"Ball\", \"Cat\", \"Dog\")\n",
    "print(t[0])\n",
    "print(t[1])\n",
    "print(t[2])\n",
    "print(t[1:3])"
   ]
  },
  {
   "cell_type": "code",
   "execution_count": 12,
   "id": "08995832-a3c9-4836-bb5d-a0ddee3b820c",
   "metadata": {},
   "outputs": [
    {
     "name": "stdout",
     "output_type": "stream",
     "text": [
      "('Apple', 'Ball', 'Cat', 'Dog', 'Apple')\n"
     ]
    }
   ],
   "source": [
    "#Duplicate\n",
    "t = (\"Apple\", \"Ball\", \"Cat\", \"Dog\", \"Apple\")\n",
    "print(t)"
   ]
  },
  {
   "cell_type": "code",
   "execution_count": 13,
   "id": "f3c2d2c5-949a-42b6-ab7b-8d8e040ea8d9",
   "metadata": {},
   "outputs": [],
   "source": [
    "# NO append(), insert(), extend()\n",
    "# NO update, del, pop(), remove(), sort(), reverse()"
   ]
  },
  {
   "cell_type": "code",
   "execution_count": 15,
   "id": "9b0fbf52-2def-4360-9c22-30059c281905",
   "metadata": {},
   "outputs": [
    {
     "name": "stdin",
     "output_type": "stream",
     "text": [
      "Enter n = 5\n",
      "Enter x= 4\n",
      "Enter x= 3\n",
      "Enter x= 6\n",
      "Enter x= 2\n",
      "Enter x= 6\n"
     ]
    },
    {
     "name": "stdout",
     "output_type": "stream",
     "text": [
      "(4, 3, 6, 2, 6)\n"
     ]
    }
   ],
   "source": [
    "#Create:\n",
    "\n",
    "t = tuple()\n",
    "n = int(input(\"Enter n =\"))\n",
    "\n",
    "for i in range(n):\n",
    "    x = int(input(\"Enter x=\"))\n",
    "    t = t + (x,)\n",
    "\n",
    "print(t)"
   ]
  },
  {
   "cell_type": "code",
   "execution_count": 17,
   "id": "e19eaa7b-a794-4986-99dd-f21ac782b492",
   "metadata": {},
   "outputs": [
    {
     "name": "stdout",
     "output_type": "stream",
     "text": [
      "6\n",
      "2\n",
      "21\n"
     ]
    }
   ],
   "source": [
    "print(max(t))\n",
    "print(min(t))\n",
    "print(sum(t))"
   ]
  },
  {
   "cell_type": "code",
   "execution_count": 21,
   "id": "c6de1ac5-0491-460b-b106-a3592efc6759",
   "metadata": {},
   "outputs": [
    {
     "name": "stdout",
     "output_type": "stream",
     "text": [
      "(10, 20, 30, 40, 50)\n"
     ]
    }
   ],
   "source": [
    "a = 10,20,30,40,50\n",
    "print(a)"
   ]
  },
  {
   "cell_type": "code",
   "execution_count": 28,
   "id": "5bf3fcb6-7d8e-43cc-9ea0-ea68c607326f",
   "metadata": {},
   "outputs": [
    {
     "name": "stdout",
     "output_type": "stream",
     "text": [
      "['Ball', 'Cat', 'Dog', 'Apple']\n"
     ]
    }
   ],
   "source": [
    "#converting tuple into list \n",
    "t = (\"Apple\", \"Ball\", \"Cat\", \"Dog\", \"Apple\")\n",
    "l = list(t)\n",
    "del l[0]\n",
    "\n",
    "print(l)"
   ]
  },
  {
   "cell_type": "code",
   "execution_count": 29,
   "id": "1ff10202-36d0-4a16-a8b2-b79e7f624f6b",
   "metadata": {},
   "outputs": [
    {
     "name": "stdout",
     "output_type": "stream",
     "text": [
      "('Ball', 'Cat', 'Dog', 'Apple')\n"
     ]
    }
   ],
   "source": [
    "#converting list back to tuple \n",
    "t = tuple(l)\n",
    "print(t)"
   ]
  },
  {
   "cell_type": "code",
   "execution_count": 31,
   "id": "1024983f-9c4e-49b7-ac14-e0b9849625a5",
   "metadata": {},
   "outputs": [
    {
     "name": "stdout",
     "output_type": "stream",
     "text": [
      "((1, 2, 3), (4, 5, 6), (7, 8, 9))\n",
      "3\n"
     ]
    }
   ],
   "source": [
    "# Tuple inside tuple\n",
    "\n",
    "a = ((1, 2, 3),\n",
    "    (4, 5, 6),\n",
    "     (7, 8, 9))\n",
    "print(a)\n",
    "print(a[0][2])"
   ]
  },
  {
   "cell_type": "code",
   "execution_count": null,
   "id": "e4e45398-8f03-4ffe-909b-6b803fc08145",
   "metadata": {},
   "outputs": [],
   "source": [
    "\n"
   ]
  }
 ],
 "metadata": {
  "kernelspec": {
   "display_name": "Python [conda env:base] *",
   "language": "python",
   "name": "conda-base-py"
  },
  "language_info": {
   "codemirror_mode": {
    "name": "ipython",
    "version": 3
   },
   "file_extension": ".py",
   "mimetype": "text/x-python",
   "name": "python",
   "nbconvert_exporter": "python",
   "pygments_lexer": "ipython3",
   "version": "3.12.7"
  }
 },
 "nbformat": 4,
 "nbformat_minor": 5
}
