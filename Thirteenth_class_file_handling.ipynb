{
 "cells": [
  {
   "cell_type": "code",
   "execution_count": 24,
   "id": "5ec9c88b-cce7-4a49-9fd0-3916e39489a2",
   "metadata": {},
   "outputs": [],
   "source": [
    "# File handling\n",
    "\n",
    "# Syntax1\n",
    "# file = open('<file_name>', 'model')\n",
    "# file.close()\n",
    "\n",
    "# Syntax2\n",
    "# with open('<file_name>', 'mode')as file:\n",
    "#     <operations>\n",
    "\n",
    "# Modes\n",
    "# x: create\n",
    "# r: read\n",
    "# a: append (it doesnt overwrites instead it just add new content to existing content\n",
    "# w: write (it first checks whether a file exist or not and if not it creates a new file and write in it, if a file alredy exist it overwrites the content in it)"
   ]
  },
  {
   "cell_type": "code",
   "execution_count": 1,
   "id": "bf3e571d-883d-4595-a607-9377c0c2328c",
   "metadata": {},
   "outputs": [],
   "source": [
    "#Create a file\n",
    "file = open('data.txt', 'x')\n",
    "file.close()"
   ]
  },
  {
   "cell_type": "code",
   "execution_count": 4,
   "id": "c03fa862-f338-457f-baa8-257e44a234e1",
   "metadata": {},
   "outputs": [],
   "source": [
    "#to find file's location/path:"
   ]
  },
  {
   "cell_type": "code",
   "execution_count": 5,
   "id": "57b36050-2fd7-4865-afa6-f6c168537d26",
   "metadata": {},
   "outputs": [
    {
     "data": {
      "text/plain": [
       "'C:\\\\Users\\\\Acer\\\\Python'"
      ]
     },
     "execution_count": 5,
     "metadata": {},
     "output_type": "execute_result"
    }
   ],
   "source": [
    "pwd\n"
   ]
  },
  {
   "cell_type": "code",
   "execution_count": 6,
   "id": "552e5c05-32a0-4d7b-b45f-5bfcfaba3f79",
   "metadata": {},
   "outputs": [
    {
     "name": "stdout",
     "output_type": "stream",
     "text": [
      "1 Hello World\n",
      "2 Hello World\n",
      "3 Hello World\n",
      "4 Hello World\n",
      "5 Hello World\n",
      "6 Hello World\n"
     ]
    }
   ],
   "source": [
    "#read a file\n",
    "file = open('data.txt', 'r')\n",
    "data = file.read()\n",
    "file.close()\n",
    "print(data)"
   ]
  },
  {
   "cell_type": "code",
   "execution_count": 7,
   "id": "fe5e8238-4011-4326-be4d-a09506ec447b",
   "metadata": {},
   "outputs": [
    {
     "data": {
      "text/plain": [
       "'1 Hello World\\n2 Hello World\\n3 Hello World\\n4 Hello World\\n5 Hello World\\n6 Hello World'"
      ]
     },
     "execution_count": 7,
     "metadata": {},
     "output_type": "execute_result"
    }
   ],
   "source": [
    "data"
   ]
  },
  {
   "cell_type": "code",
   "execution_count": 10,
   "id": "7e6f07f7-a2fc-4de2-a43e-6e833f5333bd",
   "metadata": {},
   "outputs": [
    {
     "data": {
      "text/plain": [
       "['1 Hello World',\n",
       " '2 Hello World',\n",
       " '3 Hello World',\n",
       " '4 Hello World',\n",
       " '5 Hello World',\n",
       " '6 Hello World']"
      ]
     },
     "execution_count": 10,
     "metadata": {},
     "output_type": "execute_result"
    }
   ],
   "source": [
    "data.split(\"\\n\")"
   ]
  },
  {
   "cell_type": "code",
   "execution_count": 14,
   "id": "887b47d5-4f76-4157-a90e-2b7ce0653e4c",
   "metadata": {},
   "outputs": [
    {
     "name": "stdin",
     "output_type": "stream",
     "text": [
      "Enter n: 6\n"
     ]
    },
    {
     "data": {
      "text/plain": [
       "'6 Hello World'"
      ]
     },
     "execution_count": 14,
     "metadata": {},
     "output_type": "execute_result"
    }
   ],
   "source": [
    "n = int(input(\"Enter n:\"))\n",
    "lines = data.split(\"\\n\")\n",
    "lines[n-1]"
   ]
  },
  {
   "cell_type": "code",
   "execution_count": 16,
   "id": "9fd5c6d1-f3d9-4b47-9f0a-89bbd9d219cc",
   "metadata": {},
   "outputs": [],
   "source": [
    "#Write in a file\n",
    "file = open('new_data.txt', 'w')\n",
    "file.write('Hello World I am Python')\n",
    "file.close()"
   ]
  },
  {
   "cell_type": "code",
   "execution_count": 47,
   "id": "85bd04cd-9649-4ba3-a0f0-751ea1b63903",
   "metadata": {},
   "outputs": [
    {
     "name": "stdin",
     "output_type": "stream",
     "text": [
      "Enter no. of inputs: 2\n",
      "Enter name of product: apple\n",
      "Enter price of product: 300\n",
      "Enter quantity of product: 4\n",
      "Enter name of product: mango\n",
      "Enter price of product: 200\n",
      "Enter quantity of product: 3\n"
     ]
    },
    {
     "name": "stdout",
     "output_type": "stream",
     "text": [
      "Product Name:apple\tPrice:300.0\tQuantity:4\tTotal:1200.0\n",
      "Product Name:mango\tPrice:200.0\tQuantity:3\tTotal:600.0\n",
      "\n"
     ]
    }
   ],
   "source": [
    "#create billing system\n",
    "#product name?, price?, quantity?, total?\n",
    "bill = \"\"\n",
    "final_total = 0\n",
    "n = int(input(\"Enter no. of inputs:\"))\n",
    "for i in range(n):\n",
    "    product = input(\"Enter name of product:\")\n",
    "    price = float(input(\"Enter price of product:\"))\n",
    "    quantity = int(input(\"Enter quantity of product:\"))\n",
    "    total = quantity * price\n",
    "    final_total = final_total + total\n",
    "    bill =  bill + f\"Product Name:{product}\\tPrice:{price}\\tQuantity:{quantity}\\tTotal:{total}\\n\"\n",
    "print(bill)\n",
    "\n",
    "file = open('bill.txt', 'a')\n",
    "file.write(bill)\n",
    "file.close()"
   ]
  },
  {
   "cell_type": "code",
   "execution_count": 48,
   "id": "5d9bd7f7-022e-435a-a572-e11124ad82a3",
   "metadata": {},
   "outputs": [
    {
     "data": {
      "text/plain": [
       "'Product Name:apple\\tPrice:300.0\\tQuantity:4\\tTotal:1200.0\\nProduct Name:mango\\tPrice:200.0\\tQuantity:3\\tTotal:600.0\\n'"
      ]
     },
     "execution_count": 48,
     "metadata": {},
     "output_type": "execute_result"
    }
   ],
   "source": [
    "file = open('bill.txt', 'r')\n",
    "data = file.read()\n",
    "file.close()\n",
    "data"
   ]
  },
  {
   "cell_type": "code",
   "execution_count": 49,
   "id": "9c1b8988-42ee-44c7-8767-f94b4a3a1a9e",
   "metadata": {},
   "outputs": [
    {
     "name": "stdout",
     "output_type": "stream",
     "text": [
      "['Product Name:apple', 'Price:300.0', 'Quantity:4', 'Total:1200.0']\n",
      "['Product Name:mango', 'Price:200.0', 'Quantity:3', 'Total:600.0']\n"
     ]
    },
    {
     "data": {
      "text/plain": [
       "[['Product Name:apple', 'Price:300.0', 'Quantity:4', 'Total:1200.0'],\n",
       " ['Product Name:mango', 'Price:200.0', 'Quantity:3', 'Total:600.0']]"
      ]
     },
     "execution_count": 49,
     "metadata": {},
     "output_type": "execute_result"
    }
   ],
   "source": [
    "final_list = []\n",
    "data_list = data.split(\"\\n\")[0:-1]\n",
    "\n",
    "for i in data_list:\n",
    "    x = i.split(\"\\t\")\n",
    "    print(x)\n",
    "    final_list.append(x)\n",
    "\n",
    "final_list"
   ]
  },
  {
   "cell_type": "code",
   "execution_count": 51,
   "id": "c7723bad-b702-403f-9e7f-5eee7ad124e1",
   "metadata": {},
   "outputs": [
    {
     "name": "stdin",
     "output_type": "stream",
     "text": [
      "Enter no. of inputs: 2\n",
      "Enter name of product: apple\n",
      "Enter price of product: 300\n",
      "Enter quantity of product: 5\n",
      "Enter name of product: mango\n",
      "Enter price of product: 250\n",
      "Enter quantity of product: 9\n"
     ]
    },
    {
     "name": "stdout",
     "output_type": "stream",
     "text": [
      "apple,300.0,5,1500.0\n",
      "mango,250.0,9,2250.0\n",
      "\n"
     ]
    }
   ],
   "source": [
    "#create billing system\n",
    "#product name?, price?, quantity?, total?\n",
    "bill = \"\"\n",
    "final_total = 0\n",
    "n = int(input(\"Enter no. of inputs:\"))\n",
    "for i in range(n):\n",
    "    product = input(\"Enter name of product:\")\n",
    "    price = float(input(\"Enter price of product:\"))\n",
    "    quantity = int(input(\"Enter quantity of product:\"))\n",
    "    total = quantity * price\n",
    "    final_total = final_total + total\n",
    "    bill =  bill + f\"{product},{price},{quantity},{total}\\n\"\n",
    "print(bill)\n",
    "\n",
    "file = open('bill.csv', 'w')\n",
    "file.write('Product Name, Price, Quantity, Total\\n')\n",
    "file.write(bill)\n",
    "file.close()"
   ]
  },
  {
   "cell_type": "code",
   "execution_count": 64,
   "id": "c19196bf-d8cb-4c60-95fb-2c28deed30ef",
   "metadata": {},
   "outputs": [
    {
     "data": {
      "text/plain": [
       "41"
      ]
     },
     "execution_count": 64,
     "metadata": {},
     "output_type": "execute_result"
    }
   ],
   "source": [
    "#to append new data in csv file\n",
    "file = open('append_bill.csv', 'a')\n",
    "file.write('SN, Product Name, Price, Quantity, Total\\n')"
   ]
  },
  {
   "cell_type": "code",
   "execution_count": 62,
   "id": "98fb5d0c-88ee-40bc-ba24-9d917591dcc2",
   "metadata": {},
   "outputs": [
    {
     "name": "stdin",
     "output_type": "stream",
     "text": [
      "Enter no. of inputs: 4\n",
      "Enter name of product: apple\n",
      "Enter price of product: 500\n",
      "Enter quantity of product: 4\n",
      "Enter name of product: banana\n",
      "Enter price of product: 400\n",
      "Enter quantity of product: 6\n",
      "Enter name of product: orange\n",
      "Enter price of product: 350\n",
      "Enter quantity of product: 5\n",
      "Enter name of product: lime\n",
      "Enter price of product: 100\n",
      "Enter quantity of product: 3\n"
     ]
    },
    {
     "name": "stdout",
     "output_type": "stream",
     "text": [
      "1,apple,500.0,4,2000.0\n",
      "2,banana,400.0,6,2400.0\n",
      "3,orange,350.0,5,1750.0\n",
      "4,lime,100.0,3,300.0\n",
      "\n"
     ]
    },
    {
     "data": {
      "text/plain": [
       "92"
      ]
     },
     "execution_count": 62,
     "metadata": {},
     "output_type": "execute_result"
    }
   ],
   "source": [
    "#create billing system\n",
    "#product name?, price?, quantity?, total?\n",
    "bill = \"\"\n",
    "final_total = 0\n",
    "n = int(input(\"Enter no. of inputs:\"))\n",
    "for i in range(1, n+1):\n",
    "    product = input(\"Enter name of product:\")\n",
    "    price = float(input(\"Enter price of product:\"))\n",
    "    quantity = int(input(\"Enter quantity of product:\"))\n",
    "    total = quantity * price\n",
    "    final_total = final_total + total\n",
    "    bill =  bill + f\"{i},{product},{price},{quantity},{total}\\n\"\n",
    "print(bill)\n",
    "\n",
    "\n",
    "file.write(bill)\n"
   ]
  },
  {
   "cell_type": "code",
   "execution_count": 63,
   "id": "16406618-e2c1-499d-8ba4-0feb684cf367",
   "metadata": {},
   "outputs": [],
   "source": [
    "file.close()"
   ]
  },
  {
   "cell_type": "code",
   "execution_count": null,
   "id": "272e4f4a-6c4b-44ba-9125-e24d4f84255a",
   "metadata": {},
   "outputs": [],
   "source": []
  }
 ],
 "metadata": {
  "kernelspec": {
   "display_name": "Python [conda env:base] *",
   "language": "python",
   "name": "conda-base-py"
  },
  "language_info": {
   "codemirror_mode": {
    "name": "ipython",
    "version": 3
   },
   "file_extension": ".py",
   "mimetype": "text/x-python",
   "name": "python",
   "nbconvert_exporter": "python",
   "pygments_lexer": "ipython3",
   "version": "3.12.7"
  }
 },
 "nbformat": 4,
 "nbformat_minor": 5
}
